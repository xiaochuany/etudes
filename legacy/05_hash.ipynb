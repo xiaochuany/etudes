{
 "cells": [
  {
   "cell_type": "markdown",
   "id": "de191feb-0127-4790-bc1f-9fc6f089a463",
   "metadata": {},
   "source": [
    "# hashmap hashset\n",
    "\n",
    "- Leetcode 1. Two Sum\n",
    "- Leetcode 146. LRU Cache (can use OrderedDict)\n",
    "- Leetcode 128. Longest Consecutive Sequence\n",
    "- Leetcode 73. Set Matrix Zeroes\n",
    "- Leetcode 380. Insert Delete GetRandom O(1)\n",
    "- Leetcode 49. Group Anagrams\n",
    "- Leetcode 350. Intersection of Two Arrays II\n",
    "- Leetcode 299. Bulls and Cows\n",
    "- Leetcode 348 Design Tic-Tac-Toe\n"
   ]
  },
  {
   "cell_type": "code",
   "execution_count": 23,
   "id": "22655828-bd90-490c-8b01-03251306ed81",
   "metadata": {},
   "outputs": [],
   "source": [
    "from typing import List"
   ]
  },
  {
   "cell_type": "markdown",
   "id": "ce30e618-4a31-47eb-a011-f27bce9a8b95",
   "metadata": {},
   "source": [
    "## 146 LRU"
   ]
  },
  {
   "cell_type": "code",
   "execution_count": 20,
   "id": "71d3bf09-8749-4be7-9133-62b8c9f5194b",
   "metadata": {},
   "outputs": [],
   "source": [
    "class LRUCache:\n",
    "\n",
    "    def __init__(self, capacity: int):\n",
    "        self.capacity = capacity\n",
    "        self.cache = dict()\n",
    "        \n",
    "    def get(self, key: int) -> int:\n",
    "        if key in self.cache:\n",
    "            return self.cache[key]\n",
    "        else:\n",
    "            return -1\n",
    "\n",
    "    def put(self, key: int, value: int) -> None:\n",
    "        if key not in self.cache and len(self.cache) == self.capacity:\n",
    "            k=next(iter(self.cache))\n",
    "            self.cache.pop(k)\n",
    "        self.cache[key] = value"
   ]
  },
  {
   "cell_type": "markdown",
   "id": "91b8c4e8-25a6-4ea1-96b8-7e7692647435",
   "metadata": {},
   "source": [
    "##  128. Longest Consecutive Sequence\n",
    "\n",
    "Given an unsorted array of integers nums, return the length of the longest consecutive elements sequence.\r\n",
    "\r\n",
    "You must write an algorithm that runs in O(n) time."
   ]
  },
  {
   "cell_type": "code",
   "execution_count": 5,
   "id": "417ec74f-6ede-48ab-90e7-1e3b59820d60",
   "metadata": {},
   "outputs": [],
   "source": [
    "from typing import List\n",
    "\n",
    "def longestConsecutive(nums: List[int]) -> int:\n",
    "    hashset = set(nums)\n",
    "    streak = 0\n",
    "    \n",
    "    for el in hashset:\n",
    "        if el-1 not in hashset:\n",
    "            curr = el\n",
    "            curr_len = 1 \n",
    "            while curr+1 in hashset:\n",
    "                curr_len += 1\n",
    "                curr += 1\n",
    "            streak = max(streak, curr_len)\n",
    "    return streak"
   ]
  },
  {
   "cell_type": "code",
   "execution_count": 7,
   "id": "8b02b52f-a764-4712-b4c9-ceb91ecbc849",
   "metadata": {},
   "outputs": [
    {
     "data": {
      "text/plain": [
       "5"
      ]
     },
     "execution_count": 7,
     "metadata": {},
     "output_type": "execute_result"
    }
   ],
   "source": [
    "longestConsecutive([0,1,2,4,3])"
   ]
  },
  {
   "cell_type": "markdown",
   "id": "b32909d8-37ca-4734-9d6f-0e959f1c93ea",
   "metadata": {},
   "source": [
    "## 73 set zeros"
   ]
  },
  {
   "cell_type": "code",
   "execution_count": 14,
   "id": "7dd3bd77-1c7b-41cd-b239-6c99f0267447",
   "metadata": {},
   "outputs": [],
   "source": [
    "def setZeroes(matrix: List[List[int]]) -> None:\n",
    "        \"\"\"\n",
    "        Do not return anything, modify matrix in-place instead.\n",
    "        \"\"\"\n",
    "\n",
    "        row_idx = set()\n",
    "        col_idx = set()\n",
    "        for i, row in enumerate(matrix):\n",
    "            for j,val in enumerate(row):\n",
    "                if val==0:\n",
    "                    row_idx.add(i)\n",
    "                    col_idx.add(j)\n",
    "        for i,row in enumerate(matrix):\n",
    "            for j,val in enumerate(row):\n",
    "                if i in row_idx or j in col_idx:\n",
    "                    matrix[i][j]=0\n",
    "\n",
    "        return matrix"
   ]
  },
  {
   "cell_type": "code",
   "execution_count": 24,
   "id": "4d68e9d6-0e28-47a1-8442-6db8f28f47fa",
   "metadata": {},
   "outputs": [],
   "source": [
    "import numpy as np\n",
    "matrix = np.random.choice(2,p=(0.01,0.99),size=(1000,1000)).tolist()"
   ]
  },
  {
   "cell_type": "code",
   "execution_count": 25,
   "id": "f79451a6-9b17-4414-92b4-05f6c9703a17",
   "metadata": {},
   "outputs": [
    {
     "name": "stdout",
     "output_type": "stream",
     "text": [
      "175 ms ± 7.9 ms per loop (mean ± std. dev. of 7 runs, 10 loops each)\n"
     ]
    }
   ],
   "source": [
    "%%timeit\n",
    "setZeroes(matrix)"
   ]
  },
  {
   "cell_type": "code",
   "execution_count": 26,
   "id": "c7cc668e-937e-4c61-85fd-6448e18c127c",
   "metadata": {},
   "outputs": [],
   "source": [
    "def setZeroes(matrix: List[List[int]]) -> None:\n",
    "    row_idx = set()\n",
    "    col_idx = set()\n",
    "    for i, row in enumerate(matrix):\n",
    "        for j,val in enumerate(row):\n",
    "            if val==0:\n",
    "                row_idx.add(i)\n",
    "                col_idx.add(j)\n",
    "    \n",
    "    m = len(matrix)\n",
    "    n = len(matrix[0])\n",
    "\n",
    "    for i in row_idx:\n",
    "        matrix[i]=[0]*n\n",
    "    for j in col_idx:\n",
    "        for i in range(m):\n",
    "            matrix[i][j]=0\n",
    "    return matrix"
   ]
  },
  {
   "cell_type": "code",
   "execution_count": 27,
   "id": "7c0ce996-8be2-4517-ab18-a66268a73a26",
   "metadata": {},
   "outputs": [
    {
     "name": "stdout",
     "output_type": "stream",
     "text": [
      "138 ms ± 4.72 ms per loop (mean ± std. dev. of 7 runs, 10 loops each)\n"
     ]
    }
   ],
   "source": [
    "%%timeit\n",
    "setZeroes(matrix)"
   ]
  },
  {
   "cell_type": "code",
   "execution_count": 57,
   "id": "1be34d85-fd41-4c63-955e-abf0aa9147e0",
   "metadata": {},
   "outputs": [],
   "source": [
    "matrix = np.random.choice(2,p=(0.01,0.99),size=(1000,1000))\n",
    "\n",
    "def setZeroes(matrix):\n",
    "        zeros = (matrix == 0)\n",
    "        m = matrix.copy()\n",
    "        for i in range(m.shape[0]):\n",
    "            if zeros[i].any():\n",
    "                m[i] = 0\n",
    "        for j in range(m.shape[1]):\n",
    "            if zeros[:, j].any():\n",
    "                m[:, j] = 0\n",
    "        return m"
   ]
  },
  {
   "cell_type": "code",
   "execution_count": 58,
   "id": "85cb5c25-d514-4d75-ad23-61a1acc6d5b4",
   "metadata": {},
   "outputs": [
    {
     "name": "stdout",
     "output_type": "stream",
     "text": [
      "6.71 ms ± 138 µs per loop (mean ± std. dev. of 7 runs, 100 loops each)\n"
     ]
    }
   ],
   "source": [
    "%%timeit\n",
    "setZeroes(matrix)"
   ]
  },
  {
   "cell_type": "markdown",
   "id": "64d22c91-511c-4972-9d2b-a865569bdeeb",
   "metadata": {},
   "source": [
    "## 380. Insert Delete GetRandom O(1)"
   ]
  },
  {
   "cell_type": "code",
   "execution_count": 53,
   "id": "b4c531ec-f38d-4906-b085-0bdc30e1dc4e",
   "metadata": {},
   "outputs": [],
   "source": [
    "class RandomizedSet:\n",
    "\n",
    "    def __init__(self):\n",
    "        self.vtoi = {}\n",
    "        self.vals = []\n",
    "\n",
    "    def insert(self, val: int) -> bool:\n",
    "        if val in self.vtoi:\n",
    "            return False\n",
    "        else:\n",
    "            self.vtoi[val] = len(self.vals)\n",
    "            self.vals.append(val)\n",
    "            return True\n",
    "\n",
    "    def remove(self, val: int) -> bool:\n",
    "        if val in self.vtoi:\n",
    "            self.vals[self.vtoi[val]] = self.vals[-1]\n",
    "            self.vtoi[self.vals[-1]] = self.vtoi[val]\n",
    "            self.vals.pop()\n",
    "            self.vtoi.pop(val)\n",
    "            return True\n",
    "        else:\n",
    "            return False\n",
    "\n",
    "    def getRandom(self) -> int:\n",
    "        return random.choice(self.vals)"
   ]
  },
  {
   "cell_type": "code",
   "execution_count": 56,
   "id": "786aa94d-174a-4dc6-a42d-af9fa4e86925",
   "metadata": {},
   "outputs": [
    {
     "data": {
      "text/plain": [
       "'n'"
      ]
     },
     "execution_count": 56,
     "metadata": {},
     "output_type": "execute_result"
    }
   ],
   "source": [
    "rs = RandomizedSet()\n",
    "for c in 'python':\n",
    "    rs.insert(c)\n",
    "for c in 'pythoa':\n",
    "    rs.remove(c)\n",
    "rs.getRandom()"
   ]
  },
  {
   "cell_type": "code",
   "execution_count": 55,
   "id": "2a7a7f8f-9d2f-4a94-9555-b6e04d63b0e6",
   "metadata": {},
   "outputs": [
    {
     "data": {
      "text/plain": [
       "({'n': 0}, ['n'])"
      ]
     },
     "execution_count": 55,
     "metadata": {},
     "output_type": "execute_result"
    }
   ],
   "source": [
    "rs.vtoi, rs.vals"
   ]
  },
  {
   "cell_type": "markdown",
   "id": "c1141ad9-1d64-4698-b630-532107c4395f",
   "metadata": {},
   "source": [
    "## 49. Group Anagrams"
   ]
  },
  {
   "cell_type": "code",
   "execution_count": 12,
   "id": "5c03f82c-8571-4d1e-b4fa-390fad12a58c",
   "metadata": {},
   "outputs": [],
   "source": [
    "from collections import defaultdict\n",
    "\n",
    "def groupAnagram(strs):\n",
    "    d = defaultdict(list)\n",
    "    for el in strs:\n",
    "        d[tuple(sorted(el))].append(el)\n",
    "    return [v for v in d.values()]"
   ]
  },
  {
   "cell_type": "code",
   "execution_count": 13,
   "id": "caa21ec5-1055-4490-ae4f-669354d961dc",
   "metadata": {},
   "outputs": [
    {
     "data": {
      "text/plain": [
       "[['eat', 'tea', 'ate'], ['tan', 'nat'], ['bat']]"
      ]
     },
     "execution_count": 13,
     "metadata": {},
     "output_type": "execute_result"
    }
   ],
   "source": [
    "groupAnagram([\"eat\",\"tea\",\"tan\",\"ate\",\"nat\",\"bat\"])"
   ]
  },
  {
   "cell_type": "markdown",
   "id": "1197b38f-975c-446a-81ba-68489c2f3dc2",
   "metadata": {},
   "source": [
    "## 350. Intersection of Two Arrays II"
   ]
  },
  {
   "cell_type": "code",
   "execution_count": 22,
   "id": "ed576450-2485-482e-b99f-0298bf67a369",
   "metadata": {},
   "outputs": [],
   "source": [
    "from collections import Counter\n",
    "\n",
    "def ita(nums1,nums2):\n",
    "    c = Counter(nums1)&Counter(nums2) \n",
    "    return [k for k,v in c.items() for _ in range(v)]"
   ]
  },
  {
   "cell_type": "code",
   "execution_count": 37,
   "id": "e720feb1-2746-40cc-90b4-da84681973cf",
   "metadata": {},
   "outputs": [],
   "source": [
    "import numpy as np\n",
    "a = np.random.choice(1000, (1000,)).tolist()\n",
    "b = np.random.choice(1000, (1000,)).tolist()"
   ]
  },
  {
   "cell_type": "code",
   "execution_count": 38,
   "id": "30a06ddb-91eb-43e8-932d-19cf30912e94",
   "metadata": {},
   "outputs": [
    {
     "name": "stdout",
     "output_type": "stream",
     "text": [
      "402 µs ± 32.7 µs per loop (mean ± std. dev. of 7 runs, 1,000 loops each)\n"
     ]
    }
   ],
   "source": [
    "%%timeit\n",
    "ita(a,b)"
   ]
  },
  {
   "cell_type": "markdown",
   "id": "f42dc77f-42a5-404a-984f-fc60ed93bd3d",
   "metadata": {},
   "source": [
    "## 299 bulls and cows"
   ]
  },
  {
   "cell_type": "code",
   "execution_count": 40,
   "id": "128139b7-8a22-48a2-9e26-919a408d943b",
   "metadata": {},
   "outputs": [],
   "source": [
    "def getHint(secret: str, guess: str) -> str:\n",
    "        A=B=0\n",
    "        s = defaultdict(list)\n",
    "        t = defaultdict(list)\n",
    "        for i in range(10):\n",
    "            for idx,el in enumerate(secret):\n",
    "                if int(el)==i:\n",
    "                    s[i].append(idx)\n",
    "        for i in range(10):\n",
    "            for idx,el in enumerate(guess):\n",
    "                if int(el)==i:\n",
    "                    t[i].append(idx)\n",
    "        \n",
    "        def ita(nums1,nums2):\n",
    "            c = Counter(nums1)&Counter(nums2) \n",
    "            return [k for k,v in c.items() for _ in range(v)]\n",
    "        \n",
    "        for i in range(10):\n",
    "            A+=len(ita(s[i],t[i]))\n",
    "            B+= min(len(t[i]), len(s[i])) - len(ita(s[i],t[i]))\n",
    "        return f'{A}A{B}B'"
   ]
  },
  {
   "cell_type": "code",
   "execution_count": 53,
   "id": "3c9d493d-ab74-4ac3-8833-585abdae129e",
   "metadata": {},
   "outputs": [],
   "source": [
    "def getHint(secret: str, guess: str) -> str:\n",
    "        A=B=0\n",
    "        s = defaultdict(set)\n",
    "        for digit in range(10):\n",
    "            for idx,el in enumerate(secret):\n",
    "                if int(el)==digit:\n",
    "                    s[digit].add(idx)\n",
    "                    \n",
    "        t = defaultdict(set)\n",
    "        for digit in range(10):\n",
    "            for idx,el in enumerate(guess):\n",
    "                if int(el)==digit:\n",
    "                    t[digit].add(idx)\n",
    "\n",
    "        for i in range(10):\n",
    "            A += len(t[i]&s[i])\n",
    "            B += min(len(t[i]), len(s[i])) - len(t[i]&s[i])\n",
    "        \n",
    "        return f'{A}A{B}B'"
   ]
  },
  {
   "cell_type": "code",
   "execution_count": 66,
   "id": "2eeb4171-5d17-4da0-a406-69ddb5e3a1a3",
   "metadata": {},
   "outputs": [],
   "source": [
    "def getHint(secret: str, guess: str) -> str:\n",
    "        A = 0\n",
    "        for i, (a,b) in enumerate(zip(secret, guess)):\n",
    "            if a==b:\n",
    "                A += 1\n",
    "        B = sum((Counter(secret)&Counter(guess)).values()) - A\n",
    "        return f'{A}A{B}B'"
   ]
  },
  {
   "cell_type": "code",
   "execution_count": 67,
   "id": "6bbdfde4-540f-4824-9f10-565308f5452b",
   "metadata": {},
   "outputs": [
    {
     "data": {
      "text/plain": [
       "'1A1B'"
      ]
     },
     "execution_count": 67,
     "metadata": {},
     "output_type": "execute_result"
    }
   ],
   "source": [
    "getHint('1123','0111')"
   ]
  },
  {
   "cell_type": "code",
   "execution_count": null,
   "id": "615e85a4-e5e4-4a4c-8a62-c606dea29253",
   "metadata": {},
   "outputs": [],
   "source": []
  }
 ],
 "metadata": {
  "kernelspec": {
   "display_name": "Python 3 (ipykernel)",
   "language": "python",
   "name": "python3"
  },
  "language_info": {
   "codemirror_mode": {
    "name": "ipython",
    "version": 3
   },
   "file_extension": ".py",
   "mimetype": "text/x-python",
   "name": "python",
   "nbconvert_exporter": "python",
   "pygments_lexer": "ipython3",
   "version": "3.11.4"
  }
 },
 "nbformat": 4,
 "nbformat_minor": 5
}
