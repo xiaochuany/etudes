{
 "cells": [
  {
   "cell_type": "markdown",
   "id": "11bfd1bb-3781-489e-b341-886fea5780b5",
   "metadata": {},
   "source": [
    "# heap\n",
    "\n",
    "- Leetcode 973. K Closest Points\n",
    "- Leetcode 347. Top k Largest Elements\n",
    "- Leetcode 23. Merge K Sorted Lists\n",
    "- ***Leetcode 264. Ugly Number II***\n",
    "- Leetcode 1086. High Five\n",
    "- Leetcode 88. Merge Sorted Arrays\n",
    "- Leetcode 692. Top K Frequent Words\n",
    "- Leetcode 378. Kth Smallest Element in a Sorted Matrix\n",
    "- Leetcode 295. Find Median from Data Stream （标准解法是双heap，但是SortedDict会非常容易）\n",
    "- Leetcode 767. Reorganize String\n",
    "- Leetcode 1438. Longest Continuous Subarray With Absolute Diff Less Than or Equal to Limit (这个题用单调双端队列、TreeMap、双heap都可以)\n",
    "- Leetcode 895. Maximum Frequency Stack"
   ]
  },
  {
   "cell_type": "markdown",
   "id": "e8935481-a9f4-4887-8c33-dfb961398b18",
   "metadata": {},
   "source": [
    "## 973 K closest points"
   ]
  },
  {
   "cell_type": "code",
   "execution_count": 5,
   "id": "00e5a552-0405-4265-a612-13a05079a8a0",
   "metadata": {},
   "outputs": [
    {
     "data": {
      "text/plain": [
       "[[1, 2], [3, 0]]"
      ]
     },
     "execution_count": 5,
     "metadata": {},
     "output_type": "execute_result"
    }
   ],
   "source": [
    "a = [1,2]\n",
    "b = [3,0]\n",
    "sorted([a,b], key = lambda x: x[0]**2+x[1]**2 )"
   ]
  },
  {
   "cell_type": "markdown",
   "id": "1d1efd76-60dd-49b3-81df-4f92544b3f92",
   "metadata": {},
   "source": [
    "## 347 K most frequent"
   ]
  },
  {
   "cell_type": "code",
   "execution_count": 3,
   "id": "faf4c9d7-0329-432c-9694-9b68aac11bd5",
   "metadata": {},
   "outputs": [],
   "source": [
    "from collections import Counter\n",
    "c = Counter([1,2,2,2,3,3,4,4,5,1])"
   ]
  },
  {
   "cell_type": "code",
   "execution_count": 11,
   "id": "7c6e64a8-f7d4-4fdb-8a5d-15e5947e7d21",
   "metadata": {},
   "outputs": [
    {
     "data": {
      "text/plain": [
       "[2, 1]"
      ]
     },
     "execution_count": 11,
     "metadata": {},
     "output_type": "execute_result"
    }
   ],
   "source": [
    "[el for el, f in sorted(c.items(), key = lambda x: x[1], reverse=True)][:2]"
   ]
  },
  {
   "cell_type": "markdown",
   "id": "53b59d03-2378-4279-ae15-2dd262712790",
   "metadata": {},
   "source": [
    "## 23. Merge K Sorted Lists"
   ]
  },
  {
   "cell_type": "code",
   "execution_count": 1,
   "id": "ab58bf9f-0e05-4ccf-aaf6-9053e54a1f5f",
   "metadata": {},
   "outputs": [],
   "source": [
    "import random\n",
    "from typing import Optional\n",
    "\n",
    "class ListNode:\n",
    "    def __init__(self, x=0, next=None):\n",
    "        self.val = x\n",
    "        self.next = next\n",
    "\n",
    "# helpers\n",
    "def generate(k: int, a=1, b=10) -> ListNode:\n",
    "    head = curr = ListNode(random.randint(a,b))\n",
    "    for _ in range(k):\n",
    "        curr.next = ListNode(random.randint(a,b))\n",
    "        curr = curr.next\n",
    "    return head.next\n",
    "\n",
    "def pprint(head: ListNode):\n",
    "    run = head\n",
    "    while run:\n",
    "        print(run.val, end=' ')\n",
    "        run = run.next\n",
    "    print('\\n--------------------------')\n",
    "\n",
    "def gettail(head: ListNode) -> ListNode:\n",
    "    tail = head\n",
    "    while tail:\n",
    "        if tail.next is None:\n",
    "            break\n",
    "        tail = tail.next\n",
    "    return tail"
   ]
  },
  {
   "cell_type": "code",
   "execution_count": 2,
   "id": "c2f773ce-bda4-47e8-aa29-079128f8d326",
   "metadata": {},
   "outputs": [],
   "source": [
    "def mergek(lists):\n",
    "    nums = []\n",
    "    for l in lists: \n",
    "        while l:\n",
    "            nums.append(l.val)\n",
    "            l = l.next\n",
    "    nums = sorted(nums)\n",
    "    dummy = curr = ListNode(0)\n",
    "    for val in nums:\n",
    "        curr.next = ListNode(val)\n",
    "        curr = curr.next\n",
    "    return dummy.next"
   ]
  },
  {
   "cell_type": "code",
   "execution_count": 3,
   "id": "02d5f459-ecf3-4497-910d-9e17503c3ca1",
   "metadata": {
    "scrolled": true
   },
   "outputs": [],
   "source": [
    "lists = [generate(k*1000) for k in range(10)]"
   ]
  },
  {
   "cell_type": "code",
   "execution_count": 4,
   "id": "fb49d1d5-54d9-441c-a658-cf06a86d7bd4",
   "metadata": {
    "scrolled": true
   },
   "outputs": [
    {
     "name": "stdout",
     "output_type": "stream",
     "text": [
      "22.3 ms ± 1.87 ms per loop (mean ± std. dev. of 7 runs, 10 loops each)\n"
     ]
    }
   ],
   "source": [
    "%timeit mergek(lists)"
   ]
  },
  {
   "cell_type": "code",
   "execution_count": 5,
   "id": "e1fe828a-7e26-41ef-a887-afbe74adfe03",
   "metadata": {},
   "outputs": [],
   "source": [
    "from heapq import heappush, heappop\n",
    "import heapq"
   ]
  },
  {
   "cell_type": "code",
   "execution_count": 7,
   "id": "d2b31fe8-6168-4a38-a45a-8eb35527181a",
   "metadata": {},
   "outputs": [],
   "source": [
    "def mergekq(lists):\n",
    "    h = []\n",
    "    for i,node in enumerate(lists):\n",
    "        if node:\n",
    "            heapq.heappush(h,(node.val,i,node))\n",
    "    \n",
    "    dummy = curr = ListNode(0)\n",
    "    while h:\n",
    "        _, i, node = heapq.heappop(h)\n",
    "        curr.next = node\n",
    "        curr = curr.next\n",
    "        if lists[i].next:\n",
    "            lists[i] = lists[i].next\n",
    "            heapq.heappush(h,(lists[i].val, i, lists[i]))\n",
    "        \n",
    "    return dummy.next"
   ]
  },
  {
   "cell_type": "markdown",
   "id": "9bcf8b99-4fd2-4ec6-8708-24b5d1a843e0",
   "metadata": {},
   "source": [
    "## 264 ugly numbers"
   ]
  },
  {
   "cell_type": "code",
   "execution_count": 56,
   "id": "fc917512-9e7a-4bd6-9bc5-5b95e4ecf9e4",
   "metadata": {},
   "outputs": [],
   "source": [
    "def ugly(n):\n",
    "    out = []\n",
    "    ub = int(3*n**0.34)\n",
    "    for a in range(ub):\n",
    "        for b in range(ub-a):\n",
    "            for c in range(ub-a-b):\n",
    "                out.append(2**a * 3**b * 5**c)\n",
    "    return sorted(out)[n-1]"
   ]
  },
  {
   "cell_type": "code",
   "execution_count": 3,
   "id": "f0c52d46-8602-407f-a62e-888caa614ec6",
   "metadata": {},
   "outputs": [],
   "source": [
    "def nthUglyNumber(n: int) -> int:\n",
    "    # Initialize an array to store the ugly numbers\n",
    "    ugly_numbers = [1]\n",
    "    \n",
    "    # Initialize pointers for 2, 3, and 5 multiples\n",
    "    p2, p3, p5 = 0, 0, 0\n",
    "    \n",
    "    while len(ugly_numbers) < n:\n",
    "        # Calculate the next ugly number as the minimum of the products of the pointers\n",
    "        next_ugly = min(ugly_numbers[p2] * 2, ugly_numbers[p3] * 3, ugly_numbers[p5] * 5)\n",
    "        \n",
    "        # Update the pointers for 2, 3, and 5 if necessary\n",
    "        if next_ugly == ugly_numbers[p2] * 2:\n",
    "            p2 += 1\n",
    "        if next_ugly == ugly_numbers[p3] * 3:\n",
    "            p3 += 1\n",
    "        if next_ugly == ugly_numbers[p5] * 5:\n",
    "            p5 += 1\n",
    "        \n",
    "        # Add the next ugly number to the list\n",
    "        ugly_numbers.append(next_ugly)\n",
    "    \n",
    "    # The last element of the array is the nth ugly number\n",
    "    return ugly_numbers[-1]\n"
   ]
  },
  {
   "cell_type": "code",
   "execution_count": 4,
   "id": "0c986471-f3d0-4921-a22b-08e7d5171edb",
   "metadata": {},
   "outputs": [
    {
     "data": {
      "text/plain": [
       "900"
      ]
     },
     "execution_count": 4,
     "metadata": {},
     "output_type": "execute_result"
    }
   ],
   "source": [
    "nthUglyNumber(83)"
   ]
  },
  {
   "cell_type": "code",
   "execution_count": 19,
   "id": "9afbbc87-9f4d-4470-8a8b-489c07e633c3",
   "metadata": {},
   "outputs": [],
   "source": [
    "from heapq import heappop, heappush\n",
    "def ug(n):\n",
    "    visited = set()\n",
    "    h = [1]\n",
    "\n",
    "    for _ in range(n):\n",
    "        u = heappop(h)\n",
    "        visited.add(u)\n",
    "        for f in [2,3,5]:\n",
    "            temp = u*f\n",
    "            if temp not in visited:\n",
    "                heappush(h,temp)\n",
    "    return max(visited)"
   ]
  },
  {
   "cell_type": "code",
   "execution_count": 1,
   "id": "6202f9cc-6faa-4a4a-8d4e-249926fded3e",
   "metadata": {},
   "outputs": [
    {
     "name": "stdout",
     "output_type": "stream",
     "text": [
      "[1, 2, 3, 4, 5, 6, 8, 9, 10, 12]\n"
     ]
    }
   ],
   "source": [
    "import heapq\n",
    "\n",
    "class Solution:\n",
    "    def nthUglyNumber(self, n: int) -> int:\n",
    "        heap = [1]\n",
    "        \n",
    "        ugly_numbers = set()\n",
    "        ugly_numbers.add(1)\n",
    "        \n",
    "        factors = [2, 3, 5]\n",
    "        \n",
    "        for _ in range(n):\n",
    "            current_ugly = heapq.heappop(heap)\n",
    "            \n",
    "            for factor in factors:\n",
    "                new_ugly = current_ugly * factor\n",
    "                \n",
    "                if new_ugly not in ugly_numbers:\n",
    "                    ugly_numbers.add(new_ugly)\n",
    "                    heapq.heappush(heap, new_ugly)\n",
    "        \n",
    "        return current_ugly\n",
    "\n",
    "\n",
    "solution = Solution()\n",
    "first_10_ugly_numbers = [solution.nthUglyNumber(i) for i in range(1, 11)]\n",
    "print(first_10_ugly_numbers)\n"
   ]
  },
  {
   "cell_type": "markdown",
   "id": "1e3456bf-2043-4a06-8cf1-e49eb29c98d4",
   "metadata": {},
   "source": [
    "## 1086 high five"
   ]
  },
  {
   "cell_type": "code",
   "execution_count": 49,
   "id": "15d5bd49-72b3-4650-a8b3-7be50d34d011",
   "metadata": {},
   "outputs": [],
   "source": [
    "from collections import defaultdict\n",
    "import numpy as np\n",
    "import random\n",
    "\n",
    "def highfive(results):\n",
    "    d = defaultdict(list)\n",
    "    for r in results:\n",
    "        d[r[0]].append(r[1])\n",
    "    out = []\n",
    "    for k,v in d.items():\n",
    "        out.append([k,sum(sorted(v)[:5])/5])\n",
    "    return out\n",
    "    \n",
    "def highfive2(results):\n",
    "    print(results[:,0].nunique)"
   ]
  },
  {
   "cell_type": "code",
   "execution_count": 37,
   "id": "b3443339-7d42-4100-86f3-86e793f7241f",
   "metadata": {},
   "outputs": [],
   "source": [
    "results = [[i,random.randint(50,100)] for _ in range(6) for i in range(1,10)]"
   ]
  },
  {
   "cell_type": "code",
   "execution_count": 34,
   "id": "a580a38d-f8b5-424e-a8b0-2f68d5f6c7dc",
   "metadata": {
    "scrolled": true
   },
   "outputs": [
    {
     "data": {
      "text/plain": [
       "[[1, 73.8],\n",
       " [2, 69.2],\n",
       " [3, 67.0],\n",
       " [4, 72.2],\n",
       " [5, 72.2],\n",
       " [6, 67.0],\n",
       " [7, 73.6],\n",
       " [8, 82.2],\n",
       " [9, 71.4]]"
      ]
     },
     "execution_count": 34,
     "metadata": {},
     "output_type": "execute_result"
    }
   ],
   "source": [
    "highfive(results)"
   ]
  },
  {
   "cell_type": "markdown",
   "id": "8bc1c12d-1cf8-401e-a95f-2d50ce528c8f",
   "metadata": {},
   "source": [
    "## 88"
   ]
  },
  {
   "cell_type": "code",
   "execution_count": 52,
   "id": "c346ddc0-99ee-46c1-a3bf-31a57c081baf",
   "metadata": {},
   "outputs": [],
   "source": [
    "from typing import List\n",
    "def merge(nums1: List[int], m: int, nums2: List[int], n: int) -> None:\n",
    "    \"\"\"\n",
    "    Do not return anything, modify nums1 in-place instead.\n",
    "    \"\"\"\n",
    "    s = nums1[:m]\n",
    "    s.extend(nums2[:n])\n",
    "    s.sort()\n",
    "    nums1[:] = s"
   ]
  },
  {
   "cell_type": "code",
   "execution_count": 60,
   "id": "5bcd1b93-0658-4d41-845e-d8e78e2fa0f4",
   "metadata": {},
   "outputs": [],
   "source": [
    "words = [\"i\",\"love\",\"leetcode\",\"i\",\"love\",\"coding\"]\n",
    "words1 = [\"love\",\"i\", \"leetcode\",\"i\",\"love\",\"coding\"]"
   ]
  },
  {
   "cell_type": "code",
   "execution_count": 55,
   "id": "797053be-3f98-4bce-9c54-97752a4ec1f4",
   "metadata": {},
   "outputs": [],
   "source": [
    "from collections import Counter"
   ]
  },
  {
   "cell_type": "code",
   "execution_count": 81,
   "id": "92bf5a93-060b-4419-88f4-d2868ede323b",
   "metadata": {},
   "outputs": [],
   "source": [
    "c = Counter(words1)"
   ]
  },
  {
   "cell_type": "code",
   "execution_count": 82,
   "id": "c3c75c97-4105-4d0e-a0b4-37aa9209f0ce",
   "metadata": {},
   "outputs": [
    {
     "data": {
      "text/plain": [
       "Counter({'love': 2, 'i': 2, 'leetcode': 1, 'coding': 1})"
      ]
     },
     "execution_count": 82,
     "metadata": {},
     "output_type": "execute_result"
    }
   ],
   "source": [
    "c"
   ]
  },
  {
   "cell_type": "code",
   "execution_count": null,
   "id": "97cceecc-d5c4-454d-aa2d-276236fd779a",
   "metadata": {},
   "outputs": [],
   "source": []
  }
 ],
 "metadata": {
  "kernelspec": {
   "display_name": "Python 3 (ipykernel)",
   "language": "python",
   "name": "python3"
  },
  "language_info": {
   "codemirror_mode": {
    "name": "ipython",
    "version": 3
   },
   "file_extension": ".py",
   "mimetype": "text/x-python",
   "name": "python",
   "nbconvert_exporter": "python",
   "pygments_lexer": "ipython3",
   "version": "3.10.12"
  }
 },
 "nbformat": 4,
 "nbformat_minor": 5
}
