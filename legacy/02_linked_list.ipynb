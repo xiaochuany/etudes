{
 "cells": [
  {
   "cell_type": "markdown",
   "id": "bb391ec8-0624-4b69-906d-d8f080ff5f54",
   "metadata": {},
   "source": [
    "# linked list\n",
    "\n",
    "* 206 reversed linked lisk :  $t = O(N), s=O(1)$\n",
    "* 876\n",
    "* 160 intersection of two linked lists: $t = O(N), s=O(1)$\n",
    "* 141 has cycle: $t = O(N), s=O(N)$\n",
    "* 92 reversed linked list 2: $t=O(N), s= O(1)$\n",
    "* 328 odd even linked list: $t= O(N), s=O(1)$"
   ]
  },
  {
   "cell_type": "code",
   "execution_count": 10,
   "id": "5b646d2c-9391-45f9-a73c-a4ebf146b45e",
   "metadata": {},
   "outputs": [],
   "source": [
    "import random\n",
    "from typing import Optional\n",
    "\n",
    "class ListNode:\n",
    "    def __init__(self, x=0, next=None):\n",
    "        self.val = x\n",
    "        self.next = next\n",
    "\n",
    "# helpers\n",
    "def generate(k: int, a=1, b=10) -> ListNode:\n",
    "    head = curr = ListNode(random.randint(a,b))\n",
    "    for _ in range(k-1):\n",
    "        curr.next = ListNode(random.randint(a,b))\n",
    "        curr = curr.next\n",
    "    return head\n",
    "\n",
    "def pprint(head: ListNode):\n",
    "    run = head\n",
    "    while run:\n",
    "        print(run.val, end=' ')\n",
    "        run = run.next\n",
    "    print('\\n--------------------------')\n",
    "\n",
    "def gettail(head: ListNode) -> ListNode:\n",
    "    tail = head\n",
    "    while tail:\n",
    "        if tail.next is None:\n",
    "            break\n",
    "        tail = tail.next\n",
    "    return tail"
   ]
  },
  {
   "cell_type": "markdown",
   "id": "8e2c5e88-9184-4db2-8de6-2e6ba3522534",
   "metadata": {},
   "source": [
    "## 260 reversed linked list"
   ]
  },
  {
   "cell_type": "code",
   "execution_count": 49,
   "id": "cbf741c7-9bbe-4a56-8426-6aca08d73623",
   "metadata": {},
   "outputs": [],
   "source": [
    "def reversing(head: ListNode) -> ListNode:\n",
    "    prev = None\n",
    "    curr = head\n",
    "    subs = head.next\n",
    "    while curr and subs:\n",
    "        curr.next = prev\n",
    "        prev, curr, subs = curr, subs, subs.next # shift the (p,c,s) window to the right\n",
    "    curr.next = prev\n",
    "    return curr"
   ]
  },
  {
   "cell_type": "code",
   "execution_count": 51,
   "id": "a82a0d79-1e24-433d-9928-fea0eda41913",
   "metadata": {},
   "outputs": [
    {
     "name": "stdout",
     "output_type": "stream",
     "text": [
      "6 \n",
      "--------------------------\n",
      "6 \n",
      "--------------------------\n"
     ]
    }
   ],
   "source": [
    "head = generate(1)\n",
    "pprint(head)\n",
    "pprint(reversing(head))"
   ]
  },
  {
   "cell_type": "markdown",
   "id": "72ddeb83-72f7-476e-a8b1-a8c67a4978da",
   "metadata": {},
   "source": [
    "## 160 intersection of two linked lists\n",
    "\n",
    "Given the heads of two singly linked-lists headA and headB, return the node at which the two lists intersect. If the two linked lists have no intersection at all, return null."
   ]
  },
  {
   "cell_type": "code",
   "execution_count": 65,
   "id": "2cb3846c-1bb4-4eca-ba52-696bab208a76",
   "metadata": {},
   "outputs": [],
   "source": [
    "def getIntersectionNode(headA: ListNode, headB: ListNode) -> Optional[ListNode]:\n",
    "        if not headA or not headB:\n",
    "            return None\n",
    "        startA, startB = headA, headB\n",
    "        la = lb = 0\n",
    "        while startA:\n",
    "            la+=1\n",
    "            startA = startA.next\n",
    "        while startB:\n",
    "            lb+=1\n",
    "            startB = startB.next\n",
    "        if la>lb:\n",
    "            for _ in range(la-lb):\n",
    "                headA = headA.next\n",
    "        else:\n",
    "            for _ in range(lb-la):\n",
    "                headB = headB.next\n",
    "        while headA and headB:\n",
    "            if headA is headB:\n",
    "                return headA\n",
    "            headA,headB = headA.next, headB.next\n",
    "        return None"
   ]
  },
  {
   "cell_type": "code",
   "execution_count": 66,
   "id": "da338e11-60f5-45d5-af9c-81269b2a36e9",
   "metadata": {},
   "outputs": [
    {
     "name": "stdout",
     "output_type": "stream",
     "text": [
      "6 5 10 3 5 9 2 5 5 6 5 7 \n",
      "--------------------------\n",
      "6 3 2 6 10 6 9 2 5 5 6 5 7 \n",
      "--------------------------\n",
      "9 2 5 5 6 5 7 \n",
      "--------------------------\n",
      "2 5 5 3 7 4 5 6 \n",
      "--------------------------\n",
      "9\n",
      "no intersection\n"
     ]
    }
   ],
   "source": [
    "def test(x: ListNode, y: ListNode):\n",
    "    if a:=getIntersectionNode(x,y):\n",
    "        print(a.val)\n",
    "    else:\n",
    "        print('no intersection')\n",
    "\n",
    "heads = [generate(i+5) for i in range(4)]\n",
    "gettail(heads[0]).next = heads[2]\n",
    "gettail(heads[1]).next = heads[2]\n",
    "\n",
    "for i in range(4):\n",
    "    pprint(heads[i])\n",
    "\n",
    "test(heads[0],heads[1])\n",
    "test(heads[2],heads[3])"
   ]
  },
  {
   "cell_type": "markdown",
   "id": "683f15dd-62f0-4bd6-8335-1c06bbf73e4f",
   "metadata": {},
   "source": [
    "## 141 detect cycle\n",
    "\n",
    "Given head, the head of a linked list, determine if the linked list has a cycle in it.\r\n",
    "\r\n",
    "There is a cycle in a linked list if there is some node in the list that can be reached again by continuously following the next pointer. Internally, pos is used to denote the index of the node that tail's next pointer is connected to. Note that pos is not passed as a parameter.\r\n",
    "\r\n",
    "Return true if there is a cycle in the linked list. Otherwise, return false."
   ]
  },
  {
   "cell_type": "code",
   "execution_count": 54,
   "id": "436b6dfb-a42f-4839-a579-f128a89d8894",
   "metadata": {},
   "outputs": [],
   "source": [
    "def hasCycle(head: Optional[ListNode]) -> bool:\n",
    "    d = set()\n",
    "    while head:\n",
    "        if head in d:\n",
    "            return True\n",
    "        d.add(head)\n",
    "        head = head.next\n",
    "    return False"
   ]
  },
  {
   "cell_type": "code",
   "execution_count": 56,
   "id": "2125bdec-6699-4d0d-93ed-200e46db7b72",
   "metadata": {},
   "outputs": [
    {
     "name": "stdout",
     "output_type": "stream",
     "text": [
      "8 2 10 6 2 7 \n",
      "--------------------------\n"
     ]
    },
    {
     "data": {
      "text/plain": [
       "True"
      ]
     },
     "execution_count": 56,
     "metadata": {},
     "output_type": "execute_result"
    }
   ],
   "source": [
    "head = generate(6)\n",
    "pprint(head)\n",
    "\n",
    "gettail(head).next = head\n",
    "hasCycle(head)"
   ]
  },
  {
   "cell_type": "markdown",
   "id": "7300feb5-c7bc-4f2a-9adc-8b19b767aa70",
   "metadata": {},
   "source": [
    "## 92 reversed linked list 2\n",
    "\n",
    "Given the head of a singly linked list and two integers left and right where left <= right, reverse the nodes of the list from position left to position right, and return the reversed list.\r\n",
    "\r\n",
    " "
   ]
  },
  {
   "cell_type": "code",
   "execution_count": 13,
   "id": "358e6ecb-abdf-43c9-b0ac-1dfb02193870",
   "metadata": {},
   "outputs": [],
   "source": [
    "def reverseBetween(head, left, right):\n",
    "    if left == right: \n",
    "        return head\n",
    "\n",
    "    leftTail = ListNode(0,head)\n",
    "    cur = head\n",
    "\n",
    "    for _ in range(left-1):\n",
    "        leftTail, cur = cur, cur.next\n",
    "\n",
    "    prev = None\n",
    "    for _ in range(right - left + 1):\n",
    "        temp = cur.next\n",
    "        cur.next = prev\n",
    "        prev, cur = cur, temp\n",
    "\n",
    "    leftTail.next.next = cur\n",
    "    leftTail.next = prev\n",
    "    return prev if left==1 else head"
   ]
  },
  {
   "cell_type": "code",
   "execution_count": 19,
   "id": "e144d09f-835f-4730-8f34-2f860e9856e3",
   "metadata": {},
   "outputs": [
    {
     "name": "stdout",
     "output_type": "stream",
     "text": [
      "6 9 9 10 9 6 7 10 7 6 \n",
      "--------------------------\n",
      "9 10 9 9 6 6 7 10 7 6 \n",
      "--------------------------\n"
     ]
    }
   ],
   "source": [
    "myList = generate(10)\n",
    "pprint(myList)\n",
    "pprint(reverseBetween(myList,1,5))"
   ]
  },
  {
   "cell_type": "markdown",
   "id": "9d7a13f8-697d-4d8e-bb35-2a183cb942bb",
   "metadata": {},
   "source": [
    "## 328 odd even\n",
    "\n",
    "Given the head of a singly linked list, group all the nodes with odd indices together followed by the nodes with even indices, and return the reordered list.\r\n",
    "\r\n",
    "The first node is considered odd, and the second node is even, and so on.\r\n",
    "\r\n",
    "Note that the relative order inside both the even and odd groups should remain as it was in the input.\r\n",
    "\r\n",
    "You must solve the problem in O(1) extra space complexity and O(n) time complexity."
   ]
  },
  {
   "cell_type": "code",
   "execution_count": 20,
   "id": "37a3126e-3475-42d5-aeb9-a7dbe56ad1fc",
   "metadata": {},
   "outputs": [],
   "source": [
    "def oddEvenList(head):\n",
    "    if not head or not head.next:\n",
    "        return head\n",
    "\n",
    "    counter = 0\n",
    "    \n",
    "    prev = head\n",
    "    cur = second = head.next\n",
    "\n",
    "    while cur.next:\n",
    "        counter+=1\n",
    "        prev.next = cur.next\n",
    "        prev,cur = cur,cur.next\n",
    "    if counter%2==0:\n",
    "        prev.next=second\n",
    "    else:\n",
    "        prev.next=None\n",
    "        cur.next = second\n",
    "    return head"
   ]
  },
  {
   "cell_type": "code",
   "execution_count": 25,
   "id": "495237cd-25c7-4751-9408-968ea454843a",
   "metadata": {},
   "outputs": [
    {
     "name": "stdout",
     "output_type": "stream",
     "text": [
      "8 4 5 3 4 6 10 5 9 7 7 \n",
      "--------------------------\n",
      "8 5 4 10 9 7 4 3 6 5 7 \n",
      "--------------------------\n"
     ]
    }
   ],
   "source": [
    "myList = generate(11)\n",
    "pprint(myList)\n",
    "pprint(oddEvenList(myList))"
   ]
  },
  {
   "cell_type": "code",
   "execution_count": null,
   "id": "ed4871db-c8ab-42cf-82b9-7155f50c8248",
   "metadata": {},
   "outputs": [],
   "source": []
  }
 ],
 "metadata": {
  "kernelspec": {
   "display_name": "Python 3 (ipykernel)",
   "language": "python",
   "name": "python3"
  },
  "language_info": {
   "codemirror_mode": {
    "name": "ipython",
    "version": 3
   },
   "file_extension": ".py",
   "mimetype": "text/x-python",
   "name": "python",
   "nbconvert_exporter": "python",
   "pygments_lexer": "ipython3",
   "version": "3.11.4"
  }
 },
 "nbformat": 4,
 "nbformat_minor": 5
}
