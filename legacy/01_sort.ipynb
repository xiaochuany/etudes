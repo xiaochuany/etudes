{
 "cells": [
  {
   "cell_type": "markdown",
   "id": "3a284129-4990-49ca-a858-5eef9220457a",
   "metadata": {},
   "source": [
    "# Sort\n",
    "\n",
    "merge sort, quick sort, quick select. \n",
    "\n",
    " - 148 sort list\n",
    " - 56 merge intervals\n",
    " - 27 remove elements\n",
    " - 179 largest number\n",
    " - 75 sort colors (use default sorted)\n",
    " - 215 kth largest elemen (use default sorted)\n",
    " - 4 median of two sorted arrays\n",
    "\n"
   ]
  },
  {
   "cell_type": "markdown",
   "id": "1f53855d-24e7-4ce3-920d-11af73aa9a17",
   "metadata": {},
   "source": [
    "## 148 sort list\n",
    "\n",
    "Given the head of a linked list, return the list after sorting it in ascending order.\n"
   ]
  },
  {
   "cell_type": "code",
   "execution_count": 18,
   "id": "ee1d53c7-7b28-40d4-b6fa-fd5688f7feaa",
   "metadata": {},
   "outputs": [],
   "source": [
    "from typing import Optional\n",
    "\n",
    "class ListNode:\n",
    "     def __init__(self, val=0, next=None):\n",
    "         self.val = val\n",
    "         self.next = next\n",
    "\n",
    "class Solution:\n",
    "    def sortList(self, head: Optional[ListNode]) -> Optional[ListNode]:\n",
    "        if head is None: return head\n",
    "        nums = []\n",
    "        start = init = head\n",
    "        while head:\n",
    "            nums.append(head.val)\n",
    "            head = head.next\n",
    "        nums = sorted(nums)\n",
    "        for num in nums:\n",
    "            start.val = num\n",
    "            start = start.next\n",
    "        return init"
   ]
  },
  {
   "cell_type": "markdown",
   "id": "4bd3a940-6134-45b1-a21d-2563afd16bcf",
   "metadata": {},
   "source": [
    "## 56 merge intervals\n",
    "\n",
    "Given an array of intervals where intervals[i] = [starti, endi], merge all overlapping intervals, and return an array of the non-overlapping intervals that cover all the intervals in the input."
   ]
  },
  {
   "cell_type": "code",
   "execution_count": 55,
   "id": "e0f38ef8-33d9-42c4-96c3-d9a4c668652a",
   "metadata": {},
   "outputs": [],
   "source": [
    "ls = [[1,2],[2,6], [3,4], [3,8], [123,134]]"
   ]
  },
  {
   "cell_type": "code",
   "execution_count": 63,
   "id": "a43a85e3-70b4-4c1c-869c-6ef199a03001",
   "metadata": {},
   "outputs": [],
   "source": [
    "union = []\n",
    "starti, endi = ls[0]\n",
    "for i, intervali in enumerate(ls):\n",
    "    if i>0:\n",
    "        if intervali[0] > endi: \n",
    "            union.append([starti,endi])\n",
    "            starti, endi = intervali\n",
    "        else:\n",
    "            endi = max(endi,intervali[1])\n",
    "union.append([starti,endi])"
   ]
  },
  {
   "cell_type": "code",
   "execution_count": 71,
   "id": "dc4fc6dd-c8bf-45bc-8d20-bfa19e0b46e7",
   "metadata": {},
   "outputs": [
    {
     "data": {
      "text/plain": [
       "[[1, 8], [123, 134]]"
      ]
     },
     "execution_count": 71,
     "metadata": {},
     "output_type": "execute_result"
    }
   ],
   "source": [
    "union"
   ]
  },
  {
   "cell_type": "markdown",
   "id": "806403d5-4d73-4ad6-8f51-8ceb539768a5",
   "metadata": {},
   "source": [
    "## 27 remove elements\n",
    "\n",
    "Given an integer array nums and an integer val, remove all occurrences of val in nums in-place. The order of the elements may be changed. Then return the number of elements in nums which are not equal to val.\n",
    "\n",
    "Consider the number of elements in nums which are not equal to val be k, to get accepted, you need to do the following things:\n",
    "\n",
    "Change the array nums such that the first k elements of nums contain the elements which are not equal to val. The remaining elements of nums are not important as well as the size of nums.\n",
    "Return k."
   ]
  },
  {
   "cell_type": "code",
   "execution_count": 72,
   "id": "be95533d-b3cd-49eb-9658-e28f380dd9c3",
   "metadata": {},
   "outputs": [],
   "source": [
    "def remove(ls, val):\n",
    "    ls[:] = [el for el in ls if el != val]\n",
    "    return ls"
   ]
  },
  {
   "cell_type": "code",
   "execution_count": 73,
   "id": "ff81f92b-e9ed-4edc-b3d6-18f00aa8a05d",
   "metadata": {},
   "outputs": [
    {
     "data": {
      "text/plain": [
       "[46, 2, 2, 4, 1]"
      ]
     },
     "execution_count": 73,
     "metadata": {},
     "output_type": "execute_result"
    }
   ],
   "source": [
    "remove([3,46,2,3,2,4,1], 3)"
   ]
  },
  {
   "cell_type": "markdown",
   "id": "305ba2a3-19d3-43e7-90fe-3d45d9f46cdd",
   "metadata": {},
   "source": [
    "## 179 largest number\n",
    "\n",
    "Given a list of non-negative integers nums, arrange them such that they form the largest number and return it. \r\n",
    "Since the result may be very large, so you need to return a string inste of an integer.r."
   ]
  },
  {
   "cell_type": "markdown",
   "id": "8d32fdb4-2010-45a6-ae1d-b7ee4f8e0bb0",
   "metadata": {},
   "source": [
    "- method1: refactor merge sort\n",
    "- method2: define a new order for strings and pass it as key in sorted function"
   ]
  },
  {
   "cell_type": "code",
   "execution_count": 64,
   "id": "330b740a-e5fb-44fc-a039-06ad8881c18b",
   "metadata": {
    "scrolled": true
   },
   "outputs": [
    {
     "data": {
      "text/plain": [
       "[34, 3, 32, 31]"
      ]
     },
     "execution_count": 64,
     "metadata": {},
     "output_type": "execute_result"
    }
   ],
   "source": [
    "def sort_(nums):\n",
    "    if len(nums) <= 1:\n",
    "        return nums\n",
    "    left = sort_(nums[:len(nums)//2])\n",
    "    right = sort_(nums[len(nums)//2:])\n",
    "    new=[]\n",
    "    while left and right:\n",
    "        if int(str(left[0])+str(right[0]))> int(str(right[0])+str(left[0])):\n",
    "            new.append(left.pop(0))\n",
    "        else:\n",
    "            new.append(right.pop(0))\n",
    "    return new + left if left else (new+right)\n",
    "sort_([3,31,32,34])\n",
    "# ''.join(map(str,sort_([3,31,32,34])))"
   ]
  },
  {
   "cell_type": "code",
   "execution_count": 53,
   "id": "0244d539-91bc-4922-8a27-ab0938c5cc2a",
   "metadata": {},
   "outputs": [
    {
     "data": {
      "text/plain": [
       "[34, 3, 32, 31]"
      ]
     },
     "execution_count": 53,
     "metadata": {},
     "output_type": "execute_result"
    }
   ],
   "source": [
    "class largerkey(str):\n",
    "    def __lt__(self,other):\n",
    "        return self+other > other+self\n",
    "\n",
    "sorted([3,31,32,34],key=largerkey)"
   ]
  },
  {
   "cell_type": "markdown",
   "id": "efa3b348-c503-495b-912a-b6335356d7fb",
   "metadata": {},
   "source": [
    "## 4 median of two sorted arrays\n",
    "\n",
    "Given two sorted arrays nums1 and nums2 of size m and n respectively, return the median of the two sorted arrays.\r\n",
    "\r\n",
    "The overall run time complexity should be O(log (m+n)\n",
    "\n",
    "\n",
    "- method 1: O(N) approach with the merge step in merge sort)."
   ]
  },
  {
   "cell_type": "code",
   "execution_count": 73,
   "id": "e0f572ab-8b4e-46f4-bbc2-f2064f1aac76",
   "metadata": {},
   "outputs": [],
   "source": [
    "def median(n1,n2):\n",
    "    new = []\n",
    "    while n1 and n2:\n",
    "        if n1[0]<n2[0]:\n",
    "            new.append(n1.pop(0))\n",
    "        else:\n",
    "            new.append(n2.pop(0))\n",
    "    new = (new+n1) if n1 else (new+n2)\n",
    "    if len(new)%2 == 1:\n",
    "        return new[len(new)//2]\n",
    "    else: \n",
    "        return new[len(new)//2 - 1]/2 + new[len(new)//2]/2"
   ]
  },
  {
   "cell_type": "code",
   "execution_count": 74,
   "id": "0715d2ef-b1f4-4636-b30f-c4b1b08804a9",
   "metadata": {},
   "outputs": [
    {
     "data": {
      "text/plain": [
       "4"
      ]
     },
     "execution_count": 74,
     "metadata": {},
     "output_type": "execute_result"
    }
   ],
   "source": [
    "median([1,2,4,5],[1,8,9])"
   ]
  },
  {
   "cell_type": "code",
   "execution_count": null,
   "id": "c2ebb6cf-753f-49c1-843a-3f026a7ea78d",
   "metadata": {},
   "outputs": [],
   "source": []
  }
 ],
 "metadata": {
  "kernelspec": {
   "display_name": "Python 3 (ipykernel)",
   "language": "python",
   "name": "python3"
  },
  "language_info": {
   "codemirror_mode": {
    "name": "ipython",
    "version": 3
   },
   "file_extension": ".py",
   "mimetype": "text/x-python",
   "name": "python",
   "nbconvert_exporter": "python",
   "pygments_lexer": "ipython3",
   "version": "3.11.4"
  }
 },
 "nbformat": 4,
 "nbformat_minor": 5
}
