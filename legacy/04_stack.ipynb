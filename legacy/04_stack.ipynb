{
 "cells": [
  {
   "cell_type": "markdown",
   "id": "2ef95749-dc1a-405e-87d8-f63e937a8450",
   "metadata": {},
   "source": [
    "# Stack\n",
    "\n",
    "- Leetcode 155. Min Stack (follow up Leetcode 716 Max Stack)\n",
    "- Leetcode 232. Implement Queue using Stacks\n",
    "- Leetcode 150. Evaluate Reverse Polish Notation\n",
    "- Leetcode 224. Basic Calculator II (I, II, III, IV)\n",
    "- Leetcode 20. Valid Parentheses\n",
    "- Leetcode 1472. Design Browser History\n",
    "- Leetcode 1209. Remove All Adjacent Duplicates in String II\n",
    "- Leetcode 1249. Minimum Remove to Make Valid Parentheses\n",
    "- Leetcode 735. Asteroid Collisionlision"
   ]
  },
  {
   "cell_type": "code",
   "execution_count": 5,
   "id": "4e31af3d-d79f-48c0-a12a-1c8d9f63f47f",
   "metadata": {},
   "outputs": [],
   "source": [
    "from typing import List"
   ]
  },
  {
   "cell_type": "markdown",
   "id": "29c369ad-26de-4979-8149-8520e503d277",
   "metadata": {},
   "source": [
    "## 155 Min Stack"
   ]
  },
  {
   "cell_type": "code",
   "execution_count": 24,
   "id": "132f879c-880e-4aa8-acd7-52dd6e900ffa",
   "metadata": {},
   "outputs": [],
   "source": [
    "class MinStack:\n",
    "\n",
    "    def __init__(self):\n",
    "        self.min = []\n",
    "        self.stack = []\n",
    "\n",
    "    def push(self, val: int) -> None:\n",
    "        self.stack.append(val)\n",
    "        if self.min:\n",
    "            self.min.append(min(val, self.min[-1])) \n",
    "        else:\n",
    "            self.min.append(val)\n",
    "        \n",
    "    def pop(self) -> None:\n",
    "        if self.stack:\n",
    "            self.stack.pop()\n",
    "            self.min.pop()\n",
    "            \n",
    "    def top(self) -> int:\n",
    "        return self.stack[-1] if self.stack else None\n",
    "\n",
    "    def getMin(self) -> int:\n",
    "        return self.min[-1] if self.min else float('inf')\n"
   ]
  },
  {
   "cell_type": "code",
   "execution_count": 25,
   "id": "c464bfac-a818-4a86-bda1-2a25c2945944",
   "metadata": {},
   "outputs": [],
   "source": [
    "s = MinStack()\n",
    "for i in reversed(range(5)):\n",
    "    s.push(i)"
   ]
  },
  {
   "cell_type": "code",
   "execution_count": 28,
   "id": "441d10f1-5c45-4c71-a823-c872b909bd71",
   "metadata": {
    "scrolled": true
   },
   "outputs": [
    {
     "data": {
      "text/plain": [
       "([4, 3, 2, 1, 0], [4, 3, 2, 1, 0])"
      ]
     },
     "execution_count": 28,
     "metadata": {},
     "output_type": "execute_result"
    }
   ],
   "source": [
    "s.min, s.stack"
   ]
  },
  {
   "cell_type": "markdown",
   "id": "51ff2607-3259-44cc-8807-c9c96a8ad6f0",
   "metadata": {},
   "source": [
    "## 150. Evaluate Reverse Polish Notation"
   ]
  },
  {
   "cell_type": "code",
   "execution_count": 13,
   "id": "bfb5c415-b324-4d57-9bd7-d24a844bc4b5",
   "metadata": {},
   "outputs": [],
   "source": [
    "def evalRPN(tokens: List[str]) -> int:\n",
    "        _stack = []\n",
    "        for t in tokens: \n",
    "            if t not in '+-*/':\n",
    "                _stack.append(t)\n",
    "            else: \n",
    "                b = _stack.pop()\n",
    "                a = _stack.pop()\n",
    "                res = eval( a + t + b )\n",
    "                _stack.append(str(int(res)))\n",
    "        return int(_stack[-1])"
   ]
  },
  {
   "cell_type": "code",
   "execution_count": 14,
   "id": "8d5d38d9-f591-48b7-bb42-1303b6d5946d",
   "metadata": {},
   "outputs": [
    {
     "data": {
      "text/plain": [
       "0"
      ]
     },
     "execution_count": 14,
     "metadata": {},
     "output_type": "execute_result"
    }
   ],
   "source": [
    "evalRPN(['1','3','5','*','/'])"
   ]
  },
  {
   "cell_type": "markdown",
   "id": "75a3e458-ce7f-42e9-93b0-b48b45d921e1",
   "metadata": {},
   "source": [
    "## 20 valid parenthesis"
   ]
  },
  {
   "cell_type": "code",
   "execution_count": 25,
   "id": "36afc8cb-1686-4dd5-9411-9523a8ac9dcc",
   "metadata": {},
   "outputs": [],
   "source": [
    "def isValid(s: str) -> bool:\n",
    "        _stack = []\n",
    "\n",
    "        d = {\n",
    "            '[': ']',   \n",
    "            '{': '}', \n",
    "            '(' : ')'\n",
    "            }\n",
    "        for char in s:\n",
    "            if _stack and d.get(_stack[-1])==char:\n",
    "                _stack.pop()\n",
    "            else: \n",
    "                _stack.append(char)\n",
    "        return _stack == []\n",
    "            "
   ]
  },
  {
   "cell_type": "code",
   "execution_count": 30,
   "id": "68e36e5a-8004-46e6-9711-adcf62ff0d06",
   "metadata": {},
   "outputs": [
    {
     "data": {
      "text/plain": [
       "True"
      ]
     },
     "execution_count": 30,
     "metadata": {},
     "output_type": "execute_result"
    }
   ],
   "source": [
    "isValid('{[[[[]]]]()}')"
   ]
  },
  {
   "cell_type": "markdown",
   "id": "46c6c26b-455a-4403-89ad-1e8c69605a5b",
   "metadata": {},
   "source": [
    "## 1472 browser history"
   ]
  },
  {
   "cell_type": "code",
   "execution_count": 33,
   "id": "e7e73c9f-10ad-4885-8768-6420f49ee4f3",
   "metadata": {},
   "outputs": [],
   "source": [
    "class BrowserHistory:\n",
    "\n",
    "    def __init__(self, homepage: str):\n",
    "        self.stack = [homepage]\n",
    "        self.idx = 0\n",
    "        \n",
    "    def visit(self, url: str) -> None:\n",
    "        self.stack = self.stack[:self.idx+1]\n",
    "        self.idx += 1\n",
    "        self.stack.append(url)\n",
    "\n",
    "    def back(self, steps: int) -> str:\n",
    "        self.idx -= min(self.idx,steps)\n",
    "        return self.stack[self.idx]\n",
    "\n",
    "    def forward(self, steps: int) -> str:\n",
    "        self.idx += min(steps, len(self.stack)-1-self.idx)\n",
    "        return self.stack[self.idx]"
   ]
  },
  {
   "cell_type": "code",
   "execution_count": 34,
   "id": "d5f4d749-9ddc-4cc3-afa3-54a05bdaa9e8",
   "metadata": {},
   "outputs": [],
   "source": [
    "h = BrowserHistory('google')"
   ]
  },
  {
   "cell_type": "code",
   "execution_count": 35,
   "id": "0224dbe2-7dea-4207-9b3a-bd2542b184f0",
   "metadata": {},
   "outputs": [],
   "source": [
    "h.visit('youtube')"
   ]
  },
  {
   "cell_type": "code",
   "execution_count": 36,
   "id": "6fa88a2a-a47c-43af-b808-aea85c244dda",
   "metadata": {},
   "outputs": [
    {
     "data": {
      "text/plain": [
       "'google'"
      ]
     },
     "execution_count": 36,
     "metadata": {},
     "output_type": "execute_result"
    }
   ],
   "source": [
    "h.back(3)"
   ]
  },
  {
   "cell_type": "markdown",
   "id": "8c28d442-3e1f-4464-b12e-fd1a8a2f7c5e",
   "metadata": {},
   "source": [
    "## 1209 remove adjacent duplicates in string"
   ]
  },
  {
   "cell_type": "code",
   "execution_count": 1,
   "id": "59f30811-a816-42ea-9d4e-d595f0f59f5b",
   "metadata": {},
   "outputs": [],
   "source": [
    "def removeDuplicates(s: str) -> str:\n",
    "    stack = []\n",
    "    for char in s:\n",
    "        if stack and char == stack[-1]:\n",
    "            stack.pop()\n",
    "        else:\n",
    "            stack.append(char)\n",
    "    return ''.join(stack)"
   ]
  },
  {
   "cell_type": "code",
   "execution_count": 2,
   "id": "e8f53c7d-3b1c-44eb-a58b-c64bf24119fe",
   "metadata": {},
   "outputs": [
    {
     "data": {
      "text/plain": [
       "'pyt'"
      ]
     },
     "execution_count": 2,
     "metadata": {},
     "output_type": "execute_result"
    }
   ],
   "source": [
    "removeDuplicates('pythonnoh')"
   ]
  },
  {
   "cell_type": "markdown",
   "id": "17011117-3f6a-4e3a-88b6-298b29276e80",
   "metadata": {},
   "source": [
    "## 1249\n",
    "\n",
    "Given a string s of '(' , ')' and lowercase English characters.\r\n",
    "\r\n",
    "Your task is to remove the minimum number of parentheses ( '(' or ')', in any positions ) so that the resulting parentheses string is valid and return any valid string.\r\n",
    "\r\n",
    "Formally, a parentheses string is valid if and only if:\r\n",
    "\r\n",
    "It is the empty string, contains only lowercase characters, or\r\n",
    "It can be written as AB (A concatenated with B), where A and B are valid strings, or\r\n",
    "It can be written as (A), where A is a valid string."
   ]
  },
  {
   "cell_type": "code",
   "execution_count": 1,
   "id": "e5dde7cc-18ba-40ea-9add-507286ca59a7",
   "metadata": {},
   "outputs": [],
   "source": [
    "def minRemoveToMakeValid(s: str) -> str:\n",
    "        stack = []\n",
    "        for id, char in enumerate(s):\n",
    "            if char in '()':\n",
    "                if stack and stack[-1][0] == '(' and char == ')':\n",
    "                    stack.pop()\n",
    "                else:\n",
    "                    stack.append((char,id))\n",
    "        idx = set([i for v,i in stack])\n",
    "        return ''.join([c for i,c in enumerate(s) if i not in idx])"
   ]
  },
  {
   "cell_type": "code",
   "execution_count": 2,
   "id": "bc523a58-160d-4669-b656-1a4deecbc695",
   "metadata": {},
   "outputs": [
    {
     "data": {
      "text/plain": [
       "'leetc(o)de'"
      ]
     },
     "execution_count": 2,
     "metadata": {},
     "output_type": "execute_result"
    }
   ],
   "source": [
    "minRemoveToMakeValid('leetc(o)d(e')"
   ]
  },
  {
   "cell_type": "markdown",
   "id": "91663d40-29ee-4f61-941f-fb35694420df",
   "metadata": {},
   "source": [
    "## 735\n",
    "\n"
   ]
  },
  {
   "cell_type": "code",
   "execution_count": 6,
   "id": "b717757c-dd5e-40be-9ab2-d9b76bb74c20",
   "metadata": {},
   "outputs": [],
   "source": [
    "def asteroidCollision(asteroids: List[int]) -> List[int]:\n",
    "        stack = []\n",
    "\n",
    "        for a in asteroids:\n",
    "            while stack and a < 0 and stack[-1] > 0:\n",
    "                if abs(a) > stack[-1]:\n",
    "                    stack.pop()\n",
    "                elif abs(a) == stack[-1]:\n",
    "                    stack.pop()\n",
    "                    break\n",
    "                else:\n",
    "                    break\n",
    "            else:\n",
    "                stack.append(a)\n",
    "\n",
    "        return stack"
   ]
  },
  {
   "cell_type": "code",
   "execution_count": null,
   "id": "226ffcce-58e9-49f1-bda0-fed22c1ffc0b",
   "metadata": {},
   "outputs": [],
   "source": []
  },
  {
   "cell_type": "code",
   "execution_count": null,
   "id": "c60fae17-e178-4c70-9ccd-b74e255c246b",
   "metadata": {},
   "outputs": [],
   "source": []
  }
 ],
 "metadata": {
  "kernelspec": {
   "display_name": "Python 3 (ipykernel)",
   "language": "python",
   "name": "python3"
  },
  "language_info": {
   "codemirror_mode": {
    "name": "ipython",
    "version": 3
   },
   "file_extension": ".py",
   "mimetype": "text/x-python",
   "name": "python",
   "nbconvert_exporter": "python",
   "pygments_lexer": "ipython3",
   "version": "3.11.4"
  }
 },
 "nbformat": 4,
 "nbformat_minor": 5
}
