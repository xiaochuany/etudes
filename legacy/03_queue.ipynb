{
 "cells": [
  {
   "cell_type": "markdown",
   "id": "81abe030-8a1b-43f1-a64d-13264bd7fd71",
   "metadata": {},
   "source": [
    "Queue\n",
    "- Leetcode 225. Implement Stack using Queues\n",
    "- Leetcode 346. Moving Average from Data Stream\n",
    "- Leetcode 281. Zigzag Iterator\n",
    "- Leetcode 1429. First Unique Number\n",
    "- Leetcode 54. Spiral Matrix\n",
    "- Leetcode 362. Design Hit Counter"
   ]
  },
  {
   "cell_type": "code",
   "execution_count": 26,
   "id": "db670d51-de04-4fd7-90dc-434887895522",
   "metadata": {},
   "outputs": [],
   "source": [
    "import random\n",
    "from collections import deque"
   ]
  },
  {
   "cell_type": "markdown",
   "id": "d1d2aa7f-eac5-4956-aaf3-f797c256f047",
   "metadata": {},
   "source": [
    "# 225 implement stack"
   ]
  },
  {
   "cell_type": "code",
   "execution_count": 1,
   "id": "1f91d259-9cfe-42db-83a0-55ebb2aa8486",
   "metadata": {},
   "outputs": [],
   "source": [
    "class MyStack:\n",
    "\n",
    "    def __init__(self):\n",
    "        self._stack = []\n",
    "\n",
    "    def push(self, x: int) -> None:\n",
    "        self._stack.append(x)\n",
    "\n",
    "    def pop(self) -> int:\n",
    "        return self._stack.pop()\n",
    "\n",
    "    def top(self) -> int:\n",
    "        return self._stack[-1]\n",
    "\n",
    "    def empty(self) -> bool:\n",
    "        return len(self._stack)==0"
   ]
  },
  {
   "cell_type": "code",
   "execution_count": 2,
   "id": "cfa8915e-95a4-4a65-b950-be01dd59cf35",
   "metadata": {},
   "outputs": [
    {
     "data": {
      "text/plain": [
       "False"
      ]
     },
     "execution_count": 2,
     "metadata": {},
     "output_type": "execute_result"
    }
   ],
   "source": [
    "s = MyStack()\n",
    "s.push(12)\n",
    "s.push(23)\n",
    "s.pop()\n",
    "s.top()\n",
    "s.empty()"
   ]
  },
  {
   "cell_type": "markdown",
   "id": "c3322617-0690-4ad4-96fa-eb35139b4d98",
   "metadata": {},
   "source": [
    "## 346. Moving Average from Data Stream\n",
    "Given a stream of integers and a window size, calculate the moving average of all integers in the sliding window.\n",
    "\n",
    " - naive approach with list slicing $t=O(Nk), s=O(N)$ where $N$ is length of the list and $k$ is the size of the sliding window.\n",
    " - using queue (list/deque) $t=s=O(N)$"
   ]
  },
  {
   "cell_type": "code",
   "execution_count": 57,
   "id": "e9405a1c-f9d2-4155-a416-aff95dec21f8",
   "metadata": {},
   "outputs": [],
   "source": [
    "def movingAverage(lst,k):\n",
    "    if len(lst)<k:\n",
    "        return [None]*len(lst)\n",
    "    else:\n",
    "        ma = []\n",
    "        for i in range(k-1,len(lst)):\n",
    "            ma.append(sum(lst[i-k+1:i+1])/k)\n",
    "        return  [None]*(k-1) + ma\n",
    "\n",
    "def movingAverageQ(lst,k):\n",
    "    q = lst[:k]\n",
    "    ma = [None]*(k-1) + [sum(q)/k]\n",
    "    for el in lst[k:]:\n",
    "        q.append(el)\n",
    "        ma.append( ma[-1] + (el - q.pop(0))/k )\n",
    "    return ma\n",
    "\n",
    "def movingAverageDq(lst,k):\n",
    "    q = deque(lst[:k])\n",
    "    ma = [None]*(k-1) + [sum(q)/k]\n",
    "    for el in lst[k:]:\n",
    "        q.append(el)\n",
    "        ma.append( ma[-1] + (el - q.popleft())/k)\n",
    "    return ma"
   ]
  },
  {
   "cell_type": "code",
   "execution_count": 58,
   "id": "13fd6098-c3e6-4ab8-9190-36333ca66473",
   "metadata": {},
   "outputs": [
    {
     "name": "stdout",
     "output_type": "stream",
     "text": [
      "[5, 2, 3, 11, 11, 7, 7, 2, 11, 11]\n",
      "[None, None, None, None, 6.4, 6.8, 7.8, 7.6, 7.6, 7.6]\n",
      "[None, None, None, None, 6.4, 6.800000000000001, 7.800000000000001, 7.6000000000000005, 7.6000000000000005, 7.6000000000000005]\n",
      "[None, None, None, None, 6.4, 6.800000000000001, 7.800000000000001, 7.6000000000000005, 7.6000000000000005, 7.6000000000000005]\n"
     ]
    }
   ],
   "source": [
    "myLst=[random.choice([2,3,5,7,11]) for _ in range(10)]\n",
    "print(myLst)\n",
    "print(movingAverage(myLst, 5))\n",
    "print(movingAverageQ(myLst,5))\n",
    "print(movingAverageDq(myLst,5))\n"
   ]
  },
  {
   "cell_type": "code",
   "execution_count": 59,
   "id": "b13fc8e4-380f-489e-8d12-f61a8736804d",
   "metadata": {},
   "outputs": [],
   "source": [
    "myLst = [random.randint(1,1000) for _ in range(100000)]"
   ]
  },
  {
   "cell_type": "code",
   "execution_count": 60,
   "id": "36518229-1752-4e2d-a875-c3e4faa3b225",
   "metadata": {},
   "outputs": [
    {
     "name": "stdout",
     "output_type": "stream",
     "text": [
      "536 ms ± 16.6 ms per loop (mean ± std. dev. of 7 runs, 1 loop each)\n",
      "24.6 ms ± 1.06 ms per loop (mean ± std. dev. of 7 runs, 10 loops each)\n"
     ]
    }
   ],
   "source": [
    "%timeit movingAverage(myLst, 1000)\n",
    "%timeit movingAverageQ(myLst, 1000)"
   ]
  },
  {
   "cell_type": "code",
   "execution_count": 61,
   "id": "5f0d8eb2-e5fa-45da-8962-01148b9bbda7",
   "metadata": {},
   "outputs": [
    {
     "name": "stdout",
     "output_type": "stream",
     "text": [
      "16.5 ms ± 2.16 ms per loop (mean ± std. dev. of 7 runs, 100 loops each)\n"
     ]
    }
   ],
   "source": [
    "%timeit movingAverageDq(myLst, 1000)"
   ]
  },
  {
   "cell_type": "markdown",
   "id": "fa8b9410-9a61-4d51-8d23-c9a8f125db0f",
   "metadata": {},
   "source": [
    "## 281. Zigzag Iterator\n",
    "\n"
   ]
  },
  {
   "cell_type": "code",
   "execution_count": 82,
   "id": "31e04dfa-fc87-452a-b6be-ce3f2135cf08",
   "metadata": {},
   "outputs": [],
   "source": [
    "class ZigzagIterator:\n",
    "    def __init__(self, v1, v2):\n",
    "        self.iterators = [iter(v1), iter(v2)]\n",
    "        self.current = 0\n",
    "\n",
    "    def __iter__(self):\n",
    "        return self\n",
    "\n",
    "    def __next__(self):\n",
    "        if not self.iterators[self.current]:\n",
    "            self.current = (self.current + 1) % 2\n",
    "        \n",
    "        if not self.iterators[self.current]:\n",
    "            raise StopIteration\n",
    "        \n",
    "        value = next(self.iterators[self.current])\n",
    "        self.current = (self.current + 1) % 2\n",
    "        return value"
   ]
  },
  {
   "cell_type": "code",
   "execution_count": 86,
   "id": "2d19691a-8a2c-4368-a1eb-286894f7ae68",
   "metadata": {},
   "outputs": [
    {
     "name": "stdout",
     "output_type": "stream",
     "text": [
      "1 2 3 4 5 6 7 8 9 "
     ]
    }
   ],
   "source": [
    "v1 = [1, 3, 5, 7, 9]\n",
    "v2 = [2, 4, 6, 8]\n",
    "\n",
    "zigzag = ZigzagIterator(v1, v2)\n",
    "\n",
    "for value in zigzag:\n",
    "    print(value, end=' ')"
   ]
  },
  {
   "cell_type": "markdown",
   "id": "56c11112-2cbb-43e7-9f7a-36c888064fb9",
   "metadata": {},
   "source": [
    "## 54. Spiral Matrix\n",
    "\n",
    "Given an m x n matrix, return all elements of the matrix in spiral order.\n",
    "\n",
    "Input: matrix = [[1,2,3],[4,5,6],[7,8,9]]\r\n",
    "Output: [1,2,3,6,9,8,7,4,5]"
   ]
  },
  {
   "cell_type": "code",
   "execution_count": 1,
   "id": "bad5529a-4b71-4a14-b921-b1a87b979999",
   "metadata": {},
   "outputs": [],
   "source": [
    "import numpy as np"
   ]
  },
  {
   "cell_type": "code",
   "execution_count": 5,
   "id": "fcde02e4-0d7b-4397-901f-cf7ff679dd3f",
   "metadata": {},
   "outputs": [
    {
     "name": "stdout",
     "output_type": "stream",
     "text": [
      "37.7 µs ± 1.51 µs per loop (mean ± std. dev. of 7 runs, 10,000 loops each)\n"
     ]
    }
   ],
   "source": [
    "%%timeit\n",
    "x = np.arange(1000).reshape(4,-1)\n",
    "output = []\n",
    "while len(x):\n",
    "    output.extend(x[0])\n",
    "    x = x[1:,::-1].T\n",
    "# print(output)"
   ]
  },
  {
   "cell_type": "markdown",
   "id": "3968d9b6-e936-49b5-bbe7-58868a20778b",
   "metadata": {},
   "source": [
    "## 362. Design Hit Counter"
   ]
  },
  {
   "cell_type": "code",
   "execution_count": 50,
   "id": "4d3bea5f-45a7-4f01-954e-eca7c9020d0d",
   "metadata": {},
   "outputs": [],
   "source": [
    "lag =10\n",
    "class hitCounter:\n",
    "    def __init__(self):\n",
    "        self.timestamps = [0]*lag\n",
    "        self.hits = [0]*lag\n",
    "\n",
    "    def hit(self,timestamp):\n",
    "        idx = timestamp % lag\n",
    "        if self.timestamps[idx] != timestamp: \n",
    "            self.timestamps[idx] = timestamp\n",
    "            self.hits[idx] = 1\n",
    "        else:\n",
    "            self.hits[idx] += 1\n",
    "\n",
    "    def gethits(self,timestamp):\n",
    "        return sum([h for h,t in zip(self.hits,self.timestamps) if t > timestamp - lag])\n",
    "        "
   ]
  },
  {
   "cell_type": "code",
   "execution_count": 51,
   "id": "b5c5f88f-4e48-486e-99c9-f0826b7b5b4a",
   "metadata": {},
   "outputs": [],
   "source": [
    "counter = hitCounter()"
   ]
  },
  {
   "cell_type": "code",
   "execution_count": 52,
   "id": "79b42c21-613b-434a-bc05-188c771b1d2c",
   "metadata": {},
   "outputs": [
    {
     "name": "stdout",
     "output_type": "stream",
     "text": [
      "1\n",
      "3\n",
      "1\n"
     ]
    }
   ],
   "source": [
    "counter.hit(23)\n",
    "print(counter.gethits(24))\n",
    "counter.hit(25)\n",
    "counter.hit(25)\n",
    "print(counter.gethits(25))\n",
    "counter.hit(35)\n",
    "print(counter.gethits(35))"
   ]
  },
  {
   "cell_type": "code",
   "execution_count": null,
   "id": "5fc53414-199a-4941-ae7f-037021f02b4e",
   "metadata": {},
   "outputs": [],
   "source": []
  }
 ],
 "metadata": {
  "kernelspec": {
   "display_name": "Python 3 (ipykernel)",
   "language": "python",
   "name": "python3"
  },
  "language_info": {
   "codemirror_mode": {
    "name": "ipython",
    "version": 3
   },
   "file_extension": ".py",
   "mimetype": "text/x-python",
   "name": "python",
   "nbconvert_exporter": "python",
   "pygments_lexer": "ipython3",
   "version": "3.11.4"
  }
 },
 "nbformat": 4,
 "nbformat_minor": 5
}
