{
 "cells": [
  {
   "cell_type": "code",
   "execution_count": 1,
   "id": "decb8390",
   "metadata": {},
   "outputs": [],
   "source": [
    "import polars as pl\n",
    "from polars.testing.parametric import dataframes, column"
   ]
  },
  {
   "cell_type": "code",
   "execution_count": null,
   "id": "d065bc69",
   "metadata": {},
   "outputs": [],
   "source": [
    "pl.Config.set_tbl_rows(100)\n",
    "\n",
    "Book = pl.Enum(\"XYZ\")\n",
    "\n",
    "def generate(size=20):\n",
    "    return dataframes(\n",
    "    [\n",
    "        column(\"id\", dtype=pl.UInt16, unique=True, allow_null=False), \n",
    "        column(\"value\", dtype=pl.Float64, allow_null=False), \n",
    "        column(\"category\", dtype = Book, allow_null=False)\n",
    "    ], \n",
    "    min_size=size, max_size=size)\n",
    "\n",
    "original = generate().example()"
   ]
  },
  {
   "cell_type": "code",
   "execution_count": 3,
   "id": "b3b066b9",
   "metadata": {},
   "outputs": [
    {
     "data": {
      "text/html": [
       "<div><style>\n",
       ".dataframe > thead > tr,\n",
       ".dataframe > tbody > tr {\n",
       "  text-align: right;\n",
       "  white-space: pre-wrap;\n",
       "}\n",
       "</style>\n",
       "<small>shape: (20, 3)</small><table border=\"1\" class=\"dataframe\"><thead><tr><th>id</th><th>value</th><th>category</th></tr><tr><td>u16</td><td>f64</td><td>enum</td></tr></thead><tbody><tr><td>63323</td><td>1.0278e139</td><td>&quot;X&quot;</td></tr><tr><td>63685</td><td>1.6870e221</td><td>&quot;Y&quot;</td></tr><tr><td>54131</td><td>5.0194e16</td><td>&quot;Y&quot;</td></tr><tr><td>54624</td><td>-4.0034e-10</td><td>&quot;Z&quot;</td></tr><tr><td>299</td><td>-3.3401e41</td><td>&quot;Z&quot;</td></tr><tr><td>10238</td><td>-3.7161e137</td><td>&quot;Y&quot;</td></tr><tr><td>21722</td><td>-4.4864e45</td><td>&quot;Y&quot;</td></tr><tr><td>21562</td><td>-4.9719e16</td><td>&quot;Z&quot;</td></tr><tr><td>62647</td><td>1.0605e86</td><td>&quot;Z&quot;</td></tr><tr><td>10981</td><td>-6.4742e73</td><td>&quot;Y&quot;</td></tr><tr><td>47512</td><td>-8.5754e291</td><td>&quot;X&quot;</td></tr><tr><td>26101</td><td>-7.1264e14</td><td>&quot;X&quot;</td></tr><tr><td>6737</td><td>-2.00001</td><td>&quot;Y&quot;</td></tr><tr><td>48680</td><td>6.1712e-34</td><td>&quot;Y&quot;</td></tr><tr><td>23084</td><td>-0.5</td><td>&quot;Z&quot;</td></tr><tr><td>28673</td><td>7.1279e16</td><td>&quot;X&quot;</td></tr><tr><td>56237</td><td>7.3377e-12</td><td>&quot;Z&quot;</td></tr><tr><td>42860</td><td>-2.5249e172</td><td>&quot;Z&quot;</td></tr><tr><td>17060</td><td>-3.0059e-161</td><td>&quot;Y&quot;</td></tr><tr><td>63161</td><td>-1.0021e42</td><td>&quot;X&quot;</td></tr></tbody></table></div>"
      ],
      "text/plain": [
       "shape: (20, 3)\n",
       "┌───────┬──────────────┬──────────┐\n",
       "│ id    ┆ value        ┆ category │\n",
       "│ ---   ┆ ---          ┆ ---      │\n",
       "│ u16   ┆ f64          ┆ enum     │\n",
       "╞═══════╪══════════════╪══════════╡\n",
       "│ 63323 ┆ 1.0278e139   ┆ X        │\n",
       "│ 63685 ┆ 1.6870e221   ┆ Y        │\n",
       "│ 54131 ┆ 5.0194e16    ┆ Y        │\n",
       "│ 54624 ┆ -4.0034e-10  ┆ Z        │\n",
       "│ 299   ┆ -3.3401e41   ┆ Z        │\n",
       "│ 10238 ┆ -3.7161e137  ┆ Y        │\n",
       "│ 21722 ┆ -4.4864e45   ┆ Y        │\n",
       "│ 21562 ┆ -4.9719e16   ┆ Z        │\n",
       "│ 62647 ┆ 1.0605e86    ┆ Z        │\n",
       "│ 10981 ┆ -6.4742e73   ┆ Y        │\n",
       "│ 47512 ┆ -8.5754e291  ┆ X        │\n",
       "│ 26101 ┆ -7.1264e14   ┆ X        │\n",
       "│ 6737  ┆ -2.00001     ┆ Y        │\n",
       "│ 48680 ┆ 6.1712e-34   ┆ Y        │\n",
       "│ 23084 ┆ -0.5         ┆ Z        │\n",
       "│ 28673 ┆ 7.1279e16    ┆ X        │\n",
       "│ 56237 ┆ 7.3377e-12   ┆ Z        │\n",
       "│ 42860 ┆ -2.5249e172  ┆ Z        │\n",
       "│ 17060 ┆ -3.0059e-161 ┆ Y        │\n",
       "│ 63161 ┆ -1.0021e42   ┆ X        │\n",
       "└───────┴──────────────┴──────────┘"
      ]
     },
     "execution_count": 3,
     "metadata": {},
     "output_type": "execute_result"
    }
   ],
   "source": [
    "original"
   ]
  },
  {
   "cell_type": "code",
   "execution_count": null,
   "id": "a7360174",
   "metadata": {},
   "outputs": [],
   "source": [
    "def mutate(df, k,j):\n",
    "    return df.with_columns(\n",
    "        category = pl.when(pl.col.category == k).then(pl.lit(j).cast(Book)).otherwise(\"category\"),\n",
    "    )"
   ]
  },
  {
   "cell_type": "code",
   "execution_count": 5,
   "id": "4edc17d8",
   "metadata": {},
   "outputs": [],
   "source": [
    "new = pl.concat([mutate(original, \"X\",\"Z\").head(18), generate(3).example()])"
   ]
  },
  {
   "cell_type": "code",
   "execution_count": 6,
   "id": "88b13d51",
   "metadata": {},
   "outputs": [
    {
     "data": {
      "text/html": [
       "<div><style>\n",
       ".dataframe > thead > tr,\n",
       ".dataframe > tbody > tr {\n",
       "  text-align: right;\n",
       "  white-space: pre-wrap;\n",
       "}\n",
       "</style>\n",
       "<small>shape: (21, 3)</small><table border=\"1\" class=\"dataframe\"><thead><tr><th>id</th><th>value</th><th>category</th></tr><tr><td>u16</td><td>f64</td><td>enum</td></tr></thead><tbody><tr><td>63323</td><td>1.0278e139</td><td>&quot;Z&quot;</td></tr><tr><td>63685</td><td>1.6870e221</td><td>&quot;Y&quot;</td></tr><tr><td>54131</td><td>5.0194e16</td><td>&quot;Y&quot;</td></tr><tr><td>54624</td><td>-4.0034e-10</td><td>&quot;Z&quot;</td></tr><tr><td>299</td><td>-3.3401e41</td><td>&quot;Z&quot;</td></tr><tr><td>10238</td><td>-3.7161e137</td><td>&quot;Y&quot;</td></tr><tr><td>21722</td><td>-4.4864e45</td><td>&quot;Y&quot;</td></tr><tr><td>21562</td><td>-4.9719e16</td><td>&quot;Z&quot;</td></tr><tr><td>62647</td><td>1.0605e86</td><td>&quot;Z&quot;</td></tr><tr><td>10981</td><td>-6.4742e73</td><td>&quot;Y&quot;</td></tr><tr><td>47512</td><td>-8.5754e291</td><td>&quot;Z&quot;</td></tr><tr><td>26101</td><td>-7.1264e14</td><td>&quot;Z&quot;</td></tr><tr><td>6737</td><td>-2.00001</td><td>&quot;Y&quot;</td></tr><tr><td>48680</td><td>6.1712e-34</td><td>&quot;Y&quot;</td></tr><tr><td>23084</td><td>-0.5</td><td>&quot;Z&quot;</td></tr><tr><td>28673</td><td>7.1279e16</td><td>&quot;Z&quot;</td></tr><tr><td>56237</td><td>7.3377e-12</td><td>&quot;Z&quot;</td></tr><tr><td>42860</td><td>-2.5249e172</td><td>&quot;Z&quot;</td></tr><tr><td>6971</td><td>-4.9505e16</td><td>&quot;Y&quot;</td></tr><tr><td>19954</td><td>-1.7268e-306</td><td>&quot;X&quot;</td></tr><tr><td>5043</td><td>6.7884e58</td><td>&quot;Z&quot;</td></tr></tbody></table></div>"
      ],
      "text/plain": [
       "shape: (21, 3)\n",
       "┌───────┬──────────────┬──────────┐\n",
       "│ id    ┆ value        ┆ category │\n",
       "│ ---   ┆ ---          ┆ ---      │\n",
       "│ u16   ┆ f64          ┆ enum     │\n",
       "╞═══════╪══════════════╪══════════╡\n",
       "│ 63323 ┆ 1.0278e139   ┆ Z        │\n",
       "│ 63685 ┆ 1.6870e221   ┆ Y        │\n",
       "│ 54131 ┆ 5.0194e16    ┆ Y        │\n",
       "│ 54624 ┆ -4.0034e-10  ┆ Z        │\n",
       "│ 299   ┆ -3.3401e41   ┆ Z        │\n",
       "│ 10238 ┆ -3.7161e137  ┆ Y        │\n",
       "│ 21722 ┆ -4.4864e45   ┆ Y        │\n",
       "│ 21562 ┆ -4.9719e16   ┆ Z        │\n",
       "│ 62647 ┆ 1.0605e86    ┆ Z        │\n",
       "│ 10981 ┆ -6.4742e73   ┆ Y        │\n",
       "│ 47512 ┆ -8.5754e291  ┆ Z        │\n",
       "│ 26101 ┆ -7.1264e14   ┆ Z        │\n",
       "│ 6737  ┆ -2.00001     ┆ Y        │\n",
       "│ 48680 ┆ 6.1712e-34   ┆ Y        │\n",
       "│ 23084 ┆ -0.5         ┆ Z        │\n",
       "│ 28673 ┆ 7.1279e16    ┆ Z        │\n",
       "│ 56237 ┆ 7.3377e-12   ┆ Z        │\n",
       "│ 42860 ┆ -2.5249e172  ┆ Z        │\n",
       "│ 6971  ┆ -4.9505e16   ┆ Y        │\n",
       "│ 19954 ┆ -1.7268e-306 ┆ X        │\n",
       "│ 5043  ┆ 6.7884e58    ┆ Z        │\n",
       "└───────┴──────────────┴──────────┘"
      ]
     },
     "execution_count": 6,
     "metadata": {},
     "output_type": "execute_result"
    }
   ],
   "source": [
    "new"
   ]
  },
  {
   "cell_type": "code",
   "execution_count": 7,
   "id": "91a976e1",
   "metadata": {},
   "outputs": [
    {
     "data": {
      "text/html": [
       "<div><style>\n",
       ".dataframe > thead > tr,\n",
       ".dataframe > tbody > tr {\n",
       "  text-align: right;\n",
       "  white-space: pre-wrap;\n",
       "}\n",
       "</style>\n",
       "<small>shape: (3, 2)</small><table border=\"1\" class=\"dataframe\"><thead><tr><th>category</th><th>value</th></tr><tr><td>enum</td><td>f64</td></tr></thead><tbody><tr><td>&quot;X&quot;</td><td>-8.5754e291</td></tr><tr><td>&quot;Y&quot;</td><td>1.6870e221</td></tr><tr><td>&quot;Z&quot;</td><td>-2.5249e172</td></tr></tbody></table></div>"
      ],
      "text/plain": [
       "shape: (3, 2)\n",
       "┌──────────┬─────────────┐\n",
       "│ category ┆ value       │\n",
       "│ ---      ┆ ---         │\n",
       "│ enum     ┆ f64         │\n",
       "╞══════════╪═════════════╡\n",
       "│ X        ┆ -8.5754e291 │\n",
       "│ Y        ┆ 1.6870e221  │\n",
       "│ Z        ┆ -2.5249e172 │\n",
       "└──────────┴─────────────┘"
      ]
     },
     "execution_count": 7,
     "metadata": {},
     "output_type": "execute_result"
    }
   ],
   "source": [
    "original.group_by(\"category\").agg(pl.sum(\"value\"))"
   ]
  },
  {
   "cell_type": "code",
   "execution_count": 8,
   "id": "a3fb8848",
   "metadata": {},
   "outputs": [
    {
     "data": {
      "text/html": [
       "<div><style>\n",
       ".dataframe > thead > tr,\n",
       ".dataframe > tbody > tr {\n",
       "  text-align: right;\n",
       "  white-space: pre-wrap;\n",
       "}\n",
       "</style>\n",
       "<small>shape: (3, 2)</small><table border=\"1\" class=\"dataframe\"><thead><tr><th>category</th><th>value</th></tr><tr><td>enum</td><td>f64</td></tr></thead><tbody><tr><td>&quot;Z&quot;</td><td>-8.5754e291</td></tr><tr><td>&quot;Y&quot;</td><td>1.6870e221</td></tr><tr><td>&quot;X&quot;</td><td>-1.7268e-306</td></tr></tbody></table></div>"
      ],
      "text/plain": [
       "shape: (3, 2)\n",
       "┌──────────┬──────────────┐\n",
       "│ category ┆ value        │\n",
       "│ ---      ┆ ---          │\n",
       "│ enum     ┆ f64          │\n",
       "╞══════════╪══════════════╡\n",
       "│ Z        ┆ -8.5754e291  │\n",
       "│ Y        ┆ 1.6870e221   │\n",
       "│ X        ┆ -1.7268e-306 │\n",
       "└──────────┴──────────────┘"
      ]
     },
     "execution_count": 8,
     "metadata": {},
     "output_type": "execute_result"
    }
   ],
   "source": [
    "new.group_by(\"category\").agg(pl.sum(\"value\"))"
   ]
  },
  {
   "cell_type": "code",
   "execution_count": 9,
   "id": "0f535511",
   "metadata": {},
   "outputs": [],
   "source": [
    "full = original.join(new, on=\"id\", how=\"full\")"
   ]
  },
  {
   "cell_type": "code",
   "execution_count": 10,
   "id": "5b612724",
   "metadata": {},
   "outputs": [],
   "source": [
    "minus = (\n",
    "    full\n",
    "    .filter((pl.col.category==\"X\") & (pl.col.category_right!=\"X\"))\n",
    "    .select(pl.col.value.sum())\n",
    ")"
   ]
  },
  {
   "cell_type": "code",
   "execution_count": 11,
   "id": "11980805",
   "metadata": {},
   "outputs": [],
   "source": [
    "plus = (full.filter(\n",
    "   ( (pl.col.category != \"X\") | pl.col.category.is_null()) & (pl.col.category_right==\"X\") \n",
    ")\n",
    ".select(pl.col.value_right.sum()))"
   ]
  },
  {
   "cell_type": "code",
   "execution_count": 12,
   "id": "49d48d65",
   "metadata": {},
   "outputs": [
    {
     "data": {
      "text/html": [
       "<div><style>\n",
       ".dataframe > thead > tr,\n",
       ".dataframe > tbody > tr {\n",
       "  text-align: right;\n",
       "  white-space: pre-wrap;\n",
       "}\n",
       "</style>\n",
       "<small>shape: (1, 1)</small><table border=\"1\" class=\"dataframe\"><thead><tr><th>value</th></tr><tr><td>f64</td></tr></thead><tbody><tr><td>-1.7268e-306</td></tr></tbody></table></div>"
      ],
      "text/plain": [
       "shape: (1, 1)\n",
       "┌──────────────┐\n",
       "│ value        │\n",
       "│ ---          │\n",
       "│ f64          │\n",
       "╞══════════════╡\n",
       "│ -1.7268e-306 │\n",
       "└──────────────┘"
      ]
     },
     "execution_count": 12,
     "metadata": {},
     "output_type": "execute_result"
    }
   ],
   "source": [
    "original.filter(pl.col.category==\"X\").select(pl.col.value.sum()) - minus + plus"
   ]
  },
  {
   "cell_type": "code",
   "execution_count": 13,
   "id": "d83ceccb",
   "metadata": {},
   "outputs": [
    {
     "data": {
      "text/html": [
       "<div><style>\n",
       ".dataframe > thead > tr,\n",
       ".dataframe > tbody > tr {\n",
       "  text-align: right;\n",
       "  white-space: pre-wrap;\n",
       "}\n",
       "</style>\n",
       "<small>shape: (3, 2)</small><table border=\"1\" class=\"dataframe\"><thead><tr><th>category</th><th>value</th></tr><tr><td>enum</td><td>f64</td></tr></thead><tbody><tr><td>&quot;Z&quot;</td><td>-8.5754e291</td></tr><tr><td>&quot;Y&quot;</td><td>1.6870e221</td></tr><tr><td>&quot;X&quot;</td><td>-1.7268e-306</td></tr></tbody></table></div>"
      ],
      "text/plain": [
       "shape: (3, 2)\n",
       "┌──────────┬──────────────┐\n",
       "│ category ┆ value        │\n",
       "│ ---      ┆ ---          │\n",
       "│ enum     ┆ f64          │\n",
       "╞══════════╪══════════════╡\n",
       "│ Z        ┆ -8.5754e291  │\n",
       "│ Y        ┆ 1.6870e221   │\n",
       "│ X        ┆ -1.7268e-306 │\n",
       "└──────────┴──────────────┘"
      ]
     },
     "execution_count": 13,
     "metadata": {},
     "output_type": "execute_result"
    }
   ],
   "source": [
    "new.group_by(\"category\").agg(pl.sum(\"value\"))"
   ]
  },
  {
   "cell_type": "code",
   "execution_count": null,
   "id": "17e278c7",
   "metadata": {},
   "outputs": [],
   "source": []
  }
 ],
 "metadata": {
  "kernelspec": {
   "display_name": ".venv",
   "language": "python",
   "name": "python3"
  },
  "language_info": {
   "codemirror_mode": {
    "name": "ipython",
    "version": 3
   },
   "file_extension": ".py",
   "mimetype": "text/x-python",
   "name": "python",
   "nbconvert_exporter": "python",
   "pygments_lexer": "ipython3",
   "version": "3.12.7"
  }
 },
 "nbformat": 4,
 "nbformat_minor": 5
}
