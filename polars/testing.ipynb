{
 "cells": [
  {
   "cell_type": "code",
   "execution_count": 1,
   "id": "decb8390",
   "metadata": {},
   "outputs": [],
   "source": [
    "import polars as pl\n",
    "from polars.testing.parametric import dataframes, column"
   ]
  },
  {
   "cell_type": "code",
   "execution_count": 2,
   "id": "d065bc69",
   "metadata": {},
   "outputs": [],
   "source": [
    "pl.Config.set_tbl_rows(100)\n",
    "\n",
    "Book = pl.Enum(\"XYZ\")\n",
    "\n",
    "def generate(size=20):\n",
    "    return dataframes(\n",
    "    [\n",
    "        column(\"id\", dtype=pl.UInt16, unique=True, allow_null=False, ), \n",
    "        column(\"value\", dtype=pl.UInt64, allow_null=False), \n",
    "        column(\"category\", dtype = Book, allow_null=False)\n",
    "    ], \n",
    "    min_size=size, max_size=size)\n",
    "\n",
    "original = generate().example()"
   ]
  },
  {
   "cell_type": "code",
   "execution_count": 3,
   "id": "b3b066b9",
   "metadata": {},
   "outputs": [
    {
     "data": {
      "text/html": [
       "<div><style>\n",
       ".dataframe > thead > tr,\n",
       ".dataframe > tbody > tr {\n",
       "  text-align: right;\n",
       "  white-space: pre-wrap;\n",
       "}\n",
       "</style>\n",
       "<small>shape: (20, 3)</small><table border=\"1\" class=\"dataframe\"><thead><tr><th>id</th><th>value</th><th>category</th></tr><tr><td>u16</td><td>u64</td><td>enum</td></tr></thead><tbody><tr><td>4067</td><td>235</td><td>&quot;Y&quot;</td></tr><tr><td>41792</td><td>14859</td><td>&quot;Z&quot;</td></tr><tr><td>57974</td><td>3528471696</td><td>&quot;Z&quot;</td></tr><tr><td>11932</td><td>6886</td><td>&quot;Y&quot;</td></tr><tr><td>1335</td><td>2156407849</td><td>&quot;Y&quot;</td></tr><tr><td>52879</td><td>17579990059705017543</td><td>&quot;X&quot;</td></tr><tr><td>26422</td><td>22308</td><td>&quot;Z&quot;</td></tr><tr><td>12369</td><td>3754081059</td><td>&quot;Z&quot;</td></tr><tr><td>35845</td><td>1466847458764306160</td><td>&quot;X&quot;</td></tr><tr><td>965</td><td>4095959279508537201</td><td>&quot;Y&quot;</td></tr><tr><td>12525</td><td>9756</td><td>&quot;X&quot;</td></tr><tr><td>36795</td><td>4040673178</td><td>&quot;Z&quot;</td></tr><tr><td>65534</td><td>64885</td><td>&quot;X&quot;</td></tr><tr><td>14620</td><td>15787</td><td>&quot;X&quot;</td></tr><tr><td>60141</td><td>137</td><td>&quot;Z&quot;</td></tr><tr><td>57467</td><td>10045065941421376764</td><td>&quot;Y&quot;</td></tr><tr><td>12183</td><td>5826463923281255068</td><td>&quot;Y&quot;</td></tr><tr><td>13495</td><td>22112</td><td>&quot;Z&quot;</td></tr><tr><td>55199</td><td>1925</td><td>&quot;Z&quot;</td></tr><tr><td>19483</td><td>10983147424308850504</td><td>&quot;X&quot;</td></tr></tbody></table></div>"
      ],
      "text/plain": [
       "shape: (20, 3)\n",
       "┌───────┬──────────────────────┬──────────┐\n",
       "│ id    ┆ value                ┆ category │\n",
       "│ ---   ┆ ---                  ┆ ---      │\n",
       "│ u16   ┆ u64                  ┆ enum     │\n",
       "╞═══════╪══════════════════════╪══════════╡\n",
       "│ 4067  ┆ 235                  ┆ Y        │\n",
       "│ 41792 ┆ 14859                ┆ Z        │\n",
       "│ 57974 ┆ 3528471696           ┆ Z        │\n",
       "│ 11932 ┆ 6886                 ┆ Y        │\n",
       "│ 1335  ┆ 2156407849           ┆ Y        │\n",
       "│ 52879 ┆ 17579990059705017543 ┆ X        │\n",
       "│ 26422 ┆ 22308                ┆ Z        │\n",
       "│ 12369 ┆ 3754081059           ┆ Z        │\n",
       "│ 35845 ┆ 1466847458764306160  ┆ X        │\n",
       "│ 965   ┆ 4095959279508537201  ┆ Y        │\n",
       "│ 12525 ┆ 9756                 ┆ X        │\n",
       "│ 36795 ┆ 4040673178           ┆ Z        │\n",
       "│ 65534 ┆ 64885                ┆ X        │\n",
       "│ 14620 ┆ 15787                ┆ X        │\n",
       "│ 60141 ┆ 137                  ┆ Z        │\n",
       "│ 57467 ┆ 10045065941421376764 ┆ Y        │\n",
       "│ 12183 ┆ 5826463923281255068  ┆ Y        │\n",
       "│ 13495 ┆ 22112                ┆ Z        │\n",
       "│ 55199 ┆ 1925                 ┆ Z        │\n",
       "│ 19483 ┆ 10983147424308850504 ┆ X        │\n",
       "└───────┴──────────────────────┴──────────┘"
      ]
     },
     "execution_count": 3,
     "metadata": {},
     "output_type": "execute_result"
    }
   ],
   "source": [
    "original"
   ]
  },
  {
   "cell_type": "code",
   "execution_count": 4,
   "id": "a7360174",
   "metadata": {},
   "outputs": [],
   "source": [
    "def mutate(df, k,j):\n",
    "    return df.with_columns(\n",
    "        category = pl.when(pl.col.category == k).then(pl.lit(j).cast(Book)).otherwise(\"category\"),\n",
    "    )"
   ]
  },
  {
   "cell_type": "code",
   "execution_count": 5,
   "id": "4edc17d8",
   "metadata": {},
   "outputs": [],
   "source": [
    "new = pl.concat([mutate(original, \"X\",\"Z\").head(18), generate(3).example()])"
   ]
  },
  {
   "cell_type": "code",
   "execution_count": 6,
   "id": "88b13d51",
   "metadata": {},
   "outputs": [
    {
     "data": {
      "text/html": [
       "<div><style>\n",
       ".dataframe > thead > tr,\n",
       ".dataframe > tbody > tr {\n",
       "  text-align: right;\n",
       "  white-space: pre-wrap;\n",
       "}\n",
       "</style>\n",
       "<small>shape: (21, 3)</small><table border=\"1\" class=\"dataframe\"><thead><tr><th>id</th><th>value</th><th>category</th></tr><tr><td>u16</td><td>u64</td><td>enum</td></tr></thead><tbody><tr><td>4067</td><td>235</td><td>&quot;Y&quot;</td></tr><tr><td>41792</td><td>14859</td><td>&quot;Z&quot;</td></tr><tr><td>57974</td><td>3528471696</td><td>&quot;Z&quot;</td></tr><tr><td>11932</td><td>6886</td><td>&quot;Y&quot;</td></tr><tr><td>1335</td><td>2156407849</td><td>&quot;Y&quot;</td></tr><tr><td>52879</td><td>17579990059705017543</td><td>&quot;Z&quot;</td></tr><tr><td>26422</td><td>22308</td><td>&quot;Z&quot;</td></tr><tr><td>12369</td><td>3754081059</td><td>&quot;Z&quot;</td></tr><tr><td>35845</td><td>1466847458764306160</td><td>&quot;Z&quot;</td></tr><tr><td>965</td><td>4095959279508537201</td><td>&quot;Y&quot;</td></tr><tr><td>12525</td><td>9756</td><td>&quot;Z&quot;</td></tr><tr><td>36795</td><td>4040673178</td><td>&quot;Z&quot;</td></tr><tr><td>65534</td><td>64885</td><td>&quot;Z&quot;</td></tr><tr><td>14620</td><td>15787</td><td>&quot;Z&quot;</td></tr><tr><td>60141</td><td>137</td><td>&quot;Z&quot;</td></tr><tr><td>57467</td><td>10045065941421376764</td><td>&quot;Y&quot;</td></tr><tr><td>12183</td><td>5826463923281255068</td><td>&quot;Y&quot;</td></tr><tr><td>13495</td><td>22112</td><td>&quot;Z&quot;</td></tr><tr><td>42547</td><td>35551</td><td>&quot;Z&quot;</td></tr><tr><td>25294</td><td>24840</td><td>&quot;X&quot;</td></tr><tr><td>47605</td><td>48992</td><td>&quot;Y&quot;</td></tr></tbody></table></div>"
      ],
      "text/plain": [
       "shape: (21, 3)\n",
       "┌───────┬──────────────────────┬──────────┐\n",
       "│ id    ┆ value                ┆ category │\n",
       "│ ---   ┆ ---                  ┆ ---      │\n",
       "│ u16   ┆ u64                  ┆ enum     │\n",
       "╞═══════╪══════════════════════╪══════════╡\n",
       "│ 4067  ┆ 235                  ┆ Y        │\n",
       "│ 41792 ┆ 14859                ┆ Z        │\n",
       "│ 57974 ┆ 3528471696           ┆ Z        │\n",
       "│ 11932 ┆ 6886                 ┆ Y        │\n",
       "│ 1335  ┆ 2156407849           ┆ Y        │\n",
       "│ 52879 ┆ 17579990059705017543 ┆ Z        │\n",
       "│ 26422 ┆ 22308                ┆ Z        │\n",
       "│ 12369 ┆ 3754081059           ┆ Z        │\n",
       "│ 35845 ┆ 1466847458764306160  ┆ Z        │\n",
       "│ 965   ┆ 4095959279508537201  ┆ Y        │\n",
       "│ 12525 ┆ 9756                 ┆ Z        │\n",
       "│ 36795 ┆ 4040673178           ┆ Z        │\n",
       "│ 65534 ┆ 64885                ┆ Z        │\n",
       "│ 14620 ┆ 15787                ┆ Z        │\n",
       "│ 60141 ┆ 137                  ┆ Z        │\n",
       "│ 57467 ┆ 10045065941421376764 ┆ Y        │\n",
       "│ 12183 ┆ 5826463923281255068  ┆ Y        │\n",
       "│ 13495 ┆ 22112                ┆ Z        │\n",
       "│ 42547 ┆ 35551                ┆ Z        │\n",
       "│ 25294 ┆ 24840                ┆ X        │\n",
       "│ 47605 ┆ 48992                ┆ Y        │\n",
       "└───────┴──────────────────────┴──────────┘"
      ]
     },
     "execution_count": 6,
     "metadata": {},
     "output_type": "execute_result"
    }
   ],
   "source": [
    "new"
   ]
  },
  {
   "cell_type": "code",
   "execution_count": 7,
   "id": "91a976e1",
   "metadata": {},
   "outputs": [
    {
     "data": {
      "text/html": [
       "<div><style>\n",
       ".dataframe > thead > tr,\n",
       ".dataframe > tbody > tr {\n",
       "  text-align: right;\n",
       "  white-space: pre-wrap;\n",
       "}\n",
       "</style>\n",
       "<small>shape: (3, 2)</small><table border=\"1\" class=\"dataframe\"><thead><tr><th>category</th><th>value</th></tr><tr><td>enum</td><td>u64</td></tr></thead><tbody><tr><td>&quot;Y&quot;</td><td>1520745072658032387</td></tr><tr><td>&quot;Z&quot;</td><td>11323287274</td></tr><tr><td>&quot;X&quot;</td><td>11583240869068713019</td></tr></tbody></table></div>"
      ],
      "text/plain": [
       "shape: (3, 2)\n",
       "┌──────────┬──────────────────────┐\n",
       "│ category ┆ value                │\n",
       "│ ---      ┆ ---                  │\n",
       "│ enum     ┆ u64                  │\n",
       "╞══════════╪══════════════════════╡\n",
       "│ Y        ┆ 1520745072658032387  │\n",
       "│ Z        ┆ 11323287274          │\n",
       "│ X        ┆ 11583240869068713019 │\n",
       "└──────────┴──────────────────────┘"
      ]
     },
     "execution_count": 7,
     "metadata": {},
     "output_type": "execute_result"
    }
   ],
   "source": [
    "original.group_by(\"category\").agg(pl.sum(\"value\"))"
   ]
  },
  {
   "cell_type": "code",
   "execution_count": 8,
   "id": "a3fb8848",
   "metadata": {},
   "outputs": [
    {
     "data": {
      "text/html": [
       "<div><style>\n",
       ".dataframe > thead > tr,\n",
       ".dataframe > tbody > tr {\n",
       "  text-align: right;\n",
       "  white-space: pre-wrap;\n",
       "}\n",
       "</style>\n",
       "<small>shape: (3, 2)</small><table border=\"1\" class=\"dataframe\"><thead><tr><th>category</th><th>value</th></tr><tr><td>enum</td><td>u64</td></tr></thead><tbody><tr><td>&quot;Y&quot;</td><td>1520745072658081379</td></tr><tr><td>&quot;Z&quot;</td><td>600093456083183415</td></tr><tr><td>&quot;X&quot;</td><td>24840</td></tr></tbody></table></div>"
      ],
      "text/plain": [
       "shape: (3, 2)\n",
       "┌──────────┬─────────────────────┐\n",
       "│ category ┆ value               │\n",
       "│ ---      ┆ ---                 │\n",
       "│ enum     ┆ u64                 │\n",
       "╞══════════╪═════════════════════╡\n",
       "│ Y        ┆ 1520745072658081379 │\n",
       "│ Z        ┆ 600093456083183415  │\n",
       "│ X        ┆ 24840               │\n",
       "└──────────┴─────────────────────┘"
      ]
     },
     "execution_count": 8,
     "metadata": {},
     "output_type": "execute_result"
    }
   ],
   "source": [
    "new.group_by(\"category\").agg(pl.sum(\"value\"))"
   ]
  },
  {
   "cell_type": "code",
   "execution_count": 9,
   "id": "0f535511",
   "metadata": {},
   "outputs": [],
   "source": [
    "full = original.join(new, on=\"id\", how=\"full\")"
   ]
  },
  {
   "cell_type": "code",
   "execution_count": 10,
   "id": "d3b2b313",
   "metadata": {},
   "outputs": [
    {
     "data": {
      "text/html": [
       "<div><style>\n",
       ".dataframe > thead > tr,\n",
       ".dataframe > tbody > tr {\n",
       "  text-align: right;\n",
       "  white-space: pre-wrap;\n",
       "}\n",
       "</style>\n",
       "<small>shape: (23, 6)</small><table border=\"1\" class=\"dataframe\"><thead><tr><th>id</th><th>value</th><th>category</th><th>id_right</th><th>value_right</th><th>category_right</th></tr><tr><td>u16</td><td>u64</td><td>enum</td><td>u16</td><td>u64</td><td>enum</td></tr></thead><tbody><tr><td>4067</td><td>235</td><td>&quot;Y&quot;</td><td>4067</td><td>235</td><td>&quot;Y&quot;</td></tr><tr><td>41792</td><td>14859</td><td>&quot;Z&quot;</td><td>41792</td><td>14859</td><td>&quot;Z&quot;</td></tr><tr><td>57974</td><td>3528471696</td><td>&quot;Z&quot;</td><td>57974</td><td>3528471696</td><td>&quot;Z&quot;</td></tr><tr><td>11932</td><td>6886</td><td>&quot;Y&quot;</td><td>11932</td><td>6886</td><td>&quot;Y&quot;</td></tr><tr><td>1335</td><td>2156407849</td><td>&quot;Y&quot;</td><td>1335</td><td>2156407849</td><td>&quot;Y&quot;</td></tr><tr><td>52879</td><td>17579990059705017543</td><td>&quot;X&quot;</td><td>52879</td><td>17579990059705017543</td><td>&quot;Z&quot;</td></tr><tr><td>26422</td><td>22308</td><td>&quot;Z&quot;</td><td>26422</td><td>22308</td><td>&quot;Z&quot;</td></tr><tr><td>12369</td><td>3754081059</td><td>&quot;Z&quot;</td><td>12369</td><td>3754081059</td><td>&quot;Z&quot;</td></tr><tr><td>35845</td><td>1466847458764306160</td><td>&quot;X&quot;</td><td>35845</td><td>1466847458764306160</td><td>&quot;Z&quot;</td></tr><tr><td>965</td><td>4095959279508537201</td><td>&quot;Y&quot;</td><td>965</td><td>4095959279508537201</td><td>&quot;Y&quot;</td></tr><tr><td>12525</td><td>9756</td><td>&quot;X&quot;</td><td>12525</td><td>9756</td><td>&quot;Z&quot;</td></tr><tr><td>36795</td><td>4040673178</td><td>&quot;Z&quot;</td><td>36795</td><td>4040673178</td><td>&quot;Z&quot;</td></tr><tr><td>65534</td><td>64885</td><td>&quot;X&quot;</td><td>65534</td><td>64885</td><td>&quot;Z&quot;</td></tr><tr><td>14620</td><td>15787</td><td>&quot;X&quot;</td><td>14620</td><td>15787</td><td>&quot;Z&quot;</td></tr><tr><td>60141</td><td>137</td><td>&quot;Z&quot;</td><td>60141</td><td>137</td><td>&quot;Z&quot;</td></tr><tr><td>57467</td><td>10045065941421376764</td><td>&quot;Y&quot;</td><td>57467</td><td>10045065941421376764</td><td>&quot;Y&quot;</td></tr><tr><td>12183</td><td>5826463923281255068</td><td>&quot;Y&quot;</td><td>12183</td><td>5826463923281255068</td><td>&quot;Y&quot;</td></tr><tr><td>13495</td><td>22112</td><td>&quot;Z&quot;</td><td>13495</td><td>22112</td><td>&quot;Z&quot;</td></tr><tr><td>null</td><td>null</td><td>null</td><td>42547</td><td>35551</td><td>&quot;Z&quot;</td></tr><tr><td>null</td><td>null</td><td>null</td><td>25294</td><td>24840</td><td>&quot;X&quot;</td></tr><tr><td>null</td><td>null</td><td>null</td><td>47605</td><td>48992</td><td>&quot;Y&quot;</td></tr><tr><td>19483</td><td>10983147424308850504</td><td>&quot;X&quot;</td><td>null</td><td>null</td><td>null</td></tr><tr><td>55199</td><td>1925</td><td>&quot;Z&quot;</td><td>null</td><td>null</td><td>null</td></tr></tbody></table></div>"
      ],
      "text/plain": [
       "shape: (23, 6)\n",
       "┌───────┬──────────────────────┬──────────┬──────────┬──────────────────────┬────────────────┐\n",
       "│ id    ┆ value                ┆ category ┆ id_right ┆ value_right          ┆ category_right │\n",
       "│ ---   ┆ ---                  ┆ ---      ┆ ---      ┆ ---                  ┆ ---            │\n",
       "│ u16   ┆ u64                  ┆ enum     ┆ u16      ┆ u64                  ┆ enum           │\n",
       "╞═══════╪══════════════════════╪══════════╪══════════╪══════════════════════╪════════════════╡\n",
       "│ 4067  ┆ 235                  ┆ Y        ┆ 4067     ┆ 235                  ┆ Y              │\n",
       "│ 41792 ┆ 14859                ┆ Z        ┆ 41792    ┆ 14859                ┆ Z              │\n",
       "│ 57974 ┆ 3528471696           ┆ Z        ┆ 57974    ┆ 3528471696           ┆ Z              │\n",
       "│ 11932 ┆ 6886                 ┆ Y        ┆ 11932    ┆ 6886                 ┆ Y              │\n",
       "│ 1335  ┆ 2156407849           ┆ Y        ┆ 1335     ┆ 2156407849           ┆ Y              │\n",
       "│ 52879 ┆ 17579990059705017543 ┆ X        ┆ 52879    ┆ 17579990059705017543 ┆ Z              │\n",
       "│ 26422 ┆ 22308                ┆ Z        ┆ 26422    ┆ 22308                ┆ Z              │\n",
       "│ 12369 ┆ 3754081059           ┆ Z        ┆ 12369    ┆ 3754081059           ┆ Z              │\n",
       "│ 35845 ┆ 1466847458764306160  ┆ X        ┆ 35845    ┆ 1466847458764306160  ┆ Z              │\n",
       "│ 965   ┆ 4095959279508537201  ┆ Y        ┆ 965      ┆ 4095959279508537201  ┆ Y              │\n",
       "│ 12525 ┆ 9756                 ┆ X        ┆ 12525    ┆ 9756                 ┆ Z              │\n",
       "│ 36795 ┆ 4040673178           ┆ Z        ┆ 36795    ┆ 4040673178           ┆ Z              │\n",
       "│ 65534 ┆ 64885                ┆ X        ┆ 65534    ┆ 64885                ┆ Z              │\n",
       "│ 14620 ┆ 15787                ┆ X        ┆ 14620    ┆ 15787                ┆ Z              │\n",
       "│ 60141 ┆ 137                  ┆ Z        ┆ 60141    ┆ 137                  ┆ Z              │\n",
       "│ 57467 ┆ 10045065941421376764 ┆ Y        ┆ 57467    ┆ 10045065941421376764 ┆ Y              │\n",
       "│ 12183 ┆ 5826463923281255068  ┆ Y        ┆ 12183    ┆ 5826463923281255068  ┆ Y              │\n",
       "│ 13495 ┆ 22112                ┆ Z        ┆ 13495    ┆ 22112                ┆ Z              │\n",
       "│ null  ┆ null                 ┆ null     ┆ 42547    ┆ 35551                ┆ Z              │\n",
       "│ null  ┆ null                 ┆ null     ┆ 25294    ┆ 24840                ┆ X              │\n",
       "│ null  ┆ null                 ┆ null     ┆ 47605    ┆ 48992                ┆ Y              │\n",
       "│ 19483 ┆ 10983147424308850504 ┆ X        ┆ null     ┆ null                 ┆ null           │\n",
       "│ 55199 ┆ 1925                 ┆ Z        ┆ null     ┆ null                 ┆ null           │\n",
       "└───────┴──────────────────────┴──────────┴──────────┴──────────────────────┴────────────────┘"
      ]
     },
     "execution_count": 10,
     "metadata": {},
     "output_type": "execute_result"
    }
   ],
   "source": [
    "full"
   ]
  },
  {
   "cell_type": "code",
   "execution_count": 11,
   "id": "359453ce",
   "metadata": {},
   "outputs": [
    {
     "data": {
      "text/html": [
       "<div><style>\n",
       ".dataframe > thead > tr,\n",
       ".dataframe > tbody > tr {\n",
       "  text-align: right;\n",
       "  white-space: pre-wrap;\n",
       "}\n",
       "</style>\n",
       "<small>shape: (8, 4)</small><table border=\"1\" class=\"dataframe\"><thead><tr><th>category</th><th>category_right</th><th>value</th><th>value_right</th></tr><tr><td>enum</td><td>enum</td><td>u64</td><td>u64</td></tr></thead><tbody><tr><td>&quot;Z&quot;</td><td>&quot;Z&quot;</td><td>11323285349</td><td>11323285349</td></tr><tr><td>&quot;X&quot;</td><td>&quot;Z&quot;</td><td>600093444759862515</td><td>600093444759862515</td></tr><tr><td>&quot;Y&quot;</td><td>&quot;Y&quot;</td><td>1520745072658032387</td><td>1520745072658032387</td></tr><tr><td>null</td><td>&quot;X&quot;</td><td>0</td><td>24840</td></tr><tr><td>&quot;X&quot;</td><td>null</td><td>10983147424308850504</td><td>0</td></tr><tr><td>&quot;Z&quot;</td><td>null</td><td>1925</td><td>0</td></tr><tr><td>null</td><td>&quot;Z&quot;</td><td>0</td><td>35551</td></tr><tr><td>null</td><td>&quot;Y&quot;</td><td>0</td><td>48992</td></tr></tbody></table></div>"
      ],
      "text/plain": [
       "shape: (8, 4)\n",
       "┌──────────┬────────────────┬──────────────────────┬─────────────────────┐\n",
       "│ category ┆ category_right ┆ value                ┆ value_right         │\n",
       "│ ---      ┆ ---            ┆ ---                  ┆ ---                 │\n",
       "│ enum     ┆ enum           ┆ u64                  ┆ u64                 │\n",
       "╞══════════╪════════════════╪══════════════════════╪═════════════════════╡\n",
       "│ Z        ┆ Z              ┆ 11323285349          ┆ 11323285349         │\n",
       "│ X        ┆ Z              ┆ 600093444759862515   ┆ 600093444759862515  │\n",
       "│ Y        ┆ Y              ┆ 1520745072658032387  ┆ 1520745072658032387 │\n",
       "│ null     ┆ X              ┆ 0                    ┆ 24840               │\n",
       "│ X        ┆ null           ┆ 10983147424308850504 ┆ 0                   │\n",
       "│ Z        ┆ null           ┆ 1925                 ┆ 0                   │\n",
       "│ null     ┆ Z              ┆ 0                    ┆ 35551               │\n",
       "│ null     ┆ Y              ┆ 0                    ┆ 48992               │\n",
       "└──────────┴────────────────┴──────────────────────┴─────────────────────┘"
      ]
     },
     "execution_count": 11,
     "metadata": {},
     "output_type": "execute_result"
    }
   ],
   "source": [
    "full.group_by(pl.col.category, pl.col.category_right).agg(pl.sum(\"value\"), pl.sum(\"value_right\"))"
   ]
  },
  {
   "cell_type": "code",
   "execution_count": 12,
   "id": "14f17217",
   "metadata": {},
   "outputs": [],
   "source": [
    "from polars.testing import assert_frame_equal\n",
    "\n",
    "assert_frame_equal(\n",
    "    full.group_by(pl.col.category, pl.col.category_right).agg(pl.sum(\"value\"), pl.sum(\"value_right\"))\n",
    "    .group_by(pl.col.category).agg(pl.sum(\"value\")).drop_nulls().sort(\"category\"),\n",
    "    original.group_by(pl.col.category).agg(pl.sum(\"value\")).sort(\"category\")\n",
    ")"
   ]
  },
  {
   "cell_type": "code",
   "execution_count": 13,
   "id": "9401bfc7",
   "metadata": {},
   "outputs": [
    {
     "data": {
      "text/html": [
       "<div><style>\n",
       ".dataframe > thead > tr,\n",
       ".dataframe > tbody > tr {\n",
       "  text-align: right;\n",
       "  white-space: pre-wrap;\n",
       "}\n",
       "</style>\n",
       "<small>shape: (3, 2)</small><table border=\"1\" class=\"dataframe\"><thead><tr><th>category</th><th>value</th></tr><tr><td>enum</td><td>u64</td></tr></thead><tbody><tr><td>&quot;Y&quot;</td><td>1520745072658032387</td></tr><tr><td>&quot;X&quot;</td><td>11583240869068713019</td></tr><tr><td>&quot;Z&quot;</td><td>11323287274</td></tr></tbody></table></div>"
      ],
      "text/plain": [
       "shape: (3, 2)\n",
       "┌──────────┬──────────────────────┐\n",
       "│ category ┆ value                │\n",
       "│ ---      ┆ ---                  │\n",
       "│ enum     ┆ u64                  │\n",
       "╞══════════╪══════════════════════╡\n",
       "│ Y        ┆ 1520745072658032387  │\n",
       "│ X        ┆ 11583240869068713019 │\n",
       "│ Z        ┆ 11323287274          │\n",
       "└──────────┴──────────────────────┘"
      ]
     },
     "execution_count": 13,
     "metadata": {},
     "output_type": "execute_result"
    }
   ],
   "source": [
    "original.group_by(\"category\").agg(pl.sum(\"value\"))"
   ]
  },
  {
   "cell_type": "code",
   "execution_count": 14,
   "id": "d83ceccb",
   "metadata": {},
   "outputs": [
    {
     "data": {
      "text/html": [
       "<div><style>\n",
       ".dataframe > thead > tr,\n",
       ".dataframe > tbody > tr {\n",
       "  text-align: right;\n",
       "  white-space: pre-wrap;\n",
       "}\n",
       "</style>\n",
       "<small>shape: (3, 2)</small><table border=\"1\" class=\"dataframe\"><thead><tr><th>category</th><th>value</th></tr><tr><td>enum</td><td>u64</td></tr></thead><tbody><tr><td>&quot;X&quot;</td><td>24840</td></tr><tr><td>&quot;Y&quot;</td><td>1520745072658081379</td></tr><tr><td>&quot;Z&quot;</td><td>600093456083183415</td></tr></tbody></table></div>"
      ],
      "text/plain": [
       "shape: (3, 2)\n",
       "┌──────────┬─────────────────────┐\n",
       "│ category ┆ value               │\n",
       "│ ---      ┆ ---                 │\n",
       "│ enum     ┆ u64                 │\n",
       "╞══════════╪═════════════════════╡\n",
       "│ X        ┆ 24840               │\n",
       "│ Y        ┆ 1520745072658081379 │\n",
       "│ Z        ┆ 600093456083183415  │\n",
       "└──────────┴─────────────────────┘"
      ]
     },
     "execution_count": 14,
     "metadata": {},
     "output_type": "execute_result"
    }
   ],
   "source": [
    "new.group_by(\"category\").agg(pl.sum(\"value\"))"
   ]
  },
  {
   "cell_type": "code",
   "execution_count": null,
   "id": "17e278c7",
   "metadata": {},
   "outputs": [],
   "source": []
  }
 ],
 "metadata": {
  "kernelspec": {
   "display_name": ".venv",
   "language": "python",
   "name": "python3"
  },
  "language_info": {
   "codemirror_mode": {
    "name": "ipython",
    "version": 3
   },
   "file_extension": ".py",
   "mimetype": "text/x-python",
   "name": "python",
   "nbconvert_exporter": "python",
   "pygments_lexer": "ipython3",
   "version": "3.13.3"
  }
 },
 "nbformat": 4,
 "nbformat_minor": 5
}
