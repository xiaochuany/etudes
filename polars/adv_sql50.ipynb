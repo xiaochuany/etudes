{
 "cells": [
  {
   "cell_type": "code",
   "execution_count": 2,
   "metadata": {},
   "outputs": [],
   "source": [
    "import polars as pl\n",
    "import pandas as pd"
   ]
  },
  {
   "cell_type": "markdown",
   "metadata": {},
   "source": [
    "## 1112 higest grade for each student"
   ]
  },
  {
   "cell_type": "code",
   "execution_count": 3,
   "metadata": {},
   "outputs": [
    {
     "data": {
      "text/html": [
       "<div><style>\n",
       ".dataframe > thead > tr,\n",
       ".dataframe > tbody > tr {\n",
       "  text-align: right;\n",
       "  white-space: pre-wrap;\n",
       "}\n",
       "</style>\n",
       "<small>shape: (7, 3)</small><table border=\"1\" class=\"dataframe\"><thead><tr><th>student_id</th><th>course_id</th><th>grade</th></tr><tr><td>i64</td><td>i64</td><td>i64</td></tr></thead><tbody><tr><td>2</td><td>2</td><td>95</td></tr><tr><td>2</td><td>3</td><td>95</td></tr><tr><td>1</td><td>1</td><td>90</td></tr><tr><td>1</td><td>2</td><td>99</td></tr><tr><td>3</td><td>1</td><td>80</td></tr><tr><td>3</td><td>2</td><td>75</td></tr><tr><td>3</td><td>3</td><td>82</td></tr></tbody></table></div>"
      ],
      "text/plain": [
       "shape: (7, 3)\n",
       "┌────────────┬───────────┬───────┐\n",
       "│ student_id ┆ course_id ┆ grade │\n",
       "│ ---        ┆ ---       ┆ ---   │\n",
       "│ i64        ┆ i64       ┆ i64   │\n",
       "╞════════════╪═══════════╪═══════╡\n",
       "│ 2          ┆ 2         ┆ 95    │\n",
       "│ 2          ┆ 3         ┆ 95    │\n",
       "│ 1          ┆ 1         ┆ 90    │\n",
       "│ 1          ┆ 2         ┆ 99    │\n",
       "│ 3          ┆ 1         ┆ 80    │\n",
       "│ 3          ┆ 2         ┆ 75    │\n",
       "│ 3          ┆ 3         ┆ 82    │\n",
       "└────────────┴───────────┴───────┘"
      ]
     },
     "execution_count": 3,
     "metadata": {},
     "output_type": "execute_result"
    }
   ],
   "source": [
    "\n",
    "data = [[2, 2, 95], [2, 3, 95], [1, 1, 90], [1, 2, 99], [3, 1, 80], [3, 2, 75], [3, 3, 82]]\n",
    "enrollments = pl.from_pandas(pd.DataFrame(data, columns=['student_id', 'course_id', 'grade']).astype({'student_id':'Int64', 'course_id':'Int64', 'grade':'Int64'}))\n",
    "enrollments"
   ]
  },
  {
   "cell_type": "code",
   "execution_count": 5,
   "metadata": {},
   "outputs": [
    {
     "data": {
      "text/html": [
       "<div><style>\n",
       ".dataframe > thead > tr,\n",
       ".dataframe > tbody > tr {\n",
       "  text-align: right;\n",
       "  white-space: pre-wrap;\n",
       "}\n",
       "</style>\n",
       "<small>shape: (3, 3)</small><table border=\"1\" class=\"dataframe\"><thead><tr><th>student_id</th><th>course_id</th><th>grade</th></tr><tr><td>i64</td><td>i64</td><td>i64</td></tr></thead><tbody><tr><td>3</td><td>3</td><td>82</td></tr><tr><td>1</td><td>2</td><td>99</td></tr><tr><td>2</td><td>2</td><td>95</td></tr></tbody></table></div>"
      ],
      "text/plain": [
       "shape: (3, 3)\n",
       "┌────────────┬───────────┬───────┐\n",
       "│ student_id ┆ course_id ┆ grade │\n",
       "│ ---        ┆ ---       ┆ ---   │\n",
       "│ i64        ┆ i64       ┆ i64   │\n",
       "╞════════════╪═══════════╪═══════╡\n",
       "│ 3          ┆ 3         ┆ 82    │\n",
       "│ 1          ┆ 2         ┆ 99    │\n",
       "│ 2          ┆ 2         ┆ 95    │\n",
       "└────────────┴───────────┴───────┘"
      ]
     },
     "execution_count": 5,
     "metadata": {},
     "output_type": "execute_result"
    }
   ],
   "source": [
    "(\n",
    "    enrollments\n",
    "    .with_columns(pl.col(\"grade\").max().over(\"student_id\").name.suffix(\"_max\"))\n",
    "    .filter(pl.col(\"grade\")==pl.col(\"grade_max\"))\n",
    "    .drop(\"grade_max\")\n",
    "    .with_columns(pl.col(\"course_id\").min().over(\"student_id\"))\n",
    "    .unique()\n",
    ")"
   ]
  },
  {
   "cell_type": "code",
   "execution_count": null,
   "metadata": {},
   "outputs": [],
   "source": []
  }
 ],
 "metadata": {
  "kernelspec": {
   "display_name": "base",
   "language": "python",
   "name": "python3"
  },
  "language_info": {
   "codemirror_mode": {
    "name": "ipython",
    "version": 3
   },
   "file_extension": ".py",
   "mimetype": "text/x-python",
   "name": "python",
   "nbconvert_exporter": "python",
   "pygments_lexer": "ipython3",
   "version": "3.10.12"
  }
 },
 "nbformat": 4,
 "nbformat_minor": 2
}
