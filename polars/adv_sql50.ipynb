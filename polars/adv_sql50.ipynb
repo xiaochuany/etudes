{
 "cells": [
  {
   "cell_type": "code",
   "execution_count": 1,
   "metadata": {},
   "outputs": [],
   "source": [
    "import polars as pl\n",
    "import pandas as pd"
   ]
  },
  {
   "cell_type": "markdown",
   "metadata": {},
   "source": [
    "## 1112 higest grade for each student **"
   ]
  },
  {
   "cell_type": "code",
   "execution_count": 3,
   "metadata": {},
   "outputs": [
    {
     "data": {
      "text/html": [
       "<div><style>\n",
       ".dataframe > thead > tr,\n",
       ".dataframe > tbody > tr {\n",
       "  text-align: right;\n",
       "  white-space: pre-wrap;\n",
       "}\n",
       "</style>\n",
       "<small>shape: (7, 3)</small><table border=\"1\" class=\"dataframe\"><thead><tr><th>student_id</th><th>course_id</th><th>grade</th></tr><tr><td>i64</td><td>i64</td><td>i64</td></tr></thead><tbody><tr><td>2</td><td>2</td><td>95</td></tr><tr><td>2</td><td>3</td><td>95</td></tr><tr><td>1</td><td>1</td><td>90</td></tr><tr><td>1</td><td>2</td><td>99</td></tr><tr><td>3</td><td>1</td><td>80</td></tr><tr><td>3</td><td>2</td><td>75</td></tr><tr><td>3</td><td>3</td><td>82</td></tr></tbody></table></div>"
      ],
      "text/plain": [
       "shape: (7, 3)\n",
       "┌────────────┬───────────┬───────┐\n",
       "│ student_id ┆ course_id ┆ grade │\n",
       "│ ---        ┆ ---       ┆ ---   │\n",
       "│ i64        ┆ i64       ┆ i64   │\n",
       "╞════════════╪═══════════╪═══════╡\n",
       "│ 2          ┆ 2         ┆ 95    │\n",
       "│ 2          ┆ 3         ┆ 95    │\n",
       "│ 1          ┆ 1         ┆ 90    │\n",
       "│ 1          ┆ 2         ┆ 99    │\n",
       "│ 3          ┆ 1         ┆ 80    │\n",
       "│ 3          ┆ 2         ┆ 75    │\n",
       "│ 3          ┆ 3         ┆ 82    │\n",
       "└────────────┴───────────┴───────┘"
      ]
     },
     "execution_count": 3,
     "metadata": {},
     "output_type": "execute_result"
    }
   ],
   "source": [
    "\n",
    "data = [[2, 2, 95], [2, 3, 95], [1, 1, 90], [1, 2, 99], [3, 1, 80], [3, 2, 75], [3, 3, 82]]\n",
    "enrollments = pl.from_pandas(pd.DataFrame(data, columns=['student_id', 'course_id', 'grade']).astype({'student_id':'Int64', 'course_id':'Int64', 'grade':'Int64'}))\n",
    "enrollments"
   ]
  },
  {
   "cell_type": "code",
   "execution_count": 5,
   "metadata": {},
   "outputs": [
    {
     "data": {
      "text/html": [
       "<div><style>\n",
       ".dataframe > thead > tr,\n",
       ".dataframe > tbody > tr {\n",
       "  text-align: right;\n",
       "  white-space: pre-wrap;\n",
       "}\n",
       "</style>\n",
       "<small>shape: (3, 3)</small><table border=\"1\" class=\"dataframe\"><thead><tr><th>student_id</th><th>course_id</th><th>grade</th></tr><tr><td>i64</td><td>i64</td><td>i64</td></tr></thead><tbody><tr><td>3</td><td>3</td><td>82</td></tr><tr><td>1</td><td>2</td><td>99</td></tr><tr><td>2</td><td>2</td><td>95</td></tr></tbody></table></div>"
      ],
      "text/plain": [
       "shape: (3, 3)\n",
       "┌────────────┬───────────┬───────┐\n",
       "│ student_id ┆ course_id ┆ grade │\n",
       "│ ---        ┆ ---       ┆ ---   │\n",
       "│ i64        ┆ i64       ┆ i64   │\n",
       "╞════════════╪═══════════╪═══════╡\n",
       "│ 3          ┆ 3         ┆ 82    │\n",
       "│ 1          ┆ 2         ┆ 99    │\n",
       "│ 2          ┆ 2         ┆ 95    │\n",
       "└────────────┴───────────┴───────┘"
      ]
     },
     "execution_count": 5,
     "metadata": {},
     "output_type": "execute_result"
    }
   ],
   "source": [
    "(\n",
    "    enrollments\n",
    "    .with_columns(pl.col(\"grade\").max().over(\"student_id\").name.suffix(\"_max\"))\n",
    "    .filter(pl.col(\"grade\")==pl.col(\"grade_max\"))\n",
    "    .drop(\"grade_max\")\n",
    "    .with_columns(pl.col(\"course_id\").min().over(\"student_id\"))\n",
    "    .unique()\n",
    ")"
   ]
  },
  {
   "cell_type": "markdown",
   "metadata": {},
   "source": [
    "## 1607 sellers with no sales *"
   ]
  },
  {
   "cell_type": "code",
   "execution_count": 3,
   "metadata": {},
   "outputs": [],
   "source": [
    "data = [[101, 'Alice'], [102, 'Bob'], [103, 'Charlie']]\n",
    "customer = pl.from_pandas(pd.DataFrame(data, columns=['customer_id', 'customer_name']).astype({'customer_id':'Int64', 'customer_name':'object'}))\n",
    "data = [[1, '2020-03-01', 1500, 101, 1], [2, '2020-05-25', 2400, 102, 2], [3, '2019-05-25', 800, 101, 3], [4, '2020-09-13', 1000, 103, 2], [5, '2019-02-11', 700, 101, 2]]\n",
    "orders = pl.from_pandas(pd.DataFrame(data, columns=['order_id', 'sale_date', 'order_cost', 'customer_id', 'seller_id']).astype({'order_id':'Int64', 'sale_date':'datetime64[ns]', 'order_cost':'Int64', 'customer_id':'Int64', 'seller_id':'Int64'}))\n",
    "data = [[1, 'Daniel'], [2, 'Elizabeth'], [3, 'Frank']]\n",
    "seller = pl.from_pandas(pd.DataFrame(data, columns=['seller_id', 'seller_name']).astype({'seller_id':'Int64', 'seller_name':'object'}))"
   ]
  },
  {
   "cell_type": "code",
   "execution_count": 5,
   "metadata": {},
   "outputs": [
    {
     "data": {
      "text/plain": [
       "(shape: (3, 2)\n",
       " ┌─────────────┬───────────────┐\n",
       " │ customer_id ┆ customer_name │\n",
       " │ ---         ┆ ---           │\n",
       " │ i64         ┆ str           │\n",
       " ╞═════════════╪═══════════════╡\n",
       " │ 101         ┆ Alice         │\n",
       " │ 102         ┆ Bob           │\n",
       " │ 103         ┆ Charlie       │\n",
       " └─────────────┴───────────────┘,\n",
       " shape: (5, 5)\n",
       " ┌──────────┬─────────────────────┬────────────┬─────────────┬───────────┐\n",
       " │ order_id ┆ sale_date           ┆ order_cost ┆ customer_id ┆ seller_id │\n",
       " │ ---      ┆ ---                 ┆ ---        ┆ ---         ┆ ---       │\n",
       " │ i64      ┆ datetime[ns]        ┆ i64        ┆ i64         ┆ i64       │\n",
       " ╞══════════╪═════════════════════╪════════════╪═════════════╪═══════════╡\n",
       " │ 1        ┆ 2020-03-01 00:00:00 ┆ 1500       ┆ 101         ┆ 1         │\n",
       " │ 2        ┆ 2020-05-25 00:00:00 ┆ 2400       ┆ 102         ┆ 2         │\n",
       " │ 3        ┆ 2019-05-25 00:00:00 ┆ 800        ┆ 101         ┆ 3         │\n",
       " │ 4        ┆ 2020-09-13 00:00:00 ┆ 1000       ┆ 103         ┆ 2         │\n",
       " │ 5        ┆ 2019-02-11 00:00:00 ┆ 700        ┆ 101         ┆ 2         │\n",
       " └──────────┴─────────────────────┴────────────┴─────────────┴───────────┘,\n",
       " shape: (3, 2)\n",
       " ┌───────────┬─────────────┐\n",
       " │ seller_id ┆ seller_name │\n",
       " │ ---       ┆ ---         │\n",
       " │ i64       ┆ str         │\n",
       " ╞═══════════╪═════════════╡\n",
       " │ 1         ┆ Daniel      │\n",
       " │ 2         ┆ Elizabeth   │\n",
       " │ 3         ┆ Frank       │\n",
       " └───────────┴─────────────┘)"
      ]
     },
     "execution_count": 5,
     "metadata": {},
     "output_type": "execute_result"
    }
   ],
   "source": [
    "customer, orders, seller"
   ]
  },
  {
   "cell_type": "code",
   "execution_count": 16,
   "metadata": {},
   "outputs": [
    {
     "data": {
      "text/html": [
       "<div><style>\n",
       ".dataframe > thead > tr,\n",
       ".dataframe > tbody > tr {\n",
       "  text-align: right;\n",
       "  white-space: pre-wrap;\n",
       "}\n",
       "</style>\n",
       "<small>shape: (1, 2)</small><table border=\"1\" class=\"dataframe\"><thead><tr><th>seller_id</th><th>seller_name</th></tr><tr><td>i64</td><td>str</td></tr></thead><tbody><tr><td>3</td><td>&quot;Frank&quot;</td></tr></tbody></table></div>"
      ],
      "text/plain": [
       "shape: (1, 2)\n",
       "┌───────────┬─────────────┐\n",
       "│ seller_id ┆ seller_name │\n",
       "│ ---       ┆ ---         │\n",
       "│ i64       ┆ str         │\n",
       "╞═══════════╪═════════════╡\n",
       "│ 3         ┆ Frank       │\n",
       "└───────────┴─────────────┘"
      ]
     },
     "execution_count": 16,
     "metadata": {},
     "output_type": "execute_result"
    }
   ],
   "source": [
    "with_sale = orders.filter(pl.col(\"sale_date\").dt.year()==2020).select(\"seller_id\").unique()\n",
    "seller.filter(~pl.col(\"seller_id\").is_in(with_sale))"
   ]
  },
  {
   "cell_type": "code",
   "execution_count": null,
   "metadata": {},
   "outputs": [],
   "source": []
  }
 ],
 "metadata": {
  "kernelspec": {
   "display_name": "base",
   "language": "python",
   "name": "python3"
  },
  "language_info": {
   "codemirror_mode": {
    "name": "ipython",
    "version": 3
   },
   "file_extension": ".py",
   "mimetype": "text/x-python",
   "name": "python",
   "nbconvert_exporter": "python",
   "pygments_lexer": "ipython3",
   "version": "3.10.12"
  }
 },
 "nbformat": 4,
 "nbformat_minor": 2
}
