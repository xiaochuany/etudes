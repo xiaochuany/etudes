{
 "cells": [
  {
   "cell_type": "code",
   "execution_count": 9,
   "metadata": {},
   "outputs": [],
   "source": [
    "import polars as pl\n",
    "import polars.selectors as cs\n",
    "import pandas as pd"
   ]
  },
  {
   "cell_type": "code",
   "execution_count": 10,
   "metadata": {},
   "outputs": [],
   "source": [
    "def to_polars(df):\n",
    "    return pl.DataFrame(df)"
   ]
  },
  {
   "cell_type": "markdown",
   "metadata": {},
   "source": [
    "## 569 "
   ]
  },
  {
   "cell_type": "code",
   "execution_count": 11,
   "metadata": {},
   "outputs": [],
   "source": [
    "data = [[1, 'A', 2341], [2, 'A', 341], [3, 'A', 15], [4, 'A', 15314], [5, 'A', 451], [6, 'A', 513], [7, 'B', 15], [8, 'B', 13], [9, 'B', 1154], [10, 'B', 1345], [11, 'B', 1221], [12, 'B', 234], [13, 'C', 2345], [14, 'C', 2645], [15, 'C', 2645], [16, 'C', 2652], [17, 'C', 65]]\n",
    "employee = pd.DataFrame(data, columns=['id', 'company', 'salary']).astype({'id':'Int64', 'company':'object', 'salary':'Int64'})"
   ]
  },
  {
   "cell_type": "code",
   "execution_count": 12,
   "metadata": {},
   "outputs": [],
   "source": [
    "employee=pl.DataFrame(employee)"
   ]
  },
  {
   "cell_type": "code",
   "execution_count": 13,
   "metadata": {},
   "outputs": [
    {
     "data": {
      "text/html": [
       "<div><style>\n",
       ".dataframe > thead > tr,\n",
       ".dataframe > tbody > tr {\n",
       "  text-align: right;\n",
       "  white-space: pre-wrap;\n",
       "}\n",
       "</style>\n",
       "<small>shape: (5, 5)</small><table border=\"1\" class=\"dataframe\"><thead><tr><th>id</th><th>company</th><th>salary</th><th>rank</th><th>len</th></tr><tr><td>i64</td><td>str</td><td>i64</td><td>u32</td><td>f64</td></tr></thead><tbody><tr><td>5</td><td>&quot;A&quot;</td><td>451</td><td>3</td><td>3.0</td></tr><tr><td>6</td><td>&quot;A&quot;</td><td>513</td><td>4</td><td>3.0</td></tr><tr><td>12</td><td>&quot;B&quot;</td><td>234</td><td>3</td><td>3.0</td></tr><tr><td>9</td><td>&quot;B&quot;</td><td>1154</td><td>4</td><td>3.0</td></tr><tr><td>14</td><td>&quot;C&quot;</td><td>2645</td><td>3</td><td>2.5</td></tr></tbody></table></div>"
      ],
      "text/plain": [
       "shape: (5, 5)\n",
       "┌─────┬─────────┬────────┬──────┬─────┐\n",
       "│ id  ┆ company ┆ salary ┆ rank ┆ len │\n",
       "│ --- ┆ ---     ┆ ---    ┆ ---  ┆ --- │\n",
       "│ i64 ┆ str     ┆ i64    ┆ u32  ┆ f64 │\n",
       "╞═════╪═════════╪════════╪══════╪═════╡\n",
       "│ 5   ┆ A       ┆ 451    ┆ 3    ┆ 3.0 │\n",
       "│ 6   ┆ A       ┆ 513    ┆ 4    ┆ 3.0 │\n",
       "│ 12  ┆ B       ┆ 234    ┆ 3    ┆ 3.0 │\n",
       "│ 9   ┆ B       ┆ 1154   ┆ 4    ┆ 3.0 │\n",
       "│ 14  ┆ C       ┆ 2645   ┆ 3    ┆ 2.5 │\n",
       "└─────┴─────────┴────────┴──────┴─────┘"
      ]
     },
     "execution_count": 13,
     "metadata": {},
     "output_type": "execute_result"
    }
   ],
   "source": [
    "(\n",
    "    employee\n",
    "    .with_columns(\n",
    "        pl.last().rank(method=\"ordinal\").over(\"company\").alias(\"rank\"),\n",
    "        pl.first().len().over(\"company\").alias('len') /2,\n",
    "    )\n",
    "    .sort(by=[\"company\",\"salary\", \"id\"])\n",
    "    .filter(\n",
    "        cs.last()+1>=pl.col('rank'), cs.last()<= pl.col(\"rank\") # find median salary for each company\n",
    "    )\n",
    "    # .select(cs.by_index(0,1,2))\n",
    ")"
   ]
  },
  {
   "cell_type": "markdown",
   "metadata": {},
   "source": [
    "## 571"
   ]
  },
  {
   "cell_type": "code",
   "execution_count": 14,
   "metadata": {},
   "outputs": [],
   "source": [
    "data = [[0, 7], [1, 1], [2, 3], [3, 1]]\n",
    "numbers = pd.DataFrame(data, columns=['num', 'frequency']).astype({'num':'Int64', 'frequency':'Int64'}).pipe(to_polars)"
   ]
  },
  {
   "cell_type": "code",
   "execution_count": 15,
   "metadata": {},
   "outputs": [
    {
     "data": {
      "text/html": [
       "<div><style>\n",
       ".dataframe > thead > tr,\n",
       ".dataframe > tbody > tr {\n",
       "  text-align: right;\n",
       "  white-space: pre-wrap;\n",
       "}\n",
       "</style>\n",
       "<small>shape: (4, 2)</small><table border=\"1\" class=\"dataframe\"><thead><tr><th>num</th><th>frequency</th></tr><tr><td>i64</td><td>i64</td></tr></thead><tbody><tr><td>0</td><td>7</td></tr><tr><td>1</td><td>1</td></tr><tr><td>2</td><td>3</td></tr><tr><td>3</td><td>1</td></tr></tbody></table></div>"
      ],
      "text/plain": [
       "shape: (4, 2)\n",
       "┌─────┬───────────┐\n",
       "│ num ┆ frequency │\n",
       "│ --- ┆ ---       │\n",
       "│ i64 ┆ i64       │\n",
       "╞═════╪═══════════╡\n",
       "│ 0   ┆ 7         │\n",
       "│ 1   ┆ 1         │\n",
       "│ 2   ┆ 3         │\n",
       "│ 3   ┆ 1         │\n",
       "└─────┴───────────┘"
      ]
     },
     "execution_count": 15,
     "metadata": {},
     "output_type": "execute_result"
    }
   ],
   "source": [
    "numbers"
   ]
  },
  {
   "cell_type": "code",
   "execution_count": 16,
   "metadata": {},
   "outputs": [
    {
     "data": {
      "text/plain": [
       "0.0"
      ]
     },
     "execution_count": 16,
     "metadata": {},
     "output_type": "execute_result"
    }
   ],
   "source": [
    "import numpy as np\n",
    "\n",
    "nn = numbers.to_numpy()\n",
    "arr = np.repeat(nn[:, 0], nn[:, 1])\n",
    "np.quantile(arr, 0.5)"
   ]
  }
 ],
 "metadata": {
  "kernelspec": {
   "display_name": "base",
   "language": "python",
   "name": "python3"
  },
  "language_info": {
   "codemirror_mode": {
    "name": "ipython",
    "version": 3
   },
   "file_extension": ".py",
   "mimetype": "text/x-python",
   "name": "python",
   "nbconvert_exporter": "python",
   "pygments_lexer": "ipython3",
   "version": "3.10.12"
  }
 },
 "nbformat": 4,
 "nbformat_minor": 2
}
