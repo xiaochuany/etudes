{
 "cells": [
  {
   "cell_type": "code",
   "execution_count": 28,
   "id": "5d570443",
   "metadata": {},
   "outputs": [],
   "source": [
    "import numpy as np\n",
    "\n",
    "def _lower(x):\n",
    "    assert x.ndim==2 # m,d\n",
    "    xrow  = x[None,:,:]  # 1, m ,d\n",
    "    xcol = x[:,None,:]   # m, 1, d\n",
    "    mat = np.all(xrow > xcol, axis=2) # m,m\n",
    "    return mat.sum(0) # m"
   ]
  },
  {
   "cell_type": "code",
   "execution_count": 29,
   "id": "efdef7c7",
   "metadata": {},
   "outputs": [],
   "source": [
    "import polars as pl"
   ]
  },
  {
   "cell_type": "code",
   "execution_count": 34,
   "id": "20447974",
   "metadata": {},
   "outputs": [
    {
     "name": "stdout",
     "output_type": "stream",
     "text": [
      "[[ 1.11731287 -0.28020624]\n",
      " [ 0.52132619 -0.02939442]\n",
      " [ 0.77319851  0.09102072]\n",
      " [-0.43623994  0.69054617]]\n",
      "[0 0 1 0]\n"
     ]
    },
    {
     "data": {
      "text/html": [
       "\n",
       "<style>\n",
       "  #altair-viz-90f0b51edd8844ad8d36ecea1a8aadd3.vega-embed {\n",
       "    width: 100%;\n",
       "    display: flex;\n",
       "  }\n",
       "\n",
       "  #altair-viz-90f0b51edd8844ad8d36ecea1a8aadd3.vega-embed details,\n",
       "  #altair-viz-90f0b51edd8844ad8d36ecea1a8aadd3.vega-embed details summary {\n",
       "    position: relative;\n",
       "  }\n",
       "</style>\n",
       "<div id=\"altair-viz-90f0b51edd8844ad8d36ecea1a8aadd3\"></div>\n",
       "<script type=\"text/javascript\">\n",
       "  var VEGA_DEBUG = (typeof VEGA_DEBUG == \"undefined\") ? {} : VEGA_DEBUG;\n",
       "  (function(spec, embedOpt){\n",
       "    let outputDiv = document.currentScript.previousElementSibling;\n",
       "    if (outputDiv.id !== \"altair-viz-90f0b51edd8844ad8d36ecea1a8aadd3\") {\n",
       "      outputDiv = document.getElementById(\"altair-viz-90f0b51edd8844ad8d36ecea1a8aadd3\");\n",
       "    }\n",
       "\n",
       "    const paths = {\n",
       "      \"vega\": \"https://cdn.jsdelivr.net/npm/vega@5?noext\",\n",
       "      \"vega-lib\": \"https://cdn.jsdelivr.net/npm/vega-lib?noext\",\n",
       "      \"vega-lite\": \"https://cdn.jsdelivr.net/npm/vega-lite@5.20.1?noext\",\n",
       "      \"vega-embed\": \"https://cdn.jsdelivr.net/npm/vega-embed@6?noext\",\n",
       "    };\n",
       "\n",
       "    function maybeLoadScript(lib, version) {\n",
       "      var key = `${lib.replace(\"-\", \"\")}_version`;\n",
       "      return (VEGA_DEBUG[key] == version) ?\n",
       "        Promise.resolve(paths[lib]) :\n",
       "        new Promise(function(resolve, reject) {\n",
       "          var s = document.createElement('script');\n",
       "          document.getElementsByTagName(\"head\")[0].appendChild(s);\n",
       "          s.async = true;\n",
       "          s.onload = () => {\n",
       "            VEGA_DEBUG[key] = version;\n",
       "            return resolve(paths[lib]);\n",
       "          };\n",
       "          s.onerror = () => reject(`Error loading script: ${paths[lib]}`);\n",
       "          s.src = paths[lib];\n",
       "        });\n",
       "    }\n",
       "\n",
       "    function showError(err) {\n",
       "      outputDiv.innerHTML = `<div class=\"error\" style=\"color:red;\">${err}</div>`;\n",
       "      throw err;\n",
       "    }\n",
       "\n",
       "    function displayChart(vegaEmbed) {\n",
       "      vegaEmbed(outputDiv, spec, embedOpt)\n",
       "        .catch(err => showError(`Javascript Error: ${err.message}<br>This usually means there's a typo in your chart specification. See the javascript console for the full traceback.`));\n",
       "    }\n",
       "\n",
       "    if(typeof define === \"function\" && define.amd) {\n",
       "      requirejs.config({paths});\n",
       "      let deps = [\"vega-embed\"];\n",
       "      require(deps, displayChart, err => showError(`Error loading script: ${err.message}`));\n",
       "    } else {\n",
       "      maybeLoadScript(\"vega\", \"5\")\n",
       "        .then(() => maybeLoadScript(\"vega-lite\", \"5.20.1\"))\n",
       "        .then(() => maybeLoadScript(\"vega-embed\", \"6\"))\n",
       "        .catch(showError)\n",
       "        .then(() => displayChart(vegaEmbed));\n",
       "    }\n",
       "  })({\"config\": {\"view\": {\"continuousWidth\": 300, \"continuousHeight\": 300}}, \"data\": {\"name\": \"data-00841c83d971885f7a7c906c1a3c37f6\"}, \"mark\": {\"type\": \"point\", \"tooltip\": true}, \"encoding\": {\"x\": {\"field\": \"a\", \"type\": \"quantitative\"}, \"y\": {\"field\": \"b\", \"type\": \"quantitative\"}}, \"params\": [{\"name\": \"param_11\", \"select\": {\"type\": \"interval\", \"encodings\": [\"x\", \"y\"]}, \"bind\": \"scales\"}], \"$schema\": \"https://vega.github.io/schema/vega-lite/v5.20.1.json\", \"datasets\": {\"data-00841c83d971885f7a7c906c1a3c37f6\": [{\"a\": 1.1173128701076775, \"b\": -0.28020623652602145}, {\"a\": 0.5213261949854083, \"b\": -0.02939442280262838}, {\"a\": 0.7731985072132797, \"b\": 0.09102071625230126}, {\"a\": -0.43623993759550656, \"b\": 0.690546168970572}]}}, {\"mode\": \"vega-lite\"});\n",
       "</script>"
      ],
      "text/plain": [
       "alt.Chart(...)"
      ]
     },
     "execution_count": 34,
     "metadata": {},
     "output_type": "execute_result"
    }
   ],
   "source": [
    "x,y = np.random.default_rng().standard_normal(size=(2, 4, 2))\n",
    "print(x)\n",
    "print(_lower(x))\n",
    "pl.DataFrame(x, schema=list('ab')).plot.point(x='a',y='b')"
   ]
  },
  {
   "cell_type": "code",
   "execution_count": 35,
   "id": "d7624411",
   "metadata": {},
   "outputs": [],
   "source": [
    "def _count_low(x,y):\n",
    "    assert x.ndim == y.ndim == 2\n",
    "    row = x[None, :,:]\n",
    "    col = y[:,None,:]\n",
    "    return np.all(row > col, axis=2).sum(0)"
   ]
  },
  {
   "cell_type": "code",
   "execution_count": 36,
   "id": "a57df9ce",
   "metadata": {},
   "outputs": [
    {
     "data": {
      "text/plain": [
       "array([0, 0, 1, 0])"
      ]
     },
     "execution_count": 36,
     "metadata": {},
     "output_type": "execute_result"
    }
   ],
   "source": [
    "_count_low(x,x)"
   ]
  },
  {
   "cell_type": "code",
   "execution_count": 50,
   "id": "ba0c9434",
   "metadata": {},
   "outputs": [],
   "source": [
    "def kol(x,y):\n",
    "    dx = np.absolute(_count_low(x,y) - _count_low(x,x)).max()\n",
    "    dy = np.absolute(_count_low(y,x) - _count_low(y,y)).max()\n",
    "    return max(dy,dx)/x.shape[0]"
   ]
  },
  {
   "cell_type": "code",
   "execution_count": 76,
   "id": "17cfaddf",
   "metadata": {},
   "outputs": [
    {
     "data": {
      "text/plain": [
       "np.float64(0.3333333333333333)"
      ]
     },
     "execution_count": 76,
     "metadata": {},
     "output_type": "execute_result"
    }
   ],
   "source": [
    "kol(x,y)"
   ]
  },
  {
   "cell_type": "code",
   "execution_count": 77,
   "id": "29a55d05",
   "metadata": {},
   "outputs": [],
   "source": [
    "x,y = np.random.default_rng().standard_normal(size=(2, 3, 2))"
   ]
  },
  {
   "cell_type": "code",
   "execution_count": 78,
   "id": "abcb1f35",
   "metadata": {},
   "outputs": [
    {
     "data": {
      "text/html": [
       "\n",
       "<style>\n",
       "  #altair-viz-f683384ecdc44175a3540097115347ad.vega-embed {\n",
       "    width: 100%;\n",
       "    display: flex;\n",
       "  }\n",
       "\n",
       "  #altair-viz-f683384ecdc44175a3540097115347ad.vega-embed details,\n",
       "  #altair-viz-f683384ecdc44175a3540097115347ad.vega-embed details summary {\n",
       "    position: relative;\n",
       "  }\n",
       "</style>\n",
       "<div id=\"altair-viz-f683384ecdc44175a3540097115347ad\"></div>\n",
       "<script type=\"text/javascript\">\n",
       "  var VEGA_DEBUG = (typeof VEGA_DEBUG == \"undefined\") ? {} : VEGA_DEBUG;\n",
       "  (function(spec, embedOpt){\n",
       "    let outputDiv = document.currentScript.previousElementSibling;\n",
       "    if (outputDiv.id !== \"altair-viz-f683384ecdc44175a3540097115347ad\") {\n",
       "      outputDiv = document.getElementById(\"altair-viz-f683384ecdc44175a3540097115347ad\");\n",
       "    }\n",
       "\n",
       "    const paths = {\n",
       "      \"vega\": \"https://cdn.jsdelivr.net/npm/vega@5?noext\",\n",
       "      \"vega-lib\": \"https://cdn.jsdelivr.net/npm/vega-lib?noext\",\n",
       "      \"vega-lite\": \"https://cdn.jsdelivr.net/npm/vega-lite@5.20.1?noext\",\n",
       "      \"vega-embed\": \"https://cdn.jsdelivr.net/npm/vega-embed@6?noext\",\n",
       "    };\n",
       "\n",
       "    function maybeLoadScript(lib, version) {\n",
       "      var key = `${lib.replace(\"-\", \"\")}_version`;\n",
       "      return (VEGA_DEBUG[key] == version) ?\n",
       "        Promise.resolve(paths[lib]) :\n",
       "        new Promise(function(resolve, reject) {\n",
       "          var s = document.createElement('script');\n",
       "          document.getElementsByTagName(\"head\")[0].appendChild(s);\n",
       "          s.async = true;\n",
       "          s.onload = () => {\n",
       "            VEGA_DEBUG[key] = version;\n",
       "            return resolve(paths[lib]);\n",
       "          };\n",
       "          s.onerror = () => reject(`Error loading script: ${paths[lib]}`);\n",
       "          s.src = paths[lib];\n",
       "        });\n",
       "    }\n",
       "\n",
       "    function showError(err) {\n",
       "      outputDiv.innerHTML = `<div class=\"error\" style=\"color:red;\">${err}</div>`;\n",
       "      throw err;\n",
       "    }\n",
       "\n",
       "    function displayChart(vegaEmbed) {\n",
       "      vegaEmbed(outputDiv, spec, embedOpt)\n",
       "        .catch(err => showError(`Javascript Error: ${err.message}<br>This usually means there's a typo in your chart specification. See the javascript console for the full traceback.`));\n",
       "    }\n",
       "\n",
       "    if(typeof define === \"function\" && define.amd) {\n",
       "      requirejs.config({paths});\n",
       "      let deps = [\"vega-embed\"];\n",
       "      require(deps, displayChart, err => showError(`Error loading script: ${err.message}`));\n",
       "    } else {\n",
       "      maybeLoadScript(\"vega\", \"5\")\n",
       "        .then(() => maybeLoadScript(\"vega-lite\", \"5.20.1\"))\n",
       "        .then(() => maybeLoadScript(\"vega-embed\", \"6\"))\n",
       "        .catch(showError)\n",
       "        .then(() => displayChart(vegaEmbed));\n",
       "    }\n",
       "  })({\"config\": {\"view\": {\"continuousWidth\": 300, \"continuousHeight\": 300}}, \"layer\": [{\"data\": {\"name\": \"data-a1a7b48245807742c1338ea4fca3041d\"}, \"mark\": {\"type\": \"point\", \"tooltip\": true}, \"encoding\": {\"color\": {\"value\": \"orange\"}, \"x\": {\"field\": \"a\", \"type\": \"quantitative\"}, \"y\": {\"field\": \"b\", \"type\": \"quantitative\"}}, \"name\": \"view_33\"}, {\"data\": {\"name\": \"data-a509dbd43298127522a00de3bdfa477e\"}, \"mark\": {\"type\": \"point\", \"tooltip\": true}, \"encoding\": {\"x\": {\"field\": \"a\", \"type\": \"quantitative\"}, \"y\": {\"field\": \"b\", \"type\": \"quantitative\"}}, \"name\": \"view_34\"}], \"params\": [{\"name\": \"param_44\", \"select\": {\"type\": \"interval\", \"encodings\": [\"x\", \"y\"]}, \"bind\": \"scales\", \"views\": [\"view_33\"]}, {\"name\": \"param_45\", \"select\": {\"type\": \"interval\", \"encodings\": [\"x\", \"y\"]}, \"bind\": \"scales\", \"views\": [\"view_34\"]}], \"$schema\": \"https://vega.github.io/schema/vega-lite/v5.20.1.json\", \"datasets\": {\"data-a1a7b48245807742c1338ea4fca3041d\": [{\"a\": 0.6239279160503768, \"b\": 0.3564638318488543}, {\"a\": -1.473358186641158, \"b\": -0.7456808645842405}, {\"a\": -0.6251246975770635, \"b\": 0.23676995137890708}], \"data-a509dbd43298127522a00de3bdfa477e\": [{\"a\": -1.6996260408004407, \"b\": -1.5870694313420062}, {\"a\": 0.21933316176471052, \"b\": 0.07916719788898317}, {\"a\": 0.8750460375922778, \"b\": 0.07623636301707376}]}}, {\"mode\": \"vega-lite\"});\n",
       "</script>"
      ],
      "text/plain": [
       "alt.LayerChart(...)"
      ]
     },
     "execution_count": 78,
     "metadata": {},
     "output_type": "execute_result"
    }
   ],
   "source": [
    "import altair as alt\n",
    "pl.DataFrame(x, schema=list('ab')).plot.point(x='a',y='b', color=alt.value(\"orange\"))+ pl.DataFrame(y, schema=list('ab')).plot.point(x='a',y='b')"
   ]
  },
  {
   "cell_type": "code",
   "execution_count": 79,
   "id": "43ece56e",
   "metadata": {},
   "outputs": [
    {
     "data": {
      "text/plain": [
       "np.float64(0.3333333333333333)"
      ]
     },
     "execution_count": 79,
     "metadata": {},
     "output_type": "execute_result"
    }
   ],
   "source": [
    "kol(y,x)"
   ]
  },
  {
   "cell_type": "code",
   "execution_count": null,
   "id": "e12f1b95",
   "metadata": {},
   "outputs": [],
   "source": []
  }
 ],
 "metadata": {
  "kernelspec": {
   "display_name": "etudes",
   "language": "python",
   "name": "python3"
  },
  "language_info": {
   "codemirror_mode": {
    "name": "ipython",
    "version": 3
   },
   "file_extension": ".py",
   "mimetype": "text/x-python",
   "name": "python",
   "nbconvert_exporter": "python",
   "pygments_lexer": "ipython3",
   "version": "3.13.3"
  }
 },
 "nbformat": 4,
 "nbformat_minor": 5
}
