{
 "cells": [
  {
   "cell_type": "markdown",
   "id": "9bc8d203-43af-46be-97e6-43ee54033edc",
   "metadata": {},
   "source": [
    "# linear models"
   ]
  },
  {
   "cell_type": "code",
   "execution_count": 1,
   "id": "e8bb2217-1827-410b-8844-c117e8dea9a3",
   "metadata": {},
   "outputs": [],
   "source": [
    "import numpy as np\n",
    "import matplotlib.pyplot as plt\n",
    "from scipy.optimize import linprog"
   ]
  },
  {
   "cell_type": "code",
   "execution_count": 93,
   "id": "f173739b-c41a-46c6-a1be-c789218b72a9",
   "metadata": {},
   "outputs": [
    {
     "data": {
      "text/plain": [
       "<matplotlib.legend.Legend at 0x1e3fd4089d0>"
      ]
     },
     "execution_count": 93,
     "metadata": {},
     "output_type": "execute_result"
    },
    {
     "data": {
      "image/png": "[encoded data removed]",
      "text/plain": [
       "<Figure size 400x400 with 1 Axes>"
      ]
     },
     "metadata": {},
     "output_type": "display_data"
    }
   ],
   "source": [
    "m,d = 8000,50\n",
    "X = np.random.randn(m,d)\n",
    "w = np.random.randn(X.shape[1])\n",
    "y = (2*(X@w>0).astype(float)-1).reshape(X.shape[0],1)\n",
    "\n",
    "Xpos= X[np.squeeze(y)==1]\n",
    "Xneg = X[np.squeeze(y)==-1]\n",
    "\n",
    "plt.figure(figsize=(4,4))\n",
    "plt.scatter(Xpos[:,0],Xpos[:,1], color='blue', label='+')\n",
    "plt.scatter(Xneg[:,0],Xneg[:,1], color='red', label='-')\n",
    "plt.legend()"
   ]
  },
  {
   "cell_type": "markdown",
   "id": "7653e00e-fb34-4438-8141-107ba6f48799",
   "metadata": {},
   "source": [
    "## LP for half space classification\n",
    "\n",
    "General formulation of linear programming: $\\min w\\cdot c$ subject to \n",
    "\\begin{align*}\n",
    "A_{u} w &\\le b_{u} \\\\\n",
    "A_e w &= b_e \\\\\n",
    "w_i &\\in [a_i, b_i]\n",
    "\\end{align*}\n",
    "\n",
    "run this to solve this LP\n",
    "`result = linprog(c, A_ub=A_ub, b_ub=b_ub, A_eq=A_eq, b_eq=b_eq, bounds=bounds)`\n",
    "\n",
    "See https://docs.scipy.org/doc/scipy/tutorial/optimize.html#linear-programming-linprog"
   ]
  },
  {
   "cell_type": "markdown",
   "id": "0985a405-a7c0-420a-8a33-e8bfd84c26c4",
   "metadata": {},
   "source": [
    "We can cast half space binary classfication as a LP problem. \n",
    "First, we want ERM solution which has zero empirical loss under the realisability assumption (here the loss function is the 0-1 loss $1_{y\\neq h(x)}$ for a predictor $h$ and a training example $(x,y)$). Namely, we want that the prediction and the true label always matches  $y_i x_i w >0$ for all $i$. If this can be done, then we can also find a different $w$ such that  $ (x_i y_i) w \\ge 1 $ for all training examples $(x_i, y_i)$. \n",
    "Second we have no objective to optimise, so we can simply set $c=0$.  \n",
    "Writing all these in matrix form, we have a LP problem. "
   ]
  },
  {
   "cell_type": "code",
   "execution_count": 99,
   "id": "4ae4de2c-f871-42f5-bd3f-37b6288a8bac",
   "metadata": {},
   "outputs": [],
   "source": [
    "c = np.zeros((X.shape[1],))\n",
    "A_ub = -X*y\n",
    "b_ub = -np.ones((X.shape[0],))\n",
    "bounds = [(None,None)]*X.shape[1]"
   ]
  },
  {
   "cell_type": "code",
   "execution_count": 102,
   "id": "50817a03-65f6-495f-b8f2-4e8a39b69b94",
   "metadata": {},
   "outputs": [
    {
     "name": "stdout",
     "output_type": "stream",
     "text": [
      "349 ms ± 9.59 ms per loop (mean ± std. dev. of 7 runs, 1 loop each)\n"
     ]
    }
   ],
   "source": [
    "%timeit result = linprog(c,A_ub=A_ub,b_ub = b_ub, bounds = bounds)\n",
    "# w, result.x\n",
    "# print(f'similarity with the ground truth {result.x@w/ np.linalg.norm(result.x) / np.linalg.norm(w)}')"
   ]
  },
  {
   "cell_type": "markdown",
   "id": "b117051e-0f02-4ab1-8e1a-8b1b4a8140d8",
   "metadata": {},
   "source": [
    "## Perceptron for half spaces\n",
    "\n",
    "Exercise: \n",
    "does it matter to 'tune' the learning rate? "
   ]
  },
  {
   "cell_type": "code",
   "execution_count": 95,
   "id": "6978e0b6-3efb-41f0-9562-eda0ce644ab0",
   "metadata": {},
   "outputs": [
    {
     "name": "stdout",
     "output_type": "stream",
     "text": [
      "4.4 ms ± 224 µs per loop (mean ± std. dev. of 7 runs, 100 loops each)\n"
     ]
    }
   ],
   "source": [
    "%%timeit\n",
    "weights = np.random.randn(X.shape[1])\n",
    "lr = 1\n",
    "while True:\n",
    "    ypred = 2*( X@weights >0 ) -1\n",
    "    # print(f'accuracy {(ypred == np.squeeze(y)).mean()}')\n",
    "    idx = np.where(ypred != np.squeeze(y))[0]\n",
    "    if idx.size>0:\n",
    "        weights += lr * (y[idx] * X[idx]).sum(axis=0)\n",
    "    else: \n",
    "        # print('converged!')\n",
    "        break"
   ]
  },
  {
   "cell_type": "code",
   "execution_count": 96,
   "id": "42cfdba7-11c7-4683-9fbf-f5970cfd97c6",
   "metadata": {},
   "outputs": [
    {
     "name": "stdout",
     "output_type": "stream",
     "text": [
      "12.4 s ± 873 ms per loop (mean ± std. dev. of 7 runs, 1 loop each)\n"
     ]
    }
   ],
   "source": [
    "%%timeit\n",
    "weights = np.random.randn(X.shape[1])\n",
    "lr = 1\n",
    "while True:\n",
    "    ypred = 2*( X@weights >0 ) -1\n",
    "    # print(f'accuracy {(ypred == np.squeeze(y)).mean()}')\n",
    "    idx = np.where(ypred != np.squeeze(y))[0]\n",
    "    if idx.size>0:\n",
    "        i = np.random.choice(idx)\n",
    "        weights += lr * np.squeeze(y)[i] * X[i]\n",
    "    else: \n",
    "        # print('converged!')\n",
    "        break"
   ]
  },
  {
   "cell_type": "code",
   "execution_count": 97,
   "id": "c2cf39ec-ab8d-449b-a659-e22e4356a6cd",
   "metadata": {},
   "outputs": [
    {
     "data": {
      "text/plain": [
       "2818.181818181818"
      ]
     },
     "execution_count": 97,
     "metadata": {},
     "output_type": "execute_result"
    }
   ],
   "source": [
    "12.4e3 /4.4"
   ]
  },
  {
   "cell_type": "markdown",
   "id": "556e467c-9e53-40b6-ac4e-c7e103a4e3d1",
   "metadata": {},
   "source": [
    "## Least squares for linear regression"
   ]
  },
  {
   "cell_type": "markdown",
   "id": "b30e34a0-3111-4401-8018-6ef7a27322bc",
   "metadata": {},
   "source": [
    "a regression problem is to find the relationship between $x\\in \\mathbb R^d$ and $y\\in \\mathbb R^p$. Linear regression assumes that the relationship is linear i.e.  $y = x \\cdot w$ for some vector or matrix $w$. Sometimes we could add noise $y = x\\cdot w + e$. Given data $((x_1,y_1),..., (x_n,y_n))$ and a metric on prediction quality such as least squares (aka mean squared error MSE):\n",
    "$$\n",
    "{1\\over m}\\sum_{i=1}^m  (y_i - x_i \\cdot w)^2\n",
    "$$\n",
    "one can use calculus to find the optimal $w$ to minimise the metric. The solution is given by \n",
    "$$\n",
    "w =  A^{-1}b  ~~~ \\mbox{where} ~ A = X^T X, ~~~  b = X^T y\n",
    "$$\n",
    "where $X$ is $m\\times d$ matrix ($m$ feature vectors stacked vertically), $y$ is $m$ dimensional column vector ($m$ predictions). When the feature dimension $d$ is high (e.g. $d\\gg m$) then it is likely that $A$ is not invertible. However, the least square can stil be solved, using the Moore-Penrose (pseudo) inverse instead of the plain inverse which presumably does not exist. \n",
    "\n",
    "See this article for Moore-Penrose inverse: \n",
    "https://en.wikipedia.org/wiki/Moore%E2%80%93Penrose_inverse"
   ]
  },
  {
   "cell_type": "code",
   "execution_count": 6,
   "id": "c1b66f0b-7922-4d48-aee7-2b66534306a3",
   "metadata": {},
   "outputs": [],
   "source": [
    "X = np.random.randn(80,3)\n",
    "w = np.random.randn(X.shape[1])\n",
    "y = X@w"
   ]
  },
  {
   "cell_type": "code",
   "execution_count": 7,
   "id": "b3f114f1-7351-4d5e-b39e-7b1f13f6eaa6",
   "metadata": {},
   "outputs": [],
   "source": [
    "A = X.T @ X\n",
    "b = (X * y.reshape(X.shape[0],1)).sum(axis=0)"
   ]
  },
  {
   "cell_type": "code",
   "execution_count": 8,
   "id": "7b34383e-ee6e-4b07-a196-e7b2df5a1fe2",
   "metadata": {},
   "outputs": [
    {
     "data": {
      "text/plain": [
       "((80, 3), (80,), (3,))"
      ]
     },
     "execution_count": 8,
     "metadata": {},
     "output_type": "execute_result"
    }
   ],
   "source": [
    "X.shape, y.shape, b.shape"
   ]
  },
  {
   "cell_type": "code",
   "execution_count": 9,
   "id": "43617cf4-4d21-4ebd-94b1-896be76ccd44",
   "metadata": {},
   "outputs": [
    {
     "data": {
      "text/plain": [
       "array([[False, False, False],\n",
       "       [False, False, False],\n",
       "       [False, False, False]])"
      ]
     },
     "execution_count": 9,
     "metadata": {},
     "output_type": "execute_result"
    }
   ],
   "source": [
    "np.isclose(A**-1, np.linalg.inv(A))"
   ]
  },
  {
   "cell_type": "code",
   "execution_count": 10,
   "id": "fa0012c3-a04f-4dfd-8de5-a209d8b5acae",
   "metadata": {},
   "outputs": [],
   "source": [
    "wpred = np.linalg.inv(A) @ b"
   ]
  },
  {
   "cell_type": "code",
   "execution_count": 11,
   "id": "ff0addf8-24f9-495a-8c5d-b0db770ccfc4",
   "metadata": {},
   "outputs": [
    {
     "data": {
      "text/plain": [
       "array([ True,  True,  True])"
      ]
     },
     "execution_count": 11,
     "metadata": {},
     "output_type": "execute_result"
    }
   ],
   "source": [
    "np.isclose(wpred,w)"
   ]
  },
  {
   "cell_type": "markdown",
   "id": "8fd46649-1a0b-4f40-9ca6-27b6a8f1cb0d",
   "metadata": {},
   "source": [
    "## Logistic regression for classification (agnostic model)"
   ]
  },
  {
   "cell_type": "markdown",
   "id": "7c4a5a0c-90ed-4c98-bdfb-a5d198059575",
   "metadata": {},
   "source": [
    "the logistic regression assumes that data distribution takes the form $p_w(y|x) = \\sigma( (x\\cdot w) y )$ with $y\\in \\{+,-\\}, x\\in \\mathbb R^d$ where $\\sigma(z)=1/(1+e^{-z})$ is the sigmoid function. In particular, the label is random given the feature vector $x$, in contrary to the realisable/separable case where $y = f(x)$ for some deterministic $f: \\mathbb R^d \\to \\{+,-\\}$. \n",
    "\n",
    "\n",
    "\n",
    "In this probabilistic setting, a natural metric for assessing prediction quality is the likelihood. By monotonicity, maximsing the likelihood $p_w(y|x)$ is the same as minimizing the negative log likelihood $- \\log p_w(y|x)$. Assuming iid data, then the quantity to minimize is \n",
    "$$\n",
    "{1\\over m}\\sum_{i=1}^m  - \\log p_w(y_i|x_i). \n",
    "$$\n",
    "This metric is customarily called BCE loss 'binary cross entropy loss' for reason I am not explaining here. Computing the argmin of BCE gives the MLE. \n",
    "\n",
    "It is worth pointing out that logistic regression decision boundary is a hyperplane (the same as halfspace model mentioned earlier). Indeed, the prediction will be + if the output probability is larger than 0.5, which is the same as saying that $x\\cdot w > 0$.  This is why LR is considered to be a linear model. This does NOT mean + data will be clearly separated from - data by a hyperplane. Near the decision boundary the probability is close to 0.5, so the labels are essentially determined by a coin flip, which could easily output a + label for a point in the - halfspace (close to decision boundary) "
   ]
  },
  {
   "cell_type": "code",
   "execution_count": 203,
   "id": "8790cde2-168c-416c-8a8b-756d66cc561e",
   "metadata": {},
   "outputs": [
    {
     "data": {
      "text/plain": [
       "<matplotlib.legend.Legend at 0x1e3800cb9d0>"
      ]
     },
     "execution_count": 203,
     "metadata": {},
     "output_type": "execute_result"
    },
    {
     "data": {
      "image/png": "[encoded data removed]",
      "text/plain": [
       "<Figure size 400x400 with 1 Axes>"
      ]
     },
     "metadata": {},
     "output_type": "display_data"
    }
   ],
   "source": [
    "def sigmoid(x):\n",
    "    return 1/(1+np.exp(-x))\n",
    "    \n",
    "def simi(w,w1):\n",
    "    return w@w1/ (w@w)**0.5 / (w1@w1)**0.5\n",
    "\n",
    "m = 500\n",
    "d = 2\n",
    "X = np.random.randn(m,d)\n",
    "weights = np.random.randn(d) * 5\n",
    "y = 2*(np.random.random(X.shape[0]) < sigmoid(X@weights)) - 1  # sample labels according to the ground truth probability\n",
    "# (y==1).mean()\n",
    "\n",
    "Xpos= X[y==1]\n",
    "Xneg = X[y==-1]\n",
    "\n",
    "plt.figure(figsize=(4,4))\n",
    "plt.scatter(Xpos[:,0],Xpos[:,1], color='blue', label='+')\n",
    "plt.scatter(Xneg[:,0],Xneg[:,1], color='red', label='-')\n",
    "plt.legend()"
   ]
  },
  {
   "cell_type": "code",
   "execution_count": 205,
   "id": "4d771d37-b5f0-43f6-88ad-95120d257c81",
   "metadata": {},
   "outputs": [
    {
     "name": "stdout",
     "output_type": "stream",
     "text": [
      "1.038620708584513\n",
      "1.038620708584513\n",
      "0.338\n"
     ]
    }
   ],
   "source": [
    "w = np.random.randn(d)\n",
    "p = sigmoid( (X@w)*y )\n",
    "loss =  np.log(1 + np.exp(- (X@w) * y  )).mean()\n",
    "print(loss)\n",
    "print(-np.log(p).mean())\n",
    "print(((2*(sigmoid(X@w)>0.5)-1)==y).mean())"
   ]
  },
  {
   "cell_type": "code",
   "execution_count": 206,
   "id": "ec63c7c6-8776-4108-b33c-d9101f156564",
   "metadata": {},
   "outputs": [
    {
     "name": "stdout",
     "output_type": "stream",
     "text": [
      "0.37075858180473203\n"
     ]
    }
   ],
   "source": [
    "lr = 0.001\n",
    "for _ in range(10000):\n",
    "    p = sigmoid( (X@w)*y )\n",
    "    dw = ((p[:,np.newaxis] - 1) *  (X* y[:,np.newaxis])).mean(axis = 0)\n",
    "    w += - lr * dw\n",
    "    loss =  np.log(1 + np.exp(- (X@w) * y  )).mean()\n",
    "print(loss)"
   ]
  },
  {
   "cell_type": "code",
   "execution_count": 207,
   "id": "556cf22d-1849-4ada-b6c1-cc94eab3fcab",
   "metadata": {},
   "outputs": [
    {
     "data": {
      "text/plain": [
       "0.876"
      ]
     },
     "execution_count": 207,
     "metadata": {},
     "output_type": "execute_result"
    }
   ],
   "source": [
    "((2*(sigmoid(X@w)>0.5)-1)==y).mean()"
   ]
  },
  {
   "cell_type": "code",
   "execution_count": 202,
   "id": "6ac338f4-0bac-409a-9998-c5cc0f61f7ad",
   "metadata": {},
   "outputs": [
    {
     "data": {
      "text/plain": [
       "(array([ 0.22843168, -0.00140781]),\n",
       " array([-0.84393362, -0.25662504]),\n",
       " array([0.01430026, 0.00298468]),\n",
       " -0.9549335834220616)"
      ]
     },
     "execution_count": 202,
     "metadata": {},
     "output_type": "execute_result"
    }
   ],
   "source": [
    "weights,w, dw, simi(w,weights)"
   ]
  },
  {
   "cell_type": "markdown",
   "id": "644f97ef-e79b-4e7c-8f05-9360c96dc72d",
   "metadata": {},
   "source": [
    "# Learning theory: learnability \n",
    "\n",
    "learning problem: given iid data $S=\\{(x_i,y_i), i\\le m\\}$, learn some $h$ in a hypothesis class $\\cal H$ which generslises well for **unseen** data.\n",
    "\n",
    "agnostic PAC learnable: for any $\\varepsilon, \\delta$ small, when $m$ is large, can find $h_S\\in\\cal H$ such that uniformly for all data distribution $D$\n",
    "$$\n",
    "\\Pr[ L_D(h_S)< \\inf_{h\\in\\cal H} L_D(h) + \\varepsilon] > 1-\\delta \n",
    "$$\n",
    "where $L_D(h)= \\mathbb E_{(x,y)\\sim D}[\\ell(h,(x,y))]$ is the true risk (aka generalisation error) of a hypothesis which depends on the choice of loss function $\\ell$.\n",
    "\n",
    "The minimal $m = m(\\varepsilon, \\delta)$ achieving this bound is called the sample complexity of the learning problem.  \n",
    "\n",
    "## binary classification\n",
    "\n",
    "Narual choice of loss is the 0-1 loss, in which case $L_D(h) = \\Pr_{(x,y)\\sim D}[ h(x)\\ne y ]$. \n",
    "VC theory says that the following are equivalent whenever the loss function is bounded (e.g. 0-1 loss)\n",
    "\n",
    " - agnostic PAC learnable\n",
    " - ERM is a agnostic PAC learner\n",
    " - $\\cal H$ has the uniform convergence property\n",
    " - $\\cal H$ has finite VC dimension\n",
    "\n",
    "Hence for learnable problems it suffices to compute ERM. \n",
    "\n",
    "For halfspace classification with 0-1 loss (VC dimension is finite so this is a learnable problem), computing ERM is easy in the realisable case (perceptron and LP are both polynomial time algorithm), NP hard in the non-realisable case.  \n",
    "\n",
    "## multiclass learnability\n",
    "\n",
    "Consider the 0-1 loss and k-way classification with $k\\ge 3$. Then the following are equivalent: \n",
    "\n",
    "- agnostic PAC learnable\n",
    "- $\\cal H$ has finite Natarajan dimension\n",
    "\n",
    "We don't mention ERM because ERM is not necessarily a PAC learner any more. \n",
    "\n",
    "## convex learning problems are PAC learnable\n",
    "\n",
    "convex learning problem refers to the situation that the \n",
    " - hypothesis class is convex bounded\n",
    " - the loss function is convex and Lipschitz\n",
    "\n",
    "One can replace that second condtiion by \n",
    " - the loss function is convex and smooth and non-negative. \n",
    "\n",
    "All convex problems can be learnt by RLM. \n",
    "SGD can be used to compute RLM in polynomial time. \n"
   ]
  },
  {
   "cell_type": "code",
   "execution_count": null,
   "id": "f4e4d6f2-435b-427c-bf50-4b3f2c1bf88c",
   "metadata": {},
   "outputs": [],
   "source": []
  }
 ],
 "metadata": {
  "kernelspec": {
   "display_name": "Python 3 (ipykernel)",
   "language": "python",
   "name": "python3"
  },
  "language_info": {
   "codemirror_mode": {
    "name": "ipython",
    "version": 3
   },
   "file_extension": ".py",
   "mimetype": "text/x-python",
   "name": "python",
   "nbconvert_exporter": "python",
   "pygments_lexer": "ipython3",
   "version": "3.11.4"
  }
 },
 "nbformat": 4,
 "nbformat_minor": 5
}
