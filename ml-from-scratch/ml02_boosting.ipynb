{
 "cells": [
  {
   "cell_type": "markdown",
   "id": "eba0a2db-782b-4b0f-a719-e2896e8bbdfa",
   "metadata": {},
   "source": [
    "# Boosting\n",
    "\n",
    "\n",
    "In the context of binary classification, a weak learner is a relaxed PAC learner with a **fixed** $\\varepsilon < 1/2$(i.e. just better than random guess predictor) rather than **all** $\\varepsilon$. \n",
    "\n",
    "Boosting is a paradigm that boosts weak learners into strong PAC learners.\n"
   ]
  },
  {
   "cell_type": "code",
   "execution_count": 1,
   "id": "fe059bfa-58f0-49e3-ae6f-7e094a57978a",
   "metadata": {},
   "outputs": [],
   "source": [
    "import numpy as np"
   ]
  },
  {
   "cell_type": "code",
   "execution_count": 40,
   "id": "d6d9e587-a74b-4554-a5a5-e54f985bd759",
   "metadata": {},
   "outputs": [],
   "source": [
    "m = 5\n",
    "x = np.random.randn(m)\n",
    "y = np.random.choice([-1,1], size=(m,))\n",
    "z = np.hstack((x.reshape(m,1),y.reshape(m,1)))"
   ]
  },
  {
   "cell_type": "code",
   "execution_count": 41,
   "id": "2d22f7c6-07e0-4b8c-b82d-bba29b95a297",
   "metadata": {},
   "outputs": [
    {
     "data": {
      "text/plain": [
       "(array([[ 1.1907183 , -1.        ],\n",
       "        [-0.20692845, -1.        ],\n",
       "        [ 1.79584772,  1.        ],\n",
       "        [-0.26909138,  1.        ],\n",
       "        [-2.05650294, -1.        ]]),\n",
       " array([4, 3, 1, 0, 2], dtype=int64))"
      ]
     },
     "execution_count": 41,
     "metadata": {},
     "output_type": "execute_result"
    }
   ],
   "source": [
    "z, np.argsort(z[:,0])"
   ]
  },
  {
   "cell_type": "code",
   "execution_count": 42,
   "id": "0f5cfb80-861d-43a0-9ef9-0643231080ba",
   "metadata": {},
   "outputs": [
    {
     "data": {
      "text/plain": [
       "array([-2.05650294, -0.26909138, -0.20692845,  1.1907183 ,  1.79584772])"
      ]
     },
     "execution_count": 42,
     "metadata": {},
     "output_type": "execute_result"
    }
   ],
   "source": [
    "x[np.argsort(z[:,0])]"
   ]
  },
  {
   "cell_type": "code",
   "execution_count": 59,
   "id": "03761250-8090-4caa-b74d-05b4cf951354",
   "metadata": {},
   "outputs": [
    {
     "data": {
      "text/plain": [
       "array([-1.16279716, -0.23800992,  0.49189492,  1.49328301,  0.89792386])"
      ]
     },
     "execution_count": 59,
     "metadata": {},
     "output_type": "execute_result"
    }
   ],
   "source": [
    "0.5 * np.triu(np.tri(m, k=1)) @ x[np.argsort(z[:,0])]"
   ]
  },
  {
   "cell_type": "code",
   "execution_count": 74,
   "id": "1b882c72-ca59-4be0-b419-9c0301601063",
   "metadata": {},
   "outputs": [
    {
     "data": {
      "text/plain": [
       "array([-3.05650294, -2.05650294, -0.26909138, -0.20692845,  1.1907183 ,\n",
       "        1.79584772,  2.79584772])"
      ]
     },
     "execution_count": 74,
     "metadata": {},
     "output_type": "execute_result"
    }
   ],
   "source": [
    "x.sort()\n",
    "np.concatenate(([x[0]-1],x, [x[-1]+1]))"
   ]
  },
  {
   "cell_type": "code",
   "execution_count": 82,
   "id": "dbb3e30b-a3ef-4deb-8e23-8e7ca5f135e3",
   "metadata": {},
   "outputs": [
    {
     "data": {
      "text/plain": [
       "array([-2.55650294, -1.16279716, -0.23800992,  0.49189492,  1.49328301,\n",
       "        2.29584772])"
      ]
     },
     "execution_count": 82,
     "metadata": {},
     "output_type": "execute_result"
    }
   ],
   "source": [
    "0.5 * np.triu(np.tri(m+2, k=1))[:-1]   @ np.concatenate(([x[0]-1],x, [x[-1]+1]))"
   ]
  },
  {
   "cell_type": "markdown",
   "id": "f4e6a0ec-64d1-4397-9145-5f970baf1b06",
   "metadata": {},
   "source": [
    "## decision stumps fast implementation"
   ]
  },
  {
   "cell_type": "markdown",
   "id": "2d285099-8ce1-4987-b58c-01589f7296de",
   "metadata": {},
   "source": [
    "A decision stump is a function $h(x) = sign(x_j - \\theta) b$ for some $j\\in [d]$, $\\theta\\in\\mathbb R$ and $b\\in \\{+,-\\}$. "
   ]
  },
  {
   "cell_type": "code",
   "execution_count": 159,
   "id": "a67c4c17-7e15-4d86-ad29-f90e4b545aad",
   "metadata": {},
   "outputs": [
    {
     "data": {
      "text/plain": [
       "(array([[0.81133329, 0.10538287, 0.76382527, 0.79637636],\n",
       "        [0.80977562, 0.37963735, 0.33178965, 0.61541489],\n",
       "        [0.43392094, 0.91380815, 0.00389056, 0.71558217],\n",
       "        [0.19678021, 0.07571888, 0.32350247, 0.65676526],\n",
       "        [0.49296368, 0.86064064, 0.20644971, 0.54483702],\n",
       "        [0.04405585, 0.53136119, 0.95844583, 0.15286128],\n",
       "        [0.18734396, 0.82066533, 0.02124904, 0.12791465],\n",
       "        [0.95483283, 0.4496789 , 0.81691841, 0.59776738],\n",
       "        [0.16931889, 0.16871066, 0.66090273, 0.40179112],\n",
       "        [0.5609859 , 0.06829246, 0.20921114, 0.64236863]]),\n",
       " array([[5, 9, 2, 6],\n",
       "        [8, 3, 6, 5],\n",
       "        [6, 0, 4, 8],\n",
       "        [3, 8, 9, 4],\n",
       "        [2, 1, 3, 7],\n",
       "        [4, 7, 1, 1],\n",
       "        [9, 5, 8, 9],\n",
       "        [1, 6, 0, 3],\n",
       "        [0, 4, 7, 2],\n",
       "        [7, 2, 5, 0]], dtype=int64))"
      ]
     },
     "execution_count": 159,
     "metadata": {},
     "output_type": "execute_result"
    }
   ],
   "source": [
    "m,d = 10,4\n",
    "x = np.random.rand(m,d)\n",
    "o = np.argsort(x, axis = 0) \n",
    "x, o"
   ]
  },
  {
   "cell_type": "code",
   "execution_count": 160,
   "id": "b4b02aa8-820b-4f32-bcf6-b03dfbe672fb",
   "metadata": {},
   "outputs": [],
   "source": [
    "sorted_x = np.array([x[o[:,i], i] for i in range(x.shape[1])]).T"
   ]
  },
  {
   "cell_type": "code",
   "execution_count": 161,
   "id": "a5a0d544-a948-4f3f-886f-dc7a252a324a",
   "metadata": {},
   "outputs": [
    {
     "data": {
      "text/plain": [
       "array([[0.04405585, 0.06829246, 0.00389056, 0.12791465],\n",
       "       [0.16931889, 0.07571888, 0.02124904, 0.15286128],\n",
       "       [0.18734396, 0.10538287, 0.20644971, 0.40179112],\n",
       "       [0.19678021, 0.16871066, 0.20921114, 0.54483702],\n",
       "       [0.43392094, 0.37963735, 0.32350247, 0.59776738],\n",
       "       [0.49296368, 0.4496789 , 0.33178965, 0.61541489],\n",
       "       [0.5609859 , 0.53136119, 0.66090273, 0.64236863],\n",
       "       [0.80977562, 0.82066533, 0.76382527, 0.65676526],\n",
       "       [0.81133329, 0.86064064, 0.81691841, 0.71558217],\n",
       "       [0.95483283, 0.91380815, 0.95844583, 0.79637636]])"
      ]
     },
     "execution_count": 161,
     "metadata": {},
     "output_type": "execute_result"
    }
   ],
   "source": [
    "sorted_x"
   ]
  },
  {
   "cell_type": "code",
   "execution_count": 162,
   "id": "7ae33177-2190-469f-85bd-73186209487a",
   "metadata": {},
   "outputs": [
    {
     "data": {
      "text/plain": [
       "(array([-0.95594415, -0.93170754, -0.99610944, -0.87208535]),\n",
       " array([1.95483283, 1.91380815, 1.95844583, 1.79637636]))"
      ]
     },
     "execution_count": 162,
     "metadata": {},
     "output_type": "execute_result"
    }
   ],
   "source": [
    "sorted_x[0]-1, sorted_x[-1]+1 "
   ]
  },
  {
   "cell_type": "code",
   "execution_count": 163,
   "id": "d37577cc-23e4-46ba-a518-64a9cd294c43",
   "metadata": {},
   "outputs": [
    {
     "data": {
      "text/plain": [
       "array([[-0.95594415, -0.93170754, -0.99610944, -0.87208535],\n",
       "       [ 0.04405585,  0.06829246,  0.00389056,  0.12791465],\n",
       "       [ 0.16931889,  0.07571888,  0.02124904,  0.15286128],\n",
       "       [ 0.18734396,  0.10538287,  0.20644971,  0.40179112],\n",
       "       [ 0.19678021,  0.16871066,  0.20921114,  0.54483702],\n",
       "       [ 0.43392094,  0.37963735,  0.32350247,  0.59776738],\n",
       "       [ 0.49296368,  0.4496789 ,  0.33178965,  0.61541489],\n",
       "       [ 0.5609859 ,  0.53136119,  0.66090273,  0.64236863],\n",
       "       [ 0.80977562,  0.82066533,  0.76382527,  0.65676526],\n",
       "       [ 0.81133329,  0.86064064,  0.81691841,  0.71558217],\n",
       "       [ 0.95483283,  0.91380815,  0.95844583,  0.79637636],\n",
       "       [ 1.95483283,  1.91380815,  1.95844583,  1.79637636]])"
      ]
     },
     "execution_count": 163,
     "metadata": {},
     "output_type": "execute_result"
    }
   ],
   "source": [
    "np.vstack((sorted_x[0]-1, sorted_x, sorted_x[-1]+1 ))"
   ]
  },
  {
   "cell_type": "code",
   "execution_count": 164,
   "id": "10cea3b9-3bff-48ad-baad-8bed3447e827",
   "metadata": {},
   "outputs": [
    {
     "data": {
      "text/plain": [
       "array([[1., 1., 0., 0., 0., 0., 0., 0., 0., 0., 0., 0.],\n",
       "       [0., 1., 1., 0., 0., 0., 0., 0., 0., 0., 0., 0.],\n",
       "       [0., 0., 1., 1., 0., 0., 0., 0., 0., 0., 0., 0.],\n",
       "       [0., 0., 0., 1., 1., 0., 0., 0., 0., 0., 0., 0.],\n",
       "       [0., 0., 0., 0., 1., 1., 0., 0., 0., 0., 0., 0.],\n",
       "       [0., 0., 0., 0., 0., 1., 1., 0., 0., 0., 0., 0.],\n",
       "       [0., 0., 0., 0., 0., 0., 1., 1., 0., 0., 0., 0.],\n",
       "       [0., 0., 0., 0., 0., 0., 0., 1., 1., 0., 0., 0.],\n",
       "       [0., 0., 0., 0., 0., 0., 0., 0., 1., 1., 0., 0.],\n",
       "       [0., 0., 0., 0., 0., 0., 0., 0., 0., 1., 1., 0.],\n",
       "       [0., 0., 0., 0., 0., 0., 0., 0., 0., 0., 1., 1.]])"
      ]
     },
     "execution_count": 164,
     "metadata": {},
     "output_type": "execute_result"
    }
   ],
   "source": [
    "np.triu(np.tri(m+2, k=1))[:-1]"
   ]
  },
  {
   "cell_type": "code",
   "execution_count": 165,
   "id": "9711d7bc-e1de-435e-b8db-402cbe80e6f7",
   "metadata": {},
   "outputs": [],
   "source": [
    "theta = 0.5 * np.triu(np.tri(m+2, k=1))[:-1] @ np.vstack((sorted_x[0]-1, sorted_x, sorted_x[-1]+1 ))"
   ]
  },
  {
   "cell_type": "code",
   "execution_count": 168,
   "id": "42445e43-e16c-42b8-a1df-7640147b161a",
   "metadata": {},
   "outputs": [
    {
     "data": {
      "text/plain": [
       "(array([[-0.45594415, -0.43170754, -0.49610944, -0.37208535],\n",
       "        [ 0.10668737,  0.07200567,  0.0125698 ,  0.14038797],\n",
       "        [ 0.17833143,  0.09055088,  0.11384937,  0.2773262 ],\n",
       "        [ 0.19206209,  0.13704677,  0.20783043,  0.47331407],\n",
       "        [ 0.31535057,  0.274174  ,  0.26635681,  0.5713022 ],\n",
       "        [ 0.46344231,  0.41465812,  0.32764606,  0.60659113],\n",
       "        [ 0.52697479,  0.49052005,  0.49634619,  0.62889176],\n",
       "        [ 0.68538076,  0.67601326,  0.712364  ,  0.64956694],\n",
       "        [ 0.81055445,  0.84065298,  0.79037184,  0.68617372],\n",
       "        [ 0.88308306,  0.88722439,  0.88768212,  0.75597926],\n",
       "        [ 1.45483283,  1.41380815,  1.45844583,  1.29637636]]),\n",
       " (11, 4))"
      ]
     },
     "execution_count": 168,
     "metadata": {},
     "output_type": "execute_result"
    }
   ],
   "source": [
    "theta, theta.shape"
   ]
  },
  {
   "cell_type": "code",
   "execution_count": 169,
   "id": "ffa8fba8-9c39-41c0-a097-17e55ba5ef4c",
   "metadata": {},
   "outputs": [
    {
     "data": {
      "text/plain": [
       "(array([[0.81133329, 0.10538287, 0.76382527, 0.79637636],\n",
       "        [0.80977562, 0.37963735, 0.33178965, 0.61541489],\n",
       "        [0.43392094, 0.91380815, 0.00389056, 0.71558217],\n",
       "        [0.19678021, 0.07571888, 0.32350247, 0.65676526],\n",
       "        [0.49296368, 0.86064064, 0.20644971, 0.54483702],\n",
       "        [0.04405585, 0.53136119, 0.95844583, 0.15286128],\n",
       "        [0.18734396, 0.82066533, 0.02124904, 0.12791465],\n",
       "        [0.95483283, 0.4496789 , 0.81691841, 0.59776738],\n",
       "        [0.16931889, 0.16871066, 0.66090273, 0.40179112],\n",
       "        [0.5609859 , 0.06829246, 0.20921114, 0.64236863]]),\n",
       " (10, 4))"
      ]
     },
     "execution_count": 169,
     "metadata": {},
     "output_type": "execute_result"
    }
   ],
   "source": [
    "x, x.shape"
   ]
  },
  {
   "cell_type": "code",
   "execution_count": 197,
   "id": "bd794ebd-4730-4dfb-bb78-cf844ccad1a5",
   "metadata": {},
   "outputs": [
    {
     "data": {
      "text/plain": [
       "array([[ 0.81133329,  0.10538287,  0.76382527,  0.79637636,  1.        ],\n",
       "       [ 0.80977562,  0.37963735,  0.33178965,  0.61541489, -1.        ],\n",
       "       [ 0.43392094,  0.91380815,  0.00389056,  0.71558217, -1.        ],\n",
       "       [ 0.19678021,  0.07571888,  0.32350247,  0.65676526,  1.        ],\n",
       "       [ 0.49296368,  0.86064064,  0.20644971,  0.54483702, -1.        ],\n",
       "       [ 0.04405585,  0.53136119,  0.95844583,  0.15286128,  1.        ],\n",
       "       [ 0.18734396,  0.82066533,  0.02124904,  0.12791465, -1.        ],\n",
       "       [ 0.95483283,  0.4496789 ,  0.81691841,  0.59776738, -1.        ],\n",
       "       [ 0.16931889,  0.16871066,  0.66090273,  0.40179112, -1.        ],\n",
       "       [ 0.5609859 ,  0.06829246,  0.20921114,  0.64236863,  1.        ]])"
      ]
     },
     "execution_count": 197,
     "metadata": {},
     "output_type": "execute_result"
    }
   ],
   "source": [
    "y = np.random.choice([-1,1], (m))\n",
    "z = np.concatenate( (x,y.reshape(m,1)), axis = 1)\n",
    "z"
   ]
  },
  {
   "cell_type": "code",
   "execution_count": 182,
   "id": "6c4aab82-cfbc-4a66-85bd-eeff23a74c29",
   "metadata": {},
   "outputs": [],
   "source": [
    "toy_x =  x[:,0]\n",
    "toy_z = z[:,[0,-1]]\n",
    "toy_theta =  theta[:,0]"
   ]
  },
  {
   "cell_type": "code",
   "execution_count": 188,
   "id": "45ecc3a8-3ae3-4632-9437-9904aaf8ae9f",
   "metadata": {},
   "outputs": [
    {
     "data": {
      "text/plain": [
       "-1"
      ]
     },
     "execution_count": 188,
     "metadata": {},
     "output_type": "execute_result"
    }
   ],
   "source": [
    "F = np.inf\n",
    "def stump(x, theta,b):\n",
    "    return b*(x>theta)\n",
    "stump(5,2,-1)"
   ]
  },
  {
   "cell_type": "code",
   "execution_count": 202,
   "id": "5bbdeaa1-4a64-44e6-98d5-47d1c38146fe",
   "metadata": {},
   "outputs": [
    {
     "data": {
      "text/plain": [
       "[1, 1, 0, 1, -1, -1, -1, -1, -1, -1]"
      ]
     },
     "execution_count": 202,
     "metadata": {},
     "output_type": "execute_result"
    }
   ],
   "source": [
    "[stump(val,0.1,1) for val in toy_x[y==1]] + [stump(val,0.1,-1) for val in toy_x[y==-1]]"
   ]
  },
  {
   "cell_type": "code",
   "execution_count": 204,
   "id": "9147f355-ad3a-4acf-8c77-f255ccd22f0e",
   "metadata": {},
   "outputs": [
    {
     "data": {
      "text/plain": [
       "[True, False, False, True, True, False, False, False, True, False]"
      ]
     },
     "execution_count": 204,
     "metadata": {},
     "output_type": "execute_result"
    }
   ],
   "source": [
    "[val>0.5 for val in toy_x[y==1]] + [val>0.5 for val in toy_x[y==-1]]"
   ]
  },
  {
   "cell_type": "code",
   "execution_count": 224,
   "id": "73ebe08e-1ffa-4e22-9cb2-6c8b1a2dc111",
   "metadata": {},
   "outputs": [],
   "source": [
    "def F(z,theta,b):\n",
    "    c_pos=[(xv>theta) for xv in toy_z[toy_z[:,1]==1, 0]]\n",
    "    c_neg=[(xv<=theta) for xv in toy_z[toy_z[:,1]==-1, 0]]\n",
    "    c = c_pos+c_neg\n",
    "    return sum(c) if b==1 else z.shape[0] - sum(c)"
   ]
  },
  {
   "cell_type": "code",
   "execution_count": 244,
   "id": "08c992ff-ee5b-477d-aaff-e452432e46b9",
   "metadata": {},
   "outputs": [],
   "source": [
    "Fs = np.array([[F(toy_z,t,b) for t in toy_theta ] for b in (-1,1)])"
   ]
  },
  {
   "cell_type": "code",
   "execution_count": 245,
   "id": "673ff400-2e0a-461d-afe2-b3622ff24cbf",
   "metadata": {},
   "outputs": [
    {
     "data": {
      "text/plain": [
       "(1, 7)"
      ]
     },
     "execution_count": 245,
     "metadata": {},
     "output_type": "execute_result"
    }
   ],
   "source": [
    "np.unravel_index(np.argmin(Fs), Fs.shape)"
   ]
  },
  {
   "cell_type": "code",
   "execution_count": 246,
   "id": "1d977e2c-40bc-40e0-b239-f0028771fb31",
   "metadata": {},
   "outputs": [],
   "source": [
    "def best_params(z,theta):\n",
    "    Fs =  np.array([[F(z,t,b) for t in theta] for b in (-1,1)])\n",
    "    best_row, best_col = np.unravel_index(np.argmin(Fs), Fs.shape)\n",
    "    best_b = best_row*2 -1\n",
    "    best_theta = theta[best_col]\n",
    "    return best_b, best_theta"
   ]
  },
  {
   "cell_type": "code",
   "execution_count": 247,
   "id": "713c3055-1514-4ca6-94de-58a8767c179e",
   "metadata": {},
   "outputs": [
    {
     "data": {
      "text/plain": [
       "(1, 0.685380758109065)"
      ]
     },
     "execution_count": 247,
     "metadata": {},
     "output_type": "execute_result"
    }
   ],
   "source": [
    "best_params(toy_z,toy_theta)"
   ]
  },
  {
   "cell_type": "markdown",
   "id": "f11a2e45-7a80-4f5b-8a0d-babd8bbc36bb",
   "metadata": {},
   "source": [
    "## putting all these together"
   ]
  },
  {
   "cell_type": "code",
   "execution_count": 253,
   "id": "106f8dcc-126c-4861-a2d8-1112b3b35274",
   "metadata": {},
   "outputs": [
    {
     "data": {
      "text/plain": [
       "(array([[0.53948496, 0.00694566, 0.2027294 , 0.14133497],\n",
       "        [0.95157251, 0.466502  , 0.98350129, 0.5551404 ],\n",
       "        [0.97365429, 0.76847735, 0.4407016 , 0.88672255],\n",
       "        [0.67011254, 0.9001997 , 0.20384571, 0.81875743],\n",
       "        [0.97811317, 0.66123422, 0.64162618, 0.45398309]]),\n",
       " array([[0, 0, 0, 0],\n",
       "        [3, 1, 3, 4],\n",
       "        [1, 4, 2, 1],\n",
       "        [2, 2, 4, 3],\n",
       "        [4, 3, 1, 2]], dtype=int64),\n",
       " array([ 1, -1, -1,  1,  1]),\n",
       " array([[ 0.53948496,  0.00694566,  0.2027294 ,  0.14133497,  1.        ],\n",
       "        [ 0.95157251,  0.466502  ,  0.98350129,  0.5551404 , -1.        ],\n",
       "        [ 0.97365429,  0.76847735,  0.4407016 ,  0.88672255, -1.        ],\n",
       "        [ 0.67011254,  0.9001997 ,  0.20384571,  0.81875743,  1.        ],\n",
       "        [ 0.97811317,  0.66123422,  0.64162618,  0.45398309,  1.        ]]))"
      ]
     },
     "execution_count": 253,
     "metadata": {},
     "output_type": "execute_result"
    }
   ],
   "source": [
    "m,d = 5,4\n",
    "x = np.random.rand(m,d)\n",
    "o = np.argsort(x, axis = 0) \n",
    "y = np.random.choice([-1,1], (m))\n",
    "z = np.concatenate( (x,y.reshape(m,1)), axis = 1)\n",
    "x, o, y, z"
   ]
  },
  {
   "cell_type": "code",
   "execution_count": 254,
   "id": "7f9d0d77-6cb7-4ece-9793-83a49d7322ba",
   "metadata": {},
   "outputs": [
    {
     "data": {
      "text/plain": [
       "(array([[0.53948496, 0.00694566, 0.2027294 , 0.14133497],\n",
       "        [0.67011254, 0.466502  , 0.20384571, 0.45398309],\n",
       "        [0.95157251, 0.66123422, 0.4407016 , 0.5551404 ],\n",
       "        [0.97365429, 0.76847735, 0.64162618, 0.81875743],\n",
       "        [0.97811317, 0.9001997 , 0.98350129, 0.88672255]]),\n",
       " array([[ 0.03948496, -0.49305434, -0.2972706 , -0.35866503],\n",
       "        [ 0.60479875,  0.23672383,  0.20328755,  0.29765903],\n",
       "        [ 0.81084252,  0.56386811,  0.32227365,  0.50456175],\n",
       "        [ 0.9626134 ,  0.71485578,  0.54116389,  0.68694892],\n",
       "        [ 0.97588373,  0.83433853,  0.81256374,  0.85273999],\n",
       "        [ 1.47811317,  1.4001997 ,  1.48350129,  1.38672255]]))"
      ]
     },
     "execution_count": 254,
     "metadata": {},
     "output_type": "execute_result"
    }
   ],
   "source": [
    "sorted_x = np.array([x[o[:,i], i] for i in range(x.shape[1])]).T\n",
    "theta = 0.5 * np.triu(np.tri(m+2, k=1))[:-1] @ np.vstack((sorted_x[0]-1, sorted_x, sorted_x[-1]+1 ))\n",
    "sorted_x, theta"
   ]
  },
  {
   "cell_type": "code",
   "execution_count": 258,
   "id": "4f96d246-ea19-4d95-83f1-3dddf2beff09",
   "metadata": {},
   "outputs": [],
   "source": [
    "def F(z,theta,b,j):\n",
    "    loss_pos=[(xv>theta) for xv in z[z[:,-1]==1, j]]\n",
    "    loss_neg=[(xv<=theta) for xv in z[z[:,-1]==-1, j]]\n",
    "    loss = loss_pos+loss_neg\n",
    "    return sum(loss) if b==1 else z.shape[0] - sum(loss)\n",
    "\n",
    "def best_params(z,theta):\n",
    "    Fs =  np.array([[F(z,t,b) for t in theta] for b in (-1,1)])\n",
    "    best_row, best_col = np.unravel_index(np.argmin(Fs), Fs.shape)\n",
    "    best_b = best_row*2 -1\n",
    "    best_theta = theta[best_col]\n",
    "    return best_b, best_theta"
   ]
  },
  {
   "cell_type": "code",
   "execution_count": 260,
   "id": "4ad9caa4-1be7-40c1-91b4-82069d82cdd4",
   "metadata": {},
   "outputs": [
    {
     "data": {
      "text/plain": [
       "3"
      ]
     },
     "execution_count": 260,
     "metadata": {},
     "output_type": "execute_result"
    }
   ],
   "source": [
    "F(z,theta[0,0],1,0)"
   ]
  },
  {
   "cell_type": "code",
   "execution_count": null,
   "id": "1bc190d4-ae65-4506-b40d-cc517b4eef28",
   "metadata": {},
   "outputs": [],
   "source": []
  }
 ],
 "metadata": {
  "kernelspec": {
   "display_name": "Python 3 (ipykernel)",
   "language": "python",
   "name": "python3"
  },
  "language_info": {
   "codemirror_mode": {
    "name": "ipython",
    "version": 3
   },
   "file_extension": ".py",
   "mimetype": "text/x-python",
   "name": "python",
   "nbconvert_exporter": "python",
   "pygments_lexer": "ipython3",
   "version": "3.11.4"
  }
 },
 "nbformat": 4,
 "nbformat_minor": 5
}
